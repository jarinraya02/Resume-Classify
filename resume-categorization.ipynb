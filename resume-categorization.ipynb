{
 "cells": [
  {
   "cell_type": "code",
   "execution_count": 1,
   "id": "a2a1a40b",
   "metadata": {
    "_cell_guid": "b1076dfc-b9ad-4769-8c92-a6c4dae69d19",
    "_uuid": "8f2839f25d086af736a60e9eeb907d3b93b6e0e5",
    "execution": {
     "iopub.execute_input": "2023-08-11T01:14:40.981180Z",
     "iopub.status.busy": "2023-08-11T01:14:40.980328Z",
     "iopub.status.idle": "2023-08-11T01:14:40.994172Z",
     "shell.execute_reply": "2023-08-11T01:14:40.993018Z"
    },
    "papermill": {
     "duration": 0.04407,
     "end_time": "2023-08-11T01:14:40.996789",
     "exception": false,
     "start_time": "2023-08-11T01:14:40.952719",
     "status": "completed"
    },
    "tags": []
   },
   "outputs": [],
   "source": [
    "import numpy as np \n",
    "import pandas as pd\n",
    "import os\n",
    "from matplotlib import pyplot as plt"
   ]
  },
  {
   "cell_type": "markdown",
   "id": "50d475c8",
   "metadata": {
    "papermill": {
     "duration": 0.025449,
     "end_time": "2023-08-11T01:14:41.047615",
     "exception": false,
     "start_time": "2023-08-11T01:14:41.022166",
     "status": "completed"
    },
    "tags": []
   },
   "source": [
    "# Reading the data and storing it into a dictionary"
   ]
  },
  {
   "cell_type": "code",
   "execution_count": 2,
   "id": "cbdeafe9",
   "metadata": {
    "execution": {
     "iopub.execute_input": "2023-08-11T01:14:41.101232Z",
     "iopub.status.busy": "2023-08-11T01:14:41.100590Z",
     "iopub.status.idle": "2023-08-11T01:14:41.975637Z",
     "shell.execute_reply": "2023-08-11T01:14:41.974537Z"
    },
    "papermill": {
     "duration": 0.90435,
     "end_time": "2023-08-11T01:14:41.978311",
     "exception": false,
     "start_time": "2023-08-11T01:14:41.073961",
     "status": "completed"
    },
    "tags": []
   },
   "outputs": [],
   "source": [
    "root='D:\\Raya\\Machine_Learning_Course\\Resume classyfy'\n",
    "data={}\n",
    "for i in os.listdir(root):\n",
    "    for j in os.walk(root+i):\n",
    "        for k in j[2]:\n",
    "            data[root+i+'/'+k]=i"
   ]
  },
  {
   "cell_type": "markdown",
   "id": "557076b3",
   "metadata": {
    "papermill": {
     "duration": 0.02541,
     "end_time": "2023-08-11T01:14:42.029597",
     "exception": false,
     "start_time": "2023-08-11T01:14:42.004187",
     "status": "completed"
    },
    "tags": []
   },
   "source": [
    "# Converting data dictionary to pandas dataframe"
   ]
  },
  {
   "cell_type": "code",
   "execution_count": 3,
   "id": "d3ce7731",
   "metadata": {
    "execution": {
     "iopub.execute_input": "2023-08-11T01:14:42.082188Z",
     "iopub.status.busy": "2023-08-11T01:14:42.081776Z",
     "iopub.status.idle": "2023-08-11T01:14:42.102820Z",
     "shell.execute_reply": "2023-08-11T01:14:42.101829Z"
    },
    "papermill": {
     "duration": 0.050032,
     "end_time": "2023-08-11T01:14:42.105118",
     "exception": false,
     "start_time": "2023-08-11T01:14:42.055086",
     "status": "completed"
    },
    "tags": []
   },
   "outputs": [
    {
     "data": {
      "text/html": [
       "<div>\n",
       "<style scoped>\n",
       "    .dataframe tbody tr th:only-of-type {\n",
       "        vertical-align: middle;\n",
       "    }\n",
       "\n",
       "    .dataframe tbody tr th {\n",
       "        vertical-align: top;\n",
       "    }\n",
       "\n",
       "    .dataframe thead th {\n",
       "        text-align: right;\n",
       "    }\n",
       "</style>\n",
       "<table border=\"1\" class=\"dataframe\">\n",
       "  <thead>\n",
       "    <tr style=\"text-align: right;\">\n",
       "      <th></th>\n",
       "      <th>file</th>\n",
       "      <th>type</th>\n",
       "    </tr>\n",
       "  </thead>\n",
       "  <tbody>\n",
       "    <tr>\n",
       "      <th>0</th>\n",
       "      <td>/kaggle/input/resume-dataset/data/data/DESIGNE...</td>\n",
       "      <td>DESIGNER</td>\n",
       "    </tr>\n",
       "    <tr>\n",
       "      <th>1</th>\n",
       "      <td>/kaggle/input/resume-dataset/data/data/DESIGNE...</td>\n",
       "      <td>DESIGNER</td>\n",
       "    </tr>\n",
       "    <tr>\n",
       "      <th>2</th>\n",
       "      <td>/kaggle/input/resume-dataset/data/data/DESIGNE...</td>\n",
       "      <td>DESIGNER</td>\n",
       "    </tr>\n",
       "    <tr>\n",
       "      <th>3</th>\n",
       "      <td>/kaggle/input/resume-dataset/data/data/DESIGNE...</td>\n",
       "      <td>DESIGNER</td>\n",
       "    </tr>\n",
       "    <tr>\n",
       "      <th>4</th>\n",
       "      <td>/kaggle/input/resume-dataset/data/data/DESIGNE...</td>\n",
       "      <td>DESIGNER</td>\n",
       "    </tr>\n",
       "  </tbody>\n",
       "</table>\n",
       "</div>"
      ],
      "text/plain": [
       "                                                file      type\n",
       "0  /kaggle/input/resume-dataset/data/data/DESIGNE...  DESIGNER\n",
       "1  /kaggle/input/resume-dataset/data/data/DESIGNE...  DESIGNER\n",
       "2  /kaggle/input/resume-dataset/data/data/DESIGNE...  DESIGNER\n",
       "3  /kaggle/input/resume-dataset/data/data/DESIGNE...  DESIGNER\n",
       "4  /kaggle/input/resume-dataset/data/data/DESIGNE...  DESIGNER"
      ]
     },
     "execution_count": 3,
     "metadata": {},
     "output_type": "execute_result"
    }
   ],
   "source": [
    "data=pd.DataFrame(data.items(),columns=['file','type'])\n",
    "data.head()"
   ]
  },
  {
   "cell_type": "markdown",
   "id": "f74f423d",
   "metadata": {
    "papermill": {
     "duration": 0.025926,
     "end_time": "2023-08-11T01:14:42.156489",
     "exception": false,
     "start_time": "2023-08-11T01:14:42.130563",
     "status": "completed"
    },
    "tags": []
   },
   "source": [
    "# Data Distribution Visualization"
   ]
  },
  {
   "cell_type": "code",
   "execution_count": 4,
   "id": "ea8baabd",
   "metadata": {
    "execution": {
     "iopub.execute_input": "2023-08-11T01:14:42.208391Z",
     "iopub.status.busy": "2023-08-11T01:14:42.207487Z",
     "iopub.status.idle": "2023-08-11T01:14:42.725388Z",
     "shell.execute_reply": "2023-08-11T01:14:42.724373Z"
    },
    "papermill": {
     "duration": 0.546231,
     "end_time": "2023-08-11T01:14:42.727772",
     "exception": false,
     "start_time": "2023-08-11T01:14:42.181541",
     "status": "completed"
    },
    "tags": []
   },
   "outputs": [
    {
     "data": {
      "text/plain": [
       "<Axes: >"
      ]
     },
     "execution_count": 4,
     "metadata": {},
     "output_type": "execute_result"
    },
    {
     "data": {
      "image/png": "[encoded data removed]",
      "text/plain": [
       "<Figure size 640x480 with 1 Axes>"
      ]
     },
     "metadata": {},
     "output_type": "display_data"
    }
   ],
   "source": [
    "count_=data['type'].value_counts()\n",
    "count_.plot(kind='bar', color='r', alpha=.5)"
   ]
  },
  {
   "cell_type": "markdown",
   "id": "d22251c3",
   "metadata": {
    "papermill": {
     "duration": 0.02602,
     "end_time": "2023-08-11T01:14:42.780877",
     "exception": false,
     "start_time": "2023-08-11T01:14:42.754857",
     "status": "completed"
    },
    "tags": []
   },
   "source": [
    "# Reading Data from PDF Files"
   ]
  },
  {
   "cell_type": "code",
   "execution_count": 5,
   "id": "08288dd8",
   "metadata": {
    "execution": {
     "iopub.execute_input": "2023-08-11T01:14:42.836019Z",
     "iopub.status.busy": "2023-08-11T01:14:42.835062Z",
     "iopub.status.idle": "2023-08-11T01:14:59.242575Z",
     "shell.execute_reply": "2023-08-11T01:14:59.241300Z"
    },
    "papermill": {
     "duration": 16.437828,
     "end_time": "2023-08-11T01:14:59.245361",
     "exception": false,
     "start_time": "2023-08-11T01:14:42.807533",
     "status": "completed"
    },
    "tags": []
   },
   "outputs": [
    {
     "name": "stdout",
     "output_type": "stream",
     "text": [
      "Collecting tika\r\n",
      "  Downloading tika-2.6.0.tar.gz (27 kB)\r\n",
      "  Preparing metadata (setup.py) ... \u001b[?25l-\b \b\\\b \bdone\r\n",
      "\u001b[?25hRequirement already satisfied: setuptools in /opt/conda/lib/python3.10/site-packages (from tika) (59.8.0)\r\n",
      "Requirement already satisfied: requests in /opt/conda/lib/python3.10/site-packages (from tika) (2.31.0)\r\n",
      "Requirement already satisfied: charset-normalizer<4,>=2 in /opt/conda/lib/python3.10/site-packages (from requests->tika) (3.1.0)\r\n",
      "Requirement already satisfied: idna<4,>=2.5 in /opt/conda/lib/python3.10/site-packages (from requests->tika) (3.4)\r\n",
      "Requirement already satisfied: urllib3<3,>=1.21.1 in /opt/conda/lib/python3.10/site-packages (from requests->tika) (1.26.15)\r\n",
      "Requirement already satisfied: certifi>=2017.4.17 in /opt/conda/lib/python3.10/site-packages (from requests->tika) (2023.5.7)\r\n",
      "Building wheels for collected packages: tika\r\n",
      "  Building wheel for tika (setup.py) ... \u001b[?25l-\b \b\\\b \b|\b \bdone\r\n",
      "\u001b[?25h  Created wheel for tika: filename=tika-2.6.0-py3-none-any.whl size=32642 sha256=0aeee112106e9d30babb383c083e8609fa666cf80374d5c28d1616c266ea49a5\r\n",
      "  Stored in directory: /root/.cache/pip/wheels/5f/71/c7/b757709531121b1700cffda5b6b0d4aad095fb507ec84316d0\r\n",
      "Successfully built tika\r\n",
      "Installing collected packages: tika\r\n",
      "Successfully installed tika-2.6.0\r\n"
     ]
    }
   ],
   "source": [
    "! pip install tika\n",
    "from tika import parser "
   ]
  },
  {
   "cell_type": "code",
   "execution_count": 6,
   "id": "789d8efb",
   "metadata": {
    "execution": {
     "iopub.execute_input": "2023-08-11T01:14:59.303060Z",
     "iopub.status.busy": "2023-08-11T01:14:59.302657Z",
     "iopub.status.idle": "2023-08-11T01:16:53.942541Z",
     "shell.execute_reply": "2023-08-11T01:16:53.941264Z"
    },
    "papermill": {
     "duration": 114.671972,
     "end_time": "2023-08-11T01:16:53.945484",
     "exception": false,
     "start_time": "2023-08-11T01:14:59.273512",
     "status": "completed"
    },
    "tags": []
   },
   "outputs": [
    {
     "name": "stderr",
     "output_type": "stream",
     "text": [
      "2023-08-11 01:14:59,308 [MainThread  ] [INFO ]  Retrieving http://search.maven.org/remotecontent?filepath=org/apache/tika/tika-server-standard/2.6.0/tika-server-standard-2.6.0.jar to /tmp/tika-server.jar.\n",
      "2023-08-11 01:14:59,809 [MainThread  ] [INFO ]  Retrieving http://search.maven.org/remotecontent?filepath=org/apache/tika/tika-server-standard/2.6.0/tika-server-standard-2.6.0.jar.md5 to /tmp/tika-server.jar.md5.\n",
      "2023-08-11 01:15:00,137 [MainThread  ] [WARNI]  Failed to see startup log message; retrying...\n"
     ]
    }
   ],
   "source": [
    "texts_cv=[]\n",
    "empty_cv=[]\n",
    "for i in range(len(data)):\n",
    "    raw = parser.from_file(data.iloc[i]['file'])\n",
    "    try:\n",
    "        texts_cv.append(raw['content'].replace('\\n',' '))\n",
    "    except:\n",
    "        texts_cv.append('')\n",
    "        empty_cv.append(i)\n",
    "        "
   ]
  },
  {
   "cell_type": "code",
   "execution_count": 7,
   "id": "ec53a95c",
   "metadata": {
    "execution": {
     "iopub.execute_input": "2023-08-11T01:16:54.006662Z",
     "iopub.status.busy": "2023-08-11T01:16:54.004795Z",
     "iopub.status.idle": "2023-08-11T01:16:54.014077Z",
     "shell.execute_reply": "2023-08-11T01:16:54.012849Z"
    },
    "papermill": {
     "duration": 0.042028,
     "end_time": "2023-08-11T01:16:54.016935",
     "exception": false,
     "start_time": "2023-08-11T01:16:53.974907",
     "status": "completed"
    },
    "tags": []
   },
   "outputs": [
    {
     "data": {
      "text/plain": [
       "'                                PRE-PRESS GRAPHIC DESIGNER Summary Creative, hardworking designer seeking a full-time desktop job, educated as a graphic artist, past experience in business world as a desktop publisher laying out designs for printed mail and advertisements, in local government designing new websites with graphics for different agencies within the system, and later for the same government printing and reproduction center creating documents to be printed off a press or copiers. Skills  Adobe InDesign, Photoshop, Illustrator, and Acrobat Professional Strongly familiar with Microsoft Word, Excel, PowerPoint, and Publisher / also QuarkXPress Basic knowledge of web development with Adobe Dreamweaver, HTML, WordPress Able to perform graphic design and administrative functions Able to work as a team player and independently Experienced using phone, fax, email, copiers and printers Provides excellent customer service (in-person, by phone, email, or interoffice mail) Prioritizes and calmly handles multiple projects and requests Listens to directions, takes notes for later reference, follows procedures Knowledge of design setup on computer for jobs to be printed by outside vender or in-office copiers  Experience 01/2008 to Current Pre-Press Graphic Designer Company Name ï¼\\u200b City , State  Create new designs for variety of items like manuals, newsletters, and posters. Use templates for updated documents like envelopes, letterheads, and business cards. Proof jobs for initial and final customer approval. Manufactures a high-quality PDF file digitally for proofing, photocopying and offset printing. Performs file backup and organizes system for easy recovery. Maintains and monitors supply inventory and orders items when needed. Operates photocopying equipment, includes sending approved documents to printer. Assists in the bindery department, using the folder and manual paper cutter for small jobs. Also can use bindery equipment, like the fastback and GBC binding of spines. Mounts and laminates to foam boards, manually trims to size. Ensures timely submission of files to production.  04/2000 to 01/2008 Web Designer Company Name ï¼\\u200b City , State  Created new sites and made updates to current sites; created graphics to use on web pages; scanned documents and converted digital files for links on sites; maintained updates and corrections on sites; answered email and phone call requests from departments about site changes; proofed pages with emails before sending live to internet.  06/1998 to 02/2000 Desktop Publisher Company Name ï¼\\u200b City , State  Performed set-up and conversion of documents from Mac to PC then to UNIX systems; used QuarkXPress on Mac for the set-up of many jobs; sent to network to be used by programmers for \"targeted\" direct mail printouts; trained new team staff members; helped with clean-up when company shut down.  06/1997 to 03/2000 Graphic Designer Company Name ï¼\\u200b City , State  Temporary office jobs using Macintosh computers to design files to be printed for various companies like:. Alltel Publishing. Cleveland School District. HKM Marketing Communications. Nationwide Advertising.  Education and Training May 1997 Bachelor of Fine Arts Alfred University ï¼\\u200b City , State Work History Company Name Skills administrative functions, Acrobat, Adobe Dreamweaver, Photoshop, Advertising, backup, Basic, business cards, conversion, excellent customer service, direct mail, email, fax, graphic design, graphics, HTML, Illustrator, Adobe InDesign, Mac, Macintosh computers, Marketing Communications, Excel, mail, office, PowerPoint, Publisher, Microsoft Word, monitors, network, newsletters, takes notes, PDF, copiers, posters, printer, printers, proofing, quality, QuarkXPress, supply inventory, team player, phone, UNIX, web development, web pages   '"
      ]
     },
     "execution_count": 7,
     "metadata": {},
     "output_type": "execute_result"
    }
   ],
   "source": [
    "texts_cv[0] # sample cv text"
   ]
  },
  {
   "cell_type": "code",
   "execution_count": 8,
   "id": "6c0a9e33",
   "metadata": {
    "execution": {
     "iopub.execute_input": "2023-08-11T01:16:54.079118Z",
     "iopub.status.busy": "2023-08-11T01:16:54.078742Z",
     "iopub.status.idle": "2023-08-11T01:16:54.085320Z",
     "shell.execute_reply": "2023-08-11T01:16:54.084333Z"
    },
    "papermill": {
     "duration": 0.041748,
     "end_time": "2023-08-11T01:16:54.087634",
     "exception": false,
     "start_time": "2023-08-11T01:16:54.045886",
     "status": "completed"
    },
    "tags": []
   },
   "outputs": [
    {
     "data": {
      "text/plain": [
       "1"
      ]
     },
     "execution_count": 8,
     "metadata": {},
     "output_type": "execute_result"
    }
   ],
   "source": [
    "len(empty_cv)"
   ]
  },
  {
   "cell_type": "code",
   "execution_count": 9,
   "id": "f398cc74",
   "metadata": {
    "execution": {
     "iopub.execute_input": "2023-08-11T01:16:54.146942Z",
     "iopub.status.busy": "2023-08-11T01:16:54.146035Z",
     "iopub.status.idle": "2023-08-11T01:16:54.152886Z",
     "shell.execute_reply": "2023-08-11T01:16:54.151926Z"
    },
    "papermill": {
     "duration": 0.039348,
     "end_time": "2023-08-11T01:16:54.155307",
     "exception": false,
     "start_time": "2023-08-11T01:16:54.115959",
     "status": "completed"
    },
    "tags": []
   },
   "outputs": [],
   "source": [
    "data['text']=texts_cv"
   ]
  },
  {
   "cell_type": "markdown",
   "id": "20f16f04",
   "metadata": {
    "papermill": {
     "duration": 0.028414,
     "end_time": "2023-08-11T01:16:54.212662",
     "exception": false,
     "start_time": "2023-08-11T01:16:54.184248",
     "status": "completed"
    },
    "tags": []
   },
   "source": [
    "# Dropping Empty CV"
   ]
  },
  {
   "cell_type": "code",
   "execution_count": 10,
   "id": "96f3074a",
   "metadata": {
    "execution": {
     "iopub.execute_input": "2023-08-11T01:16:54.272284Z",
     "iopub.status.busy": "2023-08-11T01:16:54.271928Z",
     "iopub.status.idle": "2023-08-11T01:16:54.280883Z",
     "shell.execute_reply": "2023-08-11T01:16:54.279764Z"
    },
    "papermill": {
     "duration": 0.041336,
     "end_time": "2023-08-11T01:16:54.283653",
     "exception": false,
     "start_time": "2023-08-11T01:16:54.242317",
     "status": "completed"
    },
    "tags": []
   },
   "outputs": [],
   "source": [
    "data=data.drop(empty_cv)"
   ]
  },
  {
   "cell_type": "markdown",
   "id": "b18627de",
   "metadata": {
    "papermill": {
     "duration": 0.027408,
     "end_time": "2023-08-11T01:16:54.341614",
     "exception": false,
     "start_time": "2023-08-11T01:16:54.314206",
     "status": "completed"
    },
    "tags": []
   },
   "source": [
    "# EDA on CV Content"
   ]
  },
  {
   "cell_type": "code",
   "execution_count": 11,
   "id": "d5bdf3b7",
   "metadata": {
    "execution": {
     "iopub.execute_input": "2023-08-11T01:16:54.398996Z",
     "iopub.status.busy": "2023-08-11T01:16:54.398630Z",
     "iopub.status.idle": "2023-08-11T01:16:54.404303Z",
     "shell.execute_reply": "2023-08-11T01:16:54.403247Z"
    },
    "papermill": {
     "duration": 0.037641,
     "end_time": "2023-08-11T01:16:54.406680",
     "exception": false,
     "start_time": "2023-08-11T01:16:54.369039",
     "status": "completed"
    },
    "tags": []
   },
   "outputs": [],
   "source": [
    "cv_length=[len(i) for i in texts_cv]"
   ]
  },
  {
   "cell_type": "code",
   "execution_count": 12,
   "id": "bf0f135f",
   "metadata": {
    "execution": {
     "iopub.execute_input": "2023-08-11T01:16:54.465369Z",
     "iopub.status.busy": "2023-08-11T01:16:54.464949Z",
     "iopub.status.idle": "2023-08-11T01:16:54.872843Z",
     "shell.execute_reply": "2023-08-11T01:16:54.871810Z"
    },
    "papermill": {
     "duration": 0.439579,
     "end_time": "2023-08-11T01:16:54.875187",
     "exception": false,
     "start_time": "2023-08-11T01:16:54.435608",
     "status": "completed"
    },
    "tags": []
   },
   "outputs": [
    {
     "data": {
      "text/plain": [
       "Text(0.5, 1.0, 'CV length')"
      ]
     },
     "execution_count": 12,
     "metadata": {},
     "output_type": "execute_result"
    },
    {
     "data": {
      "image/png": "[encoded data removed]",
      "text/plain": [
       "<Figure size 640x480 with 1 Axes>"
      ]
     },
     "metadata": {},
     "output_type": "display_data"
    }
   ],
   "source": [
    "plt.hist(cv_length)\n",
    "plt.xlabel('cv sentence length')\n",
    "plt.ylabel('occurrences')\n",
    "plt.title('CV length')"
   ]
  },
  {
   "cell_type": "code",
   "execution_count": 13,
   "id": "d585af96",
   "metadata": {
    "execution": {
     "iopub.execute_input": "2023-08-11T01:16:54.935105Z",
     "iopub.status.busy": "2023-08-11T01:16:54.934755Z",
     "iopub.status.idle": "2023-08-11T01:16:54.946022Z",
     "shell.execute_reply": "2023-08-11T01:16:54.944715Z"
    },
    "papermill": {
     "duration": 0.045212,
     "end_time": "2023-08-11T01:16:54.949725",
     "exception": false,
     "start_time": "2023-08-11T01:16:54.904513",
     "status": "completed"
    },
    "tags": []
   },
   "outputs": [
    {
     "data": {
      "text/plain": [
       "(5993.578904991949, 2632.9068231874835)"
      ]
     },
     "execution_count": 13,
     "metadata": {},
     "output_type": "execute_result"
    }
   ],
   "source": [
    "import statistics\n",
    "mean = sum(cv_length) / len(cv_length) #mean\n",
    "std = statistics.pstdev(cv_length) #Standard deviation\n",
    "mean,std"
   ]
  },
  {
   "cell_type": "markdown",
   "id": "f39fcac0",
   "metadata": {
    "papermill": {
     "duration": 0.02778,
     "end_time": "2023-08-11T01:16:55.006367",
     "exception": false,
     "start_time": "2023-08-11T01:16:54.978587",
     "status": "completed"
    },
    "tags": []
   },
   "source": [
    "# Out of the range of (Mean +- 3*std) is considered outlier"
   ]
  },
  {
   "cell_type": "code",
   "execution_count": 14,
   "id": "64224814",
   "metadata": {
    "execution": {
     "iopub.execute_input": "2023-08-11T01:16:55.066782Z",
     "iopub.status.busy": "2023-08-11T01:16:55.066367Z",
     "iopub.status.idle": "2023-08-11T01:16:55.074974Z",
     "shell.execute_reply": "2023-08-11T01:16:55.074088Z"
    },
    "papermill": {
     "duration": 0.041687,
     "end_time": "2023-08-11T01:16:55.077221",
     "exception": false,
     "start_time": "2023-08-11T01:16:55.035534",
     "status": "completed"
    },
    "tags": []
   },
   "outputs": [
    {
     "data": {
      "text/plain": [
       "13892"
      ]
     },
     "execution_count": 14,
     "metadata": {},
     "output_type": "execute_result"
    }
   ],
   "source": [
    "vocab_size= int(mean+ (3*std))\n",
    "vocab_size"
   ]
  },
  {
   "cell_type": "markdown",
   "id": "2f4e0dc4",
   "metadata": {
    "papermill": {
     "duration": 0.027478,
     "end_time": "2023-08-11T01:16:55.139002",
     "exception": false,
     "start_time": "2023-08-11T01:16:55.111524",
     "status": "completed"
    },
    "tags": []
   },
   "source": [
    "# Data Splitting"
   ]
  },
  {
   "cell_type": "code",
   "execution_count": 15,
   "id": "24b46ad9",
   "metadata": {
    "execution": {
     "iopub.execute_input": "2023-08-11T01:16:55.196133Z",
     "iopub.status.busy": "2023-08-11T01:16:55.195771Z",
     "iopub.status.idle": "2023-08-11T01:16:55.204792Z",
     "shell.execute_reply": "2023-08-11T01:16:55.203769Z"
    },
    "papermill": {
     "duration": 0.039874,
     "end_time": "2023-08-11T01:16:55.206961",
     "exception": false,
     "start_time": "2023-08-11T01:16:55.167087",
     "status": "completed"
    },
    "tags": []
   },
   "outputs": [],
   "source": [
    "def split_data(data,ratio):\n",
    "    last=int(len(data)*ratio)\n",
    "    return data[:last], data[last:]\n",
    "\n",
    "data=data.sample(frac=1)\n",
    "train,test=split_data(data,.8)\n",
    "validation,train=split_data(data,.08)\n",
    "# train:validation:test=70:10:20"
   ]
  },
  {
   "cell_type": "markdown",
   "id": "ac98de98",
   "metadata": {
    "papermill": {
     "duration": 0.027875,
     "end_time": "2023-08-11T01:16:55.263496",
     "exception": false,
     "start_time": "2023-08-11T01:16:55.235621",
     "status": "completed"
    },
    "tags": []
   },
   "source": [
    "## Making sure each subset has all the classes"
   ]
  },
  {
   "cell_type": "code",
   "execution_count": 16,
   "id": "04ae9936",
   "metadata": {
    "execution": {
     "iopub.execute_input": "2023-08-11T01:16:55.320067Z",
     "iopub.status.busy": "2023-08-11T01:16:55.319718Z",
     "iopub.status.idle": "2023-08-11T01:16:55.328865Z",
     "shell.execute_reply": "2023-08-11T01:16:55.327741Z"
    },
    "papermill": {
     "duration": 0.040767,
     "end_time": "2023-08-11T01:16:55.332118",
     "exception": false,
     "start_time": "2023-08-11T01:16:55.291351",
     "status": "completed"
    },
    "tags": []
   },
   "outputs": [
    {
     "name": "stdout",
     "output_type": "stream",
     "text": [
      "24\n",
      "24\n",
      "24\n"
     ]
    }
   ],
   "source": [
    "print(len(train[\"type\"].value_counts()))\n",
    "print(len(test[\"type\"].value_counts()))\n",
    "print(len(validation[\"type\"].value_counts()))"
   ]
  },
  {
   "cell_type": "code",
   "execution_count": 17,
   "id": "1b34a76a",
   "metadata": {
    "execution": {
     "iopub.execute_input": "2023-08-11T01:16:55.389546Z",
     "iopub.status.busy": "2023-08-11T01:16:55.389201Z",
     "iopub.status.idle": "2023-08-11T01:16:55.394451Z",
     "shell.execute_reply": "2023-08-11T01:16:55.393457Z"
    },
    "papermill": {
     "duration": 0.036574,
     "end_time": "2023-08-11T01:16:55.396743",
     "exception": false,
     "start_time": "2023-08-11T01:16:55.360169",
     "status": "completed"
    },
    "tags": []
   },
   "outputs": [],
   "source": [
    "X_train=train['text']\n",
    "X_test=test['text']\n",
    "X_validation=validation['text']\n",
    "\n",
    "y_train=train['type']\n",
    "y_test=test['type']\n",
    "y_validation=validation['type']"
   ]
  },
  {
   "cell_type": "markdown",
   "id": "d8beaa34",
   "metadata": {
    "papermill": {
     "duration": 0.027686,
     "end_time": "2023-08-11T01:16:55.454158",
     "exception": false,
     "start_time": "2023-08-11T01:16:55.426472",
     "status": "completed"
    },
    "tags": []
   },
   "source": [
    "# Traditional ML models on raw data"
   ]
  },
  {
   "cell_type": "markdown",
   "id": "81a2095d",
   "metadata": {
    "papermill": {
     "duration": 0.028068,
     "end_time": "2023-08-11T01:16:55.509659",
     "exception": false,
     "start_time": "2023-08-11T01:16:55.481591",
     "status": "completed"
    },
    "tags": []
   },
   "source": [
    "## First Try with TF-IDF vectorizer"
   ]
  },
  {
   "cell_type": "code",
   "execution_count": 18,
   "id": "79b803b8",
   "metadata": {
    "execution": {
     "iopub.execute_input": "2023-08-11T01:16:55.567985Z",
     "iopub.status.busy": "2023-08-11T01:16:55.567608Z",
     "iopub.status.idle": "2023-08-11T01:17:34.592953Z",
     "shell.execute_reply": "2023-08-11T01:17:34.591824Z"
    },
    "papermill": {
     "duration": 39.058132,
     "end_time": "2023-08-11T01:17:34.596218",
     "exception": false,
     "start_time": "2023-08-11T01:16:55.538086",
     "status": "completed"
    },
    "tags": []
   },
   "outputs": [
    {
     "name": "stderr",
     "output_type": "stream",
     "text": [
      "/opt/conda/lib/python3.10/site-packages/scipy/__init__.py:146: UserWarning: A NumPy version >=1.16.5 and <1.23.0 is required for this version of SciPy (detected version 1.23.5\n",
      "  warnings.warn(f\"A NumPy version >={np_minversion} and <{np_maxversion}\"\n"
     ]
    }
   ],
   "source": [
    "from sklearn.feature_extraction.text import TfidfVectorizer #Term Frequency Inverse Document Frequency\n",
    "vectorizer = TfidfVectorizer(ngram_range=(1,5),max_features=vocab_size)\n",
    "X_train_tfidf = vectorizer.fit_transform(X_train)"
   ]
  },
  {
   "cell_type": "code",
   "execution_count": 19,
   "id": "73af1e30",
   "metadata": {
    "execution": {
     "iopub.execute_input": "2023-08-11T01:17:34.657600Z",
     "iopub.status.busy": "2023-08-11T01:17:34.657218Z",
     "iopub.status.idle": "2023-08-11T01:17:35.569338Z",
     "shell.execute_reply": "2023-08-11T01:17:35.568123Z"
    },
    "papermill": {
     "duration": 0.94624,
     "end_time": "2023-08-11T01:17:35.572286",
     "exception": false,
     "start_time": "2023-08-11T01:17:34.626046",
     "status": "completed"
    },
    "tags": []
   },
   "outputs": [],
   "source": [
    "X_validation_tfidf=vectorizer.transform(X_validation)"
   ]
  },
  {
   "cell_type": "code",
   "execution_count": 20,
   "id": "644aeb8e",
   "metadata": {
    "execution": {
     "iopub.execute_input": "2023-08-11T01:17:35.636128Z",
     "iopub.status.busy": "2023-08-11T01:17:35.635785Z",
     "iopub.status.idle": "2023-08-11T01:17:35.710142Z",
     "shell.execute_reply": "2023-08-11T01:17:35.709185Z"
    },
    "papermill": {
     "duration": 0.107595,
     "end_time": "2023-08-11T01:17:35.712592",
     "exception": false,
     "start_time": "2023-08-11T01:17:35.604997",
     "status": "completed"
    },
    "tags": []
   },
   "outputs": [],
   "source": [
    "from sklearn import metrics\n",
    "def score_prediction(model,X_train,X_test,y_train,y_test):\n",
    "    model.fit(X_train,y_train)\n",
    "    pr = model.predict(X_test)\n",
    "    acc_score = metrics.accuracy_score(y_test,pr)\n",
    "    pre_score = metrics.precision_score(y_test,pr,average=\"weighted\")\n",
    "    recall= metrics.recall_score(y_test,pr,average=\"weighted\")\n",
    "    f1= metrics.f1_score(y_test,pr,average=\"weighted\")\n",
    "    mcc= metrics.matthews_corrcoef(y_test,pr)\n",
    "    return acc_score,pre_score,recall,f1,mcc\n",
    "acc_score = {}\n",
    "pre_score = {}\n",
    "recall_score={}\n",
    "f1_score={}\n",
    "mcc_score={}"
   ]
  },
  {
   "cell_type": "code",
   "execution_count": 21,
   "id": "e4baae4b",
   "metadata": {
    "execution": {
     "iopub.execute_input": "2023-08-11T01:17:35.771238Z",
     "iopub.status.busy": "2023-08-11T01:17:35.770901Z",
     "iopub.status.idle": "2023-08-11T01:32:33.544425Z",
     "shell.execute_reply": "2023-08-11T01:32:33.543288Z"
    },
    "papermill": {
     "duration": 897.806713,
     "end_time": "2023-08-11T01:32:33.547394",
     "exception": false,
     "start_time": "2023-08-11T01:17:35.740681",
     "status": "completed"
    },
    "tags": []
   },
   "outputs": [
    {
     "name": "stderr",
     "output_type": "stream",
     "text": [
      "/opt/conda/lib/python3.10/site-packages/sklearn/metrics/_classification.py:1344: UndefinedMetricWarning: Precision is ill-defined and being set to 0.0 in labels with no predicted samples. Use `zero_division` parameter to control this behavior.\n",
      "  _warn_prf(average, modifier, msg_start, len(result))\n",
      "/opt/conda/lib/python3.10/site-packages/sklearn/metrics/_classification.py:1344: UndefinedMetricWarning: Precision is ill-defined and being set to 0.0 in labels with no predicted samples. Use `zero_division` parameter to control this behavior.\n",
      "  _warn_prf(average, modifier, msg_start, len(result))\n",
      "/opt/conda/lib/python3.10/site-packages/sklearn/metrics/_classification.py:1344: UndefinedMetricWarning: Precision is ill-defined and being set to 0.0 in labels with no predicted samples. Use `zero_division` parameter to control this behavior.\n",
      "  _warn_prf(average, modifier, msg_start, len(result))\n",
      "/opt/conda/lib/python3.10/site-packages/sklearn/metrics/_classification.py:1344: UndefinedMetricWarning: Precision is ill-defined and being set to 0.0 in labels with no predicted samples. Use `zero_division` parameter to control this behavior.\n",
      "  _warn_prf(average, modifier, msg_start, len(result))\n",
      "/opt/conda/lib/python3.10/site-packages/sklearn/metrics/_classification.py:1344: UndefinedMetricWarning: Precision is ill-defined and being set to 0.0 in labels with no predicted samples. Use `zero_division` parameter to control this behavior.\n",
      "  _warn_prf(average, modifier, msg_start, len(result))\n"
     ]
    }
   ],
   "source": [
    "from sklearn.ensemble import VotingClassifier\n",
    "from sklearn.linear_model import LogisticRegression\n",
    "from sklearn.svm import SVC\n",
    "from sklearn.naive_bayes import MultinomialNB\n",
    "from sklearn.tree import DecisionTreeClassifier\n",
    "from sklearn.neighbors import KNeighborsClassifier\n",
    "from sklearn.ensemble import RandomForestClassifier,ExtraTreesClassifier,AdaBoostClassifier,BaggingClassifier,GradientBoostingClassifier\n",
    "\n",
    "\n",
    "lg = LogisticRegression(penalty='l1',solver='liblinear')\n",
    "sv = SVC(kernel='sigmoid',gamma=1.0)\n",
    "dtc = DecisionTreeClassifier(max_depth=5)\n",
    "knn = KNeighborsClassifier()\n",
    "rfc = RandomForestClassifier(n_estimators=50,random_state=2)\n",
    "etc = ExtraTreesClassifier(n_estimators=50,random_state=2)\n",
    "bg = BaggingClassifier(n_estimators=50,random_state=2)\n",
    "gbc = GradientBoostingClassifier(n_estimators=50,random_state=2)\n",
    "\n",
    "\n",
    "clfs= {\n",
    "    'LR':lg,\n",
    "    'SVM':sv,\n",
    "    'DTC':dtc,\n",
    "    'KNN':knn,\n",
    "    'RFC':rfc,\n",
    "    'ETC':etc,\n",
    "    'BG':bg,\n",
    "    'GBC':gbc,\n",
    "}\n",
    "for name,clf in clfs.items():\n",
    "    acc_score[name],pre_score[name],recall_score[name],f1_score[name],mcc_score[name] = score_prediction(clf,X_train_tfidf,X_validation_tfidf,y_train,y_validation)"
   ]
  },
  {
   "cell_type": "markdown",
   "id": "e75f924c",
   "metadata": {
    "papermill": {
     "duration": 0.028286,
     "end_time": "2023-08-11T01:32:33.608335",
     "exception": false,
     "start_time": "2023-08-11T01:32:33.580049",
     "status": "completed"
    },
    "tags": []
   },
   "source": [
    "## Result Analysis"
   ]
  },
  {
   "cell_type": "code",
   "execution_count": 22,
   "id": "e56a3657",
   "metadata": {
    "execution": {
     "iopub.execute_input": "2023-08-11T01:32:33.666838Z",
     "iopub.status.busy": "2023-08-11T01:32:33.665882Z",
     "iopub.status.idle": "2023-08-11T01:32:33.673142Z",
     "shell.execute_reply": "2023-08-11T01:32:33.672020Z"
    },
    "papermill": {
     "duration": 0.039351,
     "end_time": "2023-08-11T01:32:33.676007",
     "exception": false,
     "start_time": "2023-08-11T01:32:33.636656",
     "status": "completed"
    },
    "tags": []
   },
   "outputs": [
    {
     "data": {
      "text/plain": [
       "{'LR': 0.7474747474747475,\n",
       " 'SVM': 0.6666666666666666,\n",
       " 'DTC': 0.23737373737373738,\n",
       " 'KNN': 0.5151515151515151,\n",
       " 'RFC': 0.6868686868686869,\n",
       " 'ETC': 0.6919191919191919,\n",
       " 'BG': 0.7575757575757576,\n",
       " 'GBC': 0.7777777777777778}"
      ]
     },
     "execution_count": 22,
     "metadata": {},
     "output_type": "execute_result"
    }
   ],
   "source": [
    "acc_score"
   ]
  },
  {
   "cell_type": "code",
   "execution_count": 23,
   "id": "ed7351ad",
   "metadata": {
    "execution": {
     "iopub.execute_input": "2023-08-11T01:32:33.735676Z",
     "iopub.status.busy": "2023-08-11T01:32:33.735329Z",
     "iopub.status.idle": "2023-08-11T01:32:33.741749Z",
     "shell.execute_reply": "2023-08-11T01:32:33.740766Z"
    },
    "papermill": {
     "duration": 0.040186,
     "end_time": "2023-08-11T01:32:33.744531",
     "exception": false,
     "start_time": "2023-08-11T01:32:33.704345",
     "status": "completed"
    },
    "tags": []
   },
   "outputs": [
    {
     "data": {
      "text/plain": [
       "{'LR': 0.7778773695440362,\n",
       " 'SVM': 0.71856587823611,\n",
       " 'DTC': 0.21744442726585586,\n",
       " 'KNN': 0.598356538819997,\n",
       " 'RFC': 0.6768247605368819,\n",
       " 'ETC': 0.6924306976446014,\n",
       " 'BG': 0.7847048784548786,\n",
       " 'GBC': 0.8086179252845919}"
      ]
     },
     "execution_count": 23,
     "metadata": {},
     "output_type": "execute_result"
    }
   ],
   "source": [
    "pre_score"
   ]
  },
  {
   "cell_type": "code",
   "execution_count": 24,
   "id": "4837d203",
   "metadata": {
    "execution": {
     "iopub.execute_input": "2023-08-11T01:32:33.804201Z",
     "iopub.status.busy": "2023-08-11T01:32:33.803900Z",
     "iopub.status.idle": "2023-08-11T01:32:33.810110Z",
     "shell.execute_reply": "2023-08-11T01:32:33.809115Z"
    },
    "papermill": {
     "duration": 0.038836,
     "end_time": "2023-08-11T01:32:33.812618",
     "exception": false,
     "start_time": "2023-08-11T01:32:33.773782",
     "status": "completed"
    },
    "tags": []
   },
   "outputs": [
    {
     "data": {
      "text/plain": [
       "{'LR': 0.7474747474747475,\n",
       " 'SVM': 0.6666666666666666,\n",
       " 'DTC': 0.23737373737373738,\n",
       " 'KNN': 0.5151515151515151,\n",
       " 'RFC': 0.6868686868686869,\n",
       " 'ETC': 0.6919191919191919,\n",
       " 'BG': 0.7575757575757576,\n",
       " 'GBC': 0.7777777777777778}"
      ]
     },
     "execution_count": 24,
     "metadata": {},
     "output_type": "execute_result"
    }
   ],
   "source": [
    "recall_score"
   ]
  },
  {
   "cell_type": "code",
   "execution_count": 25,
   "id": "286a474f",
   "metadata": {
    "execution": {
     "iopub.execute_input": "2023-08-11T01:32:33.872577Z",
     "iopub.status.busy": "2023-08-11T01:32:33.872239Z",
     "iopub.status.idle": "2023-08-11T01:32:33.878552Z",
     "shell.execute_reply": "2023-08-11T01:32:33.877586Z"
    },
    "papermill": {
     "duration": 0.039604,
     "end_time": "2023-08-11T01:32:33.880626",
     "exception": false,
     "start_time": "2023-08-11T01:32:33.841022",
     "status": "completed"
    },
    "tags": []
   },
   "outputs": [
    {
     "data": {
      "text/plain": [
       "{'LR': 0.7382098870839827,\n",
       " 'SVM': 0.6689501252785617,\n",
       " 'DTC': 0.21350295522006107,\n",
       " 'KNN': 0.5360545006076408,\n",
       " 'RFC': 0.6573174658095645,\n",
       " 'ETC': 0.6688448365172501,\n",
       " 'BG': 0.7516262902732003,\n",
       " 'GBC': 0.7780927110999575}"
      ]
     },
     "execution_count": 25,
     "metadata": {},
     "output_type": "execute_result"
    }
   ],
   "source": [
    "f1_score"
   ]
  },
  {
   "cell_type": "code",
   "execution_count": 26,
   "id": "f0e503e7",
   "metadata": {
    "execution": {
     "iopub.execute_input": "2023-08-11T01:32:33.939596Z",
     "iopub.status.busy": "2023-08-11T01:32:33.938727Z",
     "iopub.status.idle": "2023-08-11T01:32:33.945534Z",
     "shell.execute_reply": "2023-08-11T01:32:33.944479Z"
    },
    "papermill": {
     "duration": 0.038462,
     "end_time": "2023-08-11T01:32:33.947689",
     "exception": false,
     "start_time": "2023-08-11T01:32:33.909227",
     "status": "completed"
    },
    "tags": []
   },
   "outputs": [
    {
     "data": {
      "text/plain": [
       "{'LR': 0.7373910180555264,\n",
       " 'SVM': 0.6523392993071399,\n",
       " 'DTC': 0.3186725614808342,\n",
       " 'KNN': 0.4954611170365433,\n",
       " 'RFC': 0.6735107259450018,\n",
       " 'ETC': 0.6793131521987843,\n",
       " 'BG': 0.7474804046990834,\n",
       " 'GBC': 0.7689360781939663}"
      ]
     },
     "execution_count": 26,
     "metadata": {},
     "output_type": "execute_result"
    }
   ],
   "source": [
    "mcc_score"
   ]
  },
  {
   "cell_type": "code",
   "execution_count": 27,
   "id": "cffdae16",
   "metadata": {
    "execution": {
     "iopub.execute_input": "2023-08-11T01:32:34.008381Z",
     "iopub.status.busy": "2023-08-11T01:32:34.007400Z",
     "iopub.status.idle": "2023-08-11T01:32:34.272888Z",
     "shell.execute_reply": "2023-08-11T01:32:34.271864Z"
    },
    "papermill": {
     "duration": 0.298201,
     "end_time": "2023-08-11T01:32:34.275520",
     "exception": false,
     "start_time": "2023-08-11T01:32:33.977319",
     "status": "completed"
    },
    "tags": []
   },
   "outputs": [
    {
     "data": {
      "image/png": "[encoded data removed]",
      "text/plain": [
       "<Figure size 640x480 with 1 Axes>"
      ]
     },
     "metadata": {},
     "output_type": "display_data"
    }
   ],
   "source": [
    "lists = sorted(acc_score.items()) # sorted by key, return a list of tuples\n",
    "\n",
    "x, y = zip(*lists) # unpack a list of pairs into two tuples\n",
    "\n",
    "plt.bar( x, y)\n",
    "plt.xlabel('Model')\n",
    "plt.ylabel('Accuracy')\n",
    "plt.show()"
   ]
  },
  {
   "cell_type": "code",
   "execution_count": 28,
   "id": "34217854",
   "metadata": {
    "execution": {
     "iopub.execute_input": "2023-08-11T01:32:34.337460Z",
     "iopub.status.busy": "2023-08-11T01:32:34.337088Z",
     "iopub.status.idle": "2023-08-11T01:32:34.603469Z",
     "shell.execute_reply": "2023-08-11T01:32:34.602437Z"
    },
    "papermill": {
     "duration": 0.299831,
     "end_time": "2023-08-11T01:32:34.605760",
     "exception": false,
     "start_time": "2023-08-11T01:32:34.305929",
     "status": "completed"
    },
    "tags": []
   },
   "outputs": [
    {
     "data": {
      "image/png": "[encoded data removed]",
      "text/plain": [
       "<Figure size 640x480 with 1 Axes>"
      ]
     },
     "metadata": {},
     "output_type": "display_data"
    }
   ],
   "source": [
    "lists = sorted(mcc_score.items()) # sorted by key, return a list of tuples\n",
    "\n",
    "x, y = zip(*lists) # unpack a list of pairs into two tuples\n",
    "\n",
    "plt.bar( x, y)\n",
    "plt.xlabel('Model')\n",
    "plt.ylabel('MCC')\n",
    "plt.show()"
   ]
  },
  {
   "cell_type": "markdown",
   "id": "5be0269c",
   "metadata": {
    "papermill": {
     "duration": 0.032843,
     "end_time": "2023-08-11T01:32:34.673577",
     "exception": false,
     "start_time": "2023-08-11T01:32:34.640734",
     "status": "completed"
    },
    "tags": []
   },
   "source": [
    "## Gradient Boosting is the best ml model for this problem"
   ]
  },
  {
   "cell_type": "markdown",
   "id": "c7eab044",
   "metadata": {
    "papermill": {
     "duration": 0.031993,
     "end_time": "2023-08-11T01:32:34.738287",
     "exception": false,
     "start_time": "2023-08-11T01:32:34.706294",
     "status": "completed"
    },
    "tags": []
   },
   "source": [
    "# Experiment with data cleaning"
   ]
  },
  {
   "cell_type": "markdown",
   "id": "995ecce9",
   "metadata": {
    "papermill": {
     "duration": 0.03086,
     "end_time": "2023-08-11T01:32:34.801615",
     "exception": false,
     "start_time": "2023-08-11T01:32:34.770755",
     "status": "completed"
    },
    "tags": []
   },
   "source": [
    "## Delete Stop words"
   ]
  },
  {
   "cell_type": "code",
   "execution_count": 29,
   "id": "59874bac",
   "metadata": {
    "execution": {
     "iopub.execute_input": "2023-08-11T01:32:34.864543Z",
     "iopub.status.busy": "2023-08-11T01:32:34.863377Z",
     "iopub.status.idle": "2023-08-11T01:32:35.332996Z",
     "shell.execute_reply": "2023-08-11T01:32:35.332010Z"
    },
    "papermill": {
     "duration": 0.503437,
     "end_time": "2023-08-11T01:32:35.335192",
     "exception": false,
     "start_time": "2023-08-11T01:32:34.831755",
     "status": "completed"
    },
    "tags": []
   },
   "outputs": [
    {
     "name": "stdout",
     "output_type": "stream",
     "text": [
      "[nltk_data] Downloading package stopwords to /usr/share/nltk_data...\n",
      "[nltk_data]   Package stopwords is already up-to-date!\n"
     ]
    },
    {
     "data": {
      "text/plain": [
       "True"
      ]
     },
     "execution_count": 29,
     "metadata": {},
     "output_type": "execute_result"
    }
   ],
   "source": [
    "import nltk\n",
    "from nltk.corpus import stopwords\n",
    " \n",
    "nltk.download('stopwords')"
   ]
  },
  {
   "cell_type": "code",
   "execution_count": 30,
   "id": "71b1b8bb",
   "metadata": {
    "execution": {
     "iopub.execute_input": "2023-08-11T01:32:35.401461Z",
     "iopub.status.busy": "2023-08-11T01:32:35.400437Z",
     "iopub.status.idle": "2023-08-11T01:33:07.442838Z",
     "shell.execute_reply": "2023-08-11T01:33:07.441634Z"
    },
    "papermill": {
     "duration": 32.079525,
     "end_time": "2023-08-11T01:33:07.446079",
     "exception": false,
     "start_time": "2023-08-11T01:32:35.366554",
     "status": "completed"
    },
    "tags": []
   },
   "outputs": [],
   "source": [
    "vectorizer = TfidfVectorizer(ngram_range=(1,5),max_features=vocab_size,stop_words=stopwords.words('english'))\n",
    "X_train_tfidf = vectorizer.fit_transform(X_train)\n",
    "X_validation_tfidf=vectorizer.transform(X_validation)"
   ]
  },
  {
   "cell_type": "markdown",
   "id": "dd943501",
   "metadata": {
    "papermill": {
     "duration": 0.030019,
     "end_time": "2023-08-11T01:33:07.510549",
     "exception": false,
     "start_time": "2023-08-11T01:33:07.480530",
     "status": "completed"
    },
    "tags": []
   },
   "source": [
    "## Since Gradient Boosting had the heighest performance"
   ]
  },
  {
   "cell_type": "code",
   "execution_count": 31,
   "id": "ba3192aa",
   "metadata": {
    "execution": {
     "iopub.execute_input": "2023-08-11T01:33:07.574264Z",
     "iopub.status.busy": "2023-08-11T01:33:07.573871Z",
     "iopub.status.idle": "2023-08-11T01:40:01.545529Z",
     "shell.execute_reply": "2023-08-11T01:40:01.544465Z"
    },
    "papermill": {
     "duration": 414.039206,
     "end_time": "2023-08-11T01:40:01.580776",
     "exception": false,
     "start_time": "2023-08-11T01:33:07.541570",
     "status": "completed"
    },
    "tags": []
   },
   "outputs": [
    {
     "data": {
      "text/plain": [
       "(0.7828282828282829,\n",
       " 0.8147502196545258,\n",
       " 0.7828282828282829,\n",
       " 0.7850068192132054,\n",
       " 0.7741484714674419)"
      ]
     },
     "execution_count": 31,
     "metadata": {},
     "output_type": "execute_result"
    }
   ],
   "source": [
    "score_prediction(gbc,X_train_tfidf,X_validation_tfidf,y_train,y_validation)"
   ]
  },
  {
   "cell_type": "markdown",
   "id": "672b49f5",
   "metadata": {
    "papermill": {
     "duration": 0.029685,
     "end_time": "2023-08-11T01:40:01.642308",
     "exception": false,
     "start_time": "2023-08-11T01:40:01.612623",
     "status": "completed"
    },
    "tags": []
   },
   "source": [
    "## Deleting stop words upgraded the performance"
   ]
  },
  {
   "cell_type": "markdown",
   "id": "ecba6c85",
   "metadata": {
    "papermill": {
     "duration": 0.03017,
     "end_time": "2023-08-11T01:40:01.702904",
     "exception": false,
     "start_time": "2023-08-11T01:40:01.672734",
     "status": "completed"
    },
    "tags": []
   },
   "source": [
    "# Keep Alphabetic Characters Only"
   ]
  },
  {
   "cell_type": "code",
   "execution_count": 32,
   "id": "a3d8488a",
   "metadata": {
    "execution": {
     "iopub.execute_input": "2023-08-11T01:40:01.766153Z",
     "iopub.status.busy": "2023-08-11T01:40:01.765774Z",
     "iopub.status.idle": "2023-08-11T01:40:29.949681Z",
     "shell.execute_reply": "2023-08-11T01:40:29.948554Z"
    },
    "papermill": {
     "duration": 28.219734,
     "end_time": "2023-08-11T01:40:29.953044",
     "exception": false,
     "start_time": "2023-08-11T01:40:01.733310",
     "status": "completed"
    },
    "tags": []
   },
   "outputs": [],
   "source": [
    "vectorizer = TfidfVectorizer(ngram_range=(1,5),max_features=vocab_size,stop_words=stopwords.words('english'),token_pattern=r'(?u)\\b[A-Za-z]+\\b')\n",
    "X_train_tfidf = vectorizer.fit_transform(X_train)\n",
    "X_validation_tfidf=vectorizer.transform(X_validation)"
   ]
  },
  {
   "cell_type": "code",
   "execution_count": 33,
   "id": "ec95774a",
   "metadata": {
    "execution": {
     "iopub.execute_input": "2023-08-11T01:40:30.018583Z",
     "iopub.status.busy": "2023-08-11T01:40:30.018216Z",
     "iopub.status.idle": "2023-08-11T01:47:01.361567Z",
     "shell.execute_reply": "2023-08-11T01:47:01.360383Z"
    },
    "papermill": {
     "duration": 391.46246,
     "end_time": "2023-08-11T01:47:01.448969",
     "exception": false,
     "start_time": "2023-08-11T01:40:29.986509",
     "status": "completed"
    },
    "tags": []
   },
   "outputs": [
    {
     "data": {
      "text/plain": [
       "(0.7626262626262627,\n",
       " 0.7935477821841458,\n",
       " 0.7626262626262627,\n",
       " 0.7661669336382783,\n",
       " 0.7531326096849281)"
      ]
     },
     "execution_count": 33,
     "metadata": {},
     "output_type": "execute_result"
    }
   ],
   "source": [
    "score_prediction(gbc,X_train_tfidf,X_validation_tfidf,y_train,y_validation)"
   ]
  },
  {
   "cell_type": "markdown",
   "id": "153f99c5",
   "metadata": {
    "papermill": {
     "duration": 0.03125,
     "end_time": "2023-08-11T01:47:01.511462",
     "exception": false,
     "start_time": "2023-08-11T01:47:01.480212",
     "status": "completed"
    },
    "tags": []
   },
   "source": [
    "## This made the performance worse"
   ]
  },
  {
   "cell_type": "markdown",
   "id": "5351737d",
   "metadata": {
    "papermill": {
     "duration": 0.0308,
     "end_time": "2023-08-11T01:47:01.573813",
     "exception": false,
     "start_time": "2023-08-11T01:47:01.543013",
     "status": "completed"
    },
    "tags": []
   },
   "source": [
    "# Bag-of-words"
   ]
  },
  {
   "cell_type": "code",
   "execution_count": 34,
   "id": "a3b16ae0",
   "metadata": {
    "execution": {
     "iopub.execute_input": "2023-08-11T01:47:01.639055Z",
     "iopub.status.busy": "2023-08-11T01:47:01.637847Z",
     "iopub.status.idle": "2023-08-11T01:47:34.169892Z",
     "shell.execute_reply": "2023-08-11T01:47:34.168764Z"
    },
    "papermill": {
     "duration": 32.567718,
     "end_time": "2023-08-11T01:47:34.172618",
     "exception": false,
     "start_time": "2023-08-11T01:47:01.604900",
     "status": "completed"
    },
    "tags": []
   },
   "outputs": [],
   "source": [
    "from sklearn.feature_extraction.text import CountVectorizer\n",
    "vectorizer = CountVectorizer(ngram_range=(1,5),max_features=vocab_size,stop_words=stopwords.words('english'))\n",
    "X_train_bow = vectorizer.fit_transform(X_train)\n",
    "X_validation_bow=vectorizer.transform(X_validation)"
   ]
  },
  {
   "cell_type": "code",
   "execution_count": 35,
   "id": "aa1d7b78",
   "metadata": {
    "execution": {
     "iopub.execute_input": "2023-08-11T01:47:34.239050Z",
     "iopub.status.busy": "2023-08-11T01:47:34.238674Z",
     "iopub.status.idle": "2023-08-11T01:50:20.662529Z",
     "shell.execute_reply": "2023-08-11T01:50:20.661367Z"
    },
    "papermill": {
     "duration": 166.493653,
     "end_time": "2023-08-11T01:50:20.699081",
     "exception": false,
     "start_time": "2023-08-11T01:47:34.205428",
     "status": "completed"
    },
    "tags": []
   },
   "outputs": [
    {
     "data": {
      "text/plain": [
       "(0.797979797979798,\n",
       " 0.8291834848653031,\n",
       " 0.797979797979798,\n",
       " 0.7982568323440703,\n",
       " 0.7898979689984903)"
      ]
     },
     "execution_count": 35,
     "metadata": {},
     "output_type": "execute_result"
    }
   ],
   "source": [
    "score_prediction(gbc,X_train_bow,X_validation_bow,y_train,y_validation)"
   ]
  },
  {
   "cell_type": "markdown",
   "id": "2073cbf3",
   "metadata": {
    "papermill": {
     "duration": 0.030444,
     "end_time": "2023-08-11T01:50:20.760287",
     "exception": false,
     "start_time": "2023-08-11T01:50:20.729843",
     "status": "completed"
    },
    "tags": []
   },
   "source": [
    "## TF-IDF is slightly better than BoW"
   ]
  },
  {
   "cell_type": "markdown",
   "id": "b96eb4a3",
   "metadata": {
    "papermill": {
     "duration": 0.030039,
     "end_time": "2023-08-11T01:50:20.820833",
     "exception": false,
     "start_time": "2023-08-11T01:50:20.790794",
     "status": "completed"
    },
    "tags": []
   },
   "source": [
    "# Try Deep Learning"
   ]
  },
  {
   "cell_type": "markdown",
   "id": "40fc1512",
   "metadata": {
    "papermill": {
     "duration": 0.029807,
     "end_time": "2023-08-11T01:50:20.881698",
     "exception": false,
     "start_time": "2023-08-11T01:50:20.851891",
     "status": "completed"
    },
    "tags": []
   },
   "source": [
    "## We will continue with the best configeration that is TF-IDF with deleting stop words"
   ]
  },
  {
   "cell_type": "code",
   "execution_count": 36,
   "id": "a87f9105",
   "metadata": {
    "execution": {
     "iopub.execute_input": "2023-08-11T01:50:20.944439Z",
     "iopub.status.busy": "2023-08-11T01:50:20.944016Z",
     "iopub.status.idle": "2023-08-11T01:50:53.475675Z",
     "shell.execute_reply": "2023-08-11T01:50:53.474574Z"
    },
    "papermill": {
     "duration": 32.566557,
     "end_time": "2023-08-11T01:50:53.478651",
     "exception": false,
     "start_time": "2023-08-11T01:50:20.912094",
     "status": "completed"
    },
    "tags": []
   },
   "outputs": [],
   "source": [
    "vectorizer = TfidfVectorizer(ngram_range=(1,5),max_features=vocab_size,stop_words=stopwords.words('english'))\n",
    "X_train_tfidf = vectorizer.fit_transform(X_train)\n",
    "X_validation_tfidf=vectorizer.transform(X_validation)\n",
    "\n",
    "X_train_tfidf_arr=X_train_tfidf.toarray()\n",
    "y_train_ohe= pd.get_dummies(y_train).values\n",
    "\n",
    "X_validation_tfidf_arr=X_validation_tfidf.toarray()\n",
    "y_validation_ohe= pd.get_dummies(y_validation).values"
   ]
  },
  {
   "cell_type": "code",
   "execution_count": 37,
   "id": "1b988602",
   "metadata": {
    "execution": {
     "iopub.execute_input": "2023-08-11T01:50:53.542016Z",
     "iopub.status.busy": "2023-08-11T01:50:53.541645Z",
     "iopub.status.idle": "2023-08-11T01:50:53.546991Z",
     "shell.execute_reply": "2023-08-11T01:50:53.545798Z"
    },
    "papermill": {
     "duration": 0.039751,
     "end_time": "2023-08-11T01:50:53.549772",
     "exception": false,
     "start_time": "2023-08-11T01:50:53.510021",
     "status": "completed"
    },
    "tags": []
   },
   "outputs": [],
   "source": [
    "input_sp=len(X_train_tfidf_arr[0])\n",
    "out_sp=len(y_validation_ohe[0])"
   ]
  },
  {
   "cell_type": "markdown",
   "id": "ecb5c6fa",
   "metadata": {
    "papermill": {
     "duration": 0.029988,
     "end_time": "2023-08-11T01:50:53.610251",
     "exception": false,
     "start_time": "2023-08-11T01:50:53.580263",
     "status": "completed"
    },
    "tags": []
   },
   "source": [
    "## Multi-layer Perceptron"
   ]
  },
  {
   "cell_type": "code",
   "execution_count": 38,
   "id": "7d3f6ee4",
   "metadata": {
    "execution": {
     "iopub.execute_input": "2023-08-11T01:50:53.671628Z",
     "iopub.status.busy": "2023-08-11T01:50:53.671278Z",
     "iopub.status.idle": "2023-08-11T01:51:07.050335Z",
     "shell.execute_reply": "2023-08-11T01:51:07.049312Z"
    },
    "papermill": {
     "duration": 13.412702,
     "end_time": "2023-08-11T01:51:07.052977",
     "exception": false,
     "start_time": "2023-08-11T01:50:53.640275",
     "status": "completed"
    },
    "tags": []
   },
   "outputs": [
    {
     "name": "stderr",
     "output_type": "stream",
     "text": [
      "/opt/conda/lib/python3.10/site-packages/tensorflow_io/python/ops/__init__.py:98: UserWarning: unable to load libtensorflow_io_plugins.so: unable to open file: libtensorflow_io_plugins.so, from paths: ['/opt/conda/lib/python3.10/site-packages/tensorflow_io/python/ops/libtensorflow_io_plugins.so']\n",
      "caused by: ['/opt/conda/lib/python3.10/site-packages/tensorflow_io/python/ops/libtensorflow_io_plugins.so: undefined symbol: _ZN3tsl6StatusC1EN10tensorflow5error4CodeESt17basic_string_viewIcSt11char_traitsIcEENS_14SourceLocationE']\n",
      "  warnings.warn(f\"unable to load libtensorflow_io_plugins.so: {e}\")\n",
      "/opt/conda/lib/python3.10/site-packages/tensorflow_io/python/ops/__init__.py:104: UserWarning: file system plugins are not loaded: unable to open file: libtensorflow_io.so, from paths: ['/opt/conda/lib/python3.10/site-packages/tensorflow_io/python/ops/libtensorflow_io.so']\n",
      "caused by: ['/opt/conda/lib/python3.10/site-packages/tensorflow_io/python/ops/libtensorflow_io.so: undefined symbol: _ZTVN10tensorflow13GcsFileSystemE']\n",
      "  warnings.warn(f\"file system plugins are not loaded: {e}\")\n"
     ]
    }
   ],
   "source": [
    "from tensorflow.keras.datasets import mnist\n",
    "from tensorflow.keras import Sequential\n",
    "from tensorflow.keras.layers import Dense,LSTM\n",
    "from sklearn import metrics\n",
    "model = Sequential()\n",
    "model.add(Dense(2048,input_shape = (input_sp,), activation = 'relu'))\n",
    "model.add(Dense(1024, activation = 'relu'))\n",
    "model.add(Dense(512, activation = 'relu'))\n",
    "model.add(Dense(256, activation = 'relu'))\n",
    "model.add(Dense(128, activation = 'relu'))\n",
    "model.add(Dense(64, activation = 'relu'))\n",
    "model.add(Dense(out_sp,activation='softmax'))"
   ]
  },
  {
   "cell_type": "code",
   "execution_count": 39,
   "id": "e505ad22",
   "metadata": {
    "execution": {
     "iopub.execute_input": "2023-08-11T01:51:07.118741Z",
     "iopub.status.busy": "2023-08-11T01:51:07.116903Z",
     "iopub.status.idle": "2023-08-11T01:51:28.965617Z",
     "shell.execute_reply": "2023-08-11T01:51:28.964467Z"
    },
    "papermill": {
     "duration": 21.884681,
     "end_time": "2023-08-11T01:51:28.968930",
     "exception": false,
     "start_time": "2023-08-11T01:51:07.084249",
     "status": "completed"
    },
    "tags": []
   },
   "outputs": [
    {
     "name": "stdout",
     "output_type": "stream",
     "text": [
      "Epoch 1/50\n",
      "18/18 - 6s - loss: 3.1693 - accuracy: 0.0420 - 6s/epoch - 342ms/step\n",
      "Epoch 2/50\n",
      "18/18 - 0s - loss: 3.0874 - accuracy: 0.0998 - 217ms/epoch - 12ms/step\n",
      "Epoch 3/50\n",
      "18/18 - 0s - loss: 2.7739 - accuracy: 0.2053 - 200ms/epoch - 11ms/step\n",
      "Epoch 4/50\n",
      "18/18 - 0s - loss: 2.1770 - accuracy: 0.3510 - 197ms/epoch - 11ms/step\n",
      "Epoch 5/50\n",
      "18/18 - 0s - loss: 1.5977 - accuracy: 0.5291 - 198ms/epoch - 11ms/step\n",
      "Epoch 6/50\n",
      "18/18 - 0s - loss: 1.2777 - accuracy: 0.6232 - 194ms/epoch - 11ms/step\n",
      "Epoch 7/50\n",
      "18/18 - 0s - loss: 0.8985 - accuracy: 0.7243 - 198ms/epoch - 11ms/step\n",
      "Epoch 8/50\n",
      "18/18 - 0s - loss: 0.4591 - accuracy: 0.8613 - 195ms/epoch - 11ms/step\n",
      "Epoch 9/50\n",
      "18/18 - 0s - loss: 0.3481 - accuracy: 0.9007 - 198ms/epoch - 11ms/step\n",
      "Epoch 10/50\n",
      "18/18 - 0s - loss: 0.4123 - accuracy: 0.9365 - 204ms/epoch - 11ms/step\n",
      "Epoch 11/50\n",
      "18/18 - 0s - loss: 0.2277 - accuracy: 0.9374 - 196ms/epoch - 11ms/step\n",
      "Epoch 12/50\n",
      "18/18 - 0s - loss: 0.0145 - accuracy: 0.9982 - 198ms/epoch - 11ms/step\n",
      "Epoch 13/50\n",
      "18/18 - 0s - loss: 0.0031 - accuracy: 1.0000 - 199ms/epoch - 11ms/step\n",
      "Epoch 14/50\n",
      "18/18 - 0s - loss: 0.0013 - accuracy: 1.0000 - 193ms/epoch - 11ms/step\n",
      "Epoch 15/50\n",
      "18/18 - 0s - loss: 6.7719e-04 - accuracy: 1.0000 - 195ms/epoch - 11ms/step\n",
      "Epoch 16/50\n",
      "18/18 - 0s - loss: 3.9312e-04 - accuracy: 1.0000 - 197ms/epoch - 11ms/step\n",
      "Epoch 17/50\n",
      "18/18 - 0s - loss: 2.4120e-04 - accuracy: 1.0000 - 203ms/epoch - 11ms/step\n",
      "Epoch 18/50\n",
      "18/18 - 0s - loss: 1.6657e-04 - accuracy: 1.0000 - 196ms/epoch - 11ms/step\n",
      "Epoch 19/50\n",
      "18/18 - 0s - loss: 1.2244e-04 - accuracy: 1.0000 - 203ms/epoch - 11ms/step\n",
      "Epoch 20/50\n",
      "18/18 - 0s - loss: 9.6119e-05 - accuracy: 1.0000 - 215ms/epoch - 12ms/step\n",
      "Epoch 21/50\n",
      "18/18 - 0s - loss: 7.9204e-05 - accuracy: 1.0000 - 237ms/epoch - 13ms/step\n",
      "Epoch 22/50\n",
      "18/18 - 0s - loss: 6.7057e-05 - accuracy: 1.0000 - 195ms/epoch - 11ms/step\n",
      "Epoch 23/50\n",
      "18/18 - 0s - loss: 5.8773e-05 - accuracy: 1.0000 - 198ms/epoch - 11ms/step\n",
      "Epoch 24/50\n",
      "18/18 - 0s - loss: 5.2069e-05 - accuracy: 1.0000 - 198ms/epoch - 11ms/step\n",
      "Epoch 25/50\n",
      "18/18 - 0s - loss: 4.6130e-05 - accuracy: 1.0000 - 199ms/epoch - 11ms/step\n",
      "Epoch 26/50\n",
      "18/18 - 0s - loss: 4.2085e-05 - accuracy: 1.0000 - 199ms/epoch - 11ms/step\n",
      "Epoch 27/50\n",
      "18/18 - 0s - loss: 3.8131e-05 - accuracy: 1.0000 - 198ms/epoch - 11ms/step\n",
      "Epoch 28/50\n",
      "18/18 - 0s - loss: 3.5259e-05 - accuracy: 1.0000 - 199ms/epoch - 11ms/step\n",
      "Epoch 29/50\n",
      "18/18 - 0s - loss: 3.2496e-05 - accuracy: 1.0000 - 199ms/epoch - 11ms/step\n",
      "Epoch 30/50\n",
      "18/18 - 0s - loss: 3.0302e-05 - accuracy: 1.0000 - 202ms/epoch - 11ms/step\n",
      "Epoch 31/50\n",
      "18/18 - 0s - loss: 2.8235e-05 - accuracy: 1.0000 - 196ms/epoch - 11ms/step\n",
      "Epoch 32/50\n",
      "18/18 - 0s - loss: 2.6419e-05 - accuracy: 1.0000 - 198ms/epoch - 11ms/step\n",
      "Epoch 33/50\n",
      "18/18 - 0s - loss: 2.4915e-05 - accuracy: 1.0000 - 197ms/epoch - 11ms/step\n",
      "Epoch 34/50\n",
      "18/18 - 0s - loss: 2.3557e-05 - accuracy: 1.0000 - 203ms/epoch - 11ms/step\n",
      "Epoch 35/50\n",
      "18/18 - 0s - loss: 2.2226e-05 - accuracy: 1.0000 - 193ms/epoch - 11ms/step\n",
      "Epoch 36/50\n",
      "18/18 - 0s - loss: 2.1206e-05 - accuracy: 1.0000 - 192ms/epoch - 11ms/step\n",
      "Epoch 37/50\n",
      "18/18 - 0s - loss: 2.0108e-05 - accuracy: 1.0000 - 198ms/epoch - 11ms/step\n",
      "Epoch 38/50\n",
      "18/18 - 0s - loss: 1.9214e-05 - accuracy: 1.0000 - 196ms/epoch - 11ms/step\n",
      "Epoch 39/50\n",
      "18/18 - 0s - loss: 1.8343e-05 - accuracy: 1.0000 - 194ms/epoch - 11ms/step\n",
      "Epoch 40/50\n",
      "18/18 - 0s - loss: 1.7516e-05 - accuracy: 1.0000 - 196ms/epoch - 11ms/step\n",
      "Epoch 41/50\n",
      "18/18 - 0s - loss: 1.6898e-05 - accuracy: 1.0000 - 199ms/epoch - 11ms/step\n",
      "Epoch 42/50\n",
      "18/18 - 0s - loss: 1.6182e-05 - accuracy: 1.0000 - 197ms/epoch - 11ms/step\n",
      "Epoch 43/50\n",
      "18/18 - 0s - loss: 1.5565e-05 - accuracy: 1.0000 - 199ms/epoch - 11ms/step\n",
      "Epoch 44/50\n",
      "18/18 - 0s - loss: 1.4976e-05 - accuracy: 1.0000 - 200ms/epoch - 11ms/step\n",
      "Epoch 45/50\n",
      "18/18 - 0s - loss: 1.4447e-05 - accuracy: 1.0000 - 198ms/epoch - 11ms/step\n",
      "Epoch 46/50\n",
      "18/18 - 0s - loss: 1.3943e-05 - accuracy: 1.0000 - 201ms/epoch - 11ms/step\n",
      "Epoch 47/50\n",
      "18/18 - 0s - loss: 1.3487e-05 - accuracy: 1.0000 - 197ms/epoch - 11ms/step\n",
      "Epoch 48/50\n",
      "18/18 - 0s - loss: 1.3029e-05 - accuracy: 1.0000 - 198ms/epoch - 11ms/step\n",
      "Epoch 49/50\n",
      "18/18 - 0s - loss: 1.2616e-05 - accuracy: 1.0000 - 195ms/epoch - 11ms/step\n",
      "Epoch 50/50\n",
      "18/18 - 0s - loss: 1.2239e-05 - accuracy: 1.0000 - 199ms/epoch - 11ms/step\n"
     ]
    }
   ],
   "source": [
    "model.compile(loss='categorical_crossentropy',metrics=['accuracy',])\n",
    "history= model.fit(X_train_tfidf_arr, y_train_ohe, epochs=50, batch_size=128,verbose=2)"
   ]
  },
  {
   "cell_type": "code",
   "execution_count": 40,
   "id": "67516cba",
   "metadata": {
    "execution": {
     "iopub.execute_input": "2023-08-11T01:51:29.084461Z",
     "iopub.status.busy": "2023-08-11T01:51:29.083917Z",
     "iopub.status.idle": "2023-08-11T01:51:29.811362Z",
     "shell.execute_reply": "2023-08-11T01:51:29.810360Z"
    },
    "papermill": {
     "duration": 0.786813,
     "end_time": "2023-08-11T01:51:29.813971",
     "exception": false,
     "start_time": "2023-08-11T01:51:29.027158",
     "status": "completed"
    },
    "tags": []
   },
   "outputs": [
    {
     "name": "stderr",
     "output_type": "stream",
     "text": [
      "/tmp/ipykernel_22/884132123.py:9: UserWarning: color is redundantly defined by the 'color' keyword argument and the fmt string \"go-\" (-> color='g'). The keyword argument will take precedence.\n",
      "  ax[0].plot(epochs , train_acc , 'go-' ,color='r', label = 'Training Accuracy')\n",
      "/tmp/ipykernel_22/884132123.py:16: UserWarning: color is redundantly defined by the 'color' keyword argument and the fmt string \"g-o\" (-> color='g'). The keyword argument will take precedence.\n",
      "  ax[1].plot(epochs , train_loss , 'g-o' ,color='r', label = 'Training Loss')\n"
     ]
    },
    {
     "data": {
      "image/png": "[encoded data removed]",
      "text/plain": [
       "<Figure size 2000x1000 with 2 Axes>"
      ]
     },
     "metadata": {},
     "output_type": "display_data"
    }
   ],
   "source": [
    "epochs = list(range(len(history.history['accuracy'])))\n",
    "fig , ax = plt.subplots(1,2)\n",
    "train_acc = history.history['accuracy']\n",
    "train_loss = history.history['loss']\n",
    "\n",
    "\n",
    "fig.set_size_inches(20,10)\n",
    "\n",
    "ax[0].plot(epochs , train_acc , 'go-' ,color='r', label = 'Training Accuracy')\n",
    "ax[0].set_title('Training Accuracy')\n",
    "ax[0].legend()\n",
    "ax[0].set_xlabel(\"Epochs\")\n",
    "ax[0].set_ylabel(\"Accuracy\")\n",
    "\n",
    "\n",
    "ax[1].plot(epochs , train_loss , 'g-o' ,color='r', label = 'Training Loss')\n",
    "ax[1].set_title('Training Loss')\n",
    "ax[1].legend()\n",
    "ax[1].set_xlabel(\"Epochs\")\n",
    "ax[1].set_ylabel(\"Training Loss\")\n",
    "plt.show()"
   ]
  },
  {
   "cell_type": "code",
   "execution_count": 41,
   "id": "532d8148",
   "metadata": {
    "execution": {
     "iopub.execute_input": "2023-08-11T01:51:29.895753Z",
     "iopub.status.busy": "2023-08-11T01:51:29.895329Z",
     "iopub.status.idle": "2023-08-11T01:51:30.157439Z",
     "shell.execute_reply": "2023-08-11T01:51:30.156288Z"
    },
    "papermill": {
     "duration": 0.305195,
     "end_time": "2023-08-11T01:51:30.159819",
     "exception": false,
     "start_time": "2023-08-11T01:51:29.854624",
     "status": "completed"
    },
    "tags": []
   },
   "outputs": [
    {
     "name": "stdout",
     "output_type": "stream",
     "text": [
      "7/7 [==============================] - 0s 4ms/step\n"
     ]
    },
    {
     "data": {
      "text/plain": [
       "(0.6616161616161617,\n",
       " 0.6994671574217027,\n",
       " 0.6616161616161617,\n",
       " 0.667751892535623,\n",
       " 0.6463545293834039)"
      ]
     },
     "execution_count": 41,
     "metadata": {},
     "output_type": "execute_result"
    }
   ],
   "source": [
    "proba=model.predict(X_validation_tfidf_arr)\n",
    "pr = np.argmax(proba,axis=1)\n",
    "true=np.argmax(y_validation_ohe,axis=1)\n",
    "\n",
    "acc_score = metrics.accuracy_score(true,pr)\n",
    "pre_score = metrics.precision_score(true,pr,average=\"weighted\")\n",
    "recall= metrics.recall_score(true,pr,average=\"weighted\")\n",
    "f1= metrics.f1_score(true,pr,average=\"weighted\")\n",
    "mcc= metrics.matthews_corrcoef(true,pr)\n",
    "acc_score,pre_score,recall,f1,mcc"
   ]
  },
  {
   "cell_type": "markdown",
   "id": "9920f4d6",
   "metadata": {
    "papermill": {
     "duration": 0.040309,
     "end_time": "2023-08-11T01:51:30.240807",
     "exception": false,
     "start_time": "2023-08-11T01:51:30.200498",
     "status": "completed"
    },
    "tags": []
   },
   "source": [
    "## Model overfitted. Adding Dropout"
   ]
  },
  {
   "cell_type": "code",
   "execution_count": 42,
   "id": "4025f286",
   "metadata": {
    "execution": {
     "iopub.execute_input": "2023-08-11T01:51:30.326853Z",
     "iopub.status.busy": "2023-08-11T01:51:30.325833Z",
     "iopub.status.idle": "2023-08-11T01:51:30.430854Z",
     "shell.execute_reply": "2023-08-11T01:51:30.429828Z"
    },
    "papermill": {
     "duration": 0.151264,
     "end_time": "2023-08-11T01:51:30.433391",
     "exception": false,
     "start_time": "2023-08-11T01:51:30.282127",
     "status": "completed"
    },
    "tags": []
   },
   "outputs": [],
   "source": [
    "from tensorflow.keras.layers import Dropout\n",
    "model = Sequential()\n",
    "model.add(Dense(2048,input_shape = (input_sp,), activation = 'relu'))\n",
    "model.add(Dropout(.5))\n",
    "model.add(Dense(1024, activation = 'relu'))\n",
    "model.add(Dropout(.4))\n",
    "model.add(Dense(512, activation = 'relu'))\n",
    "model.add(Dropout(.3))\n",
    "model.add(Dense(256, activation = 'relu'))\n",
    "model.add(Dropout(.2))\n",
    "model.add(Dense(128, activation = 'relu'))\n",
    "model.add(Dropout(.1))\n",
    "model.add(Dense(64, activation = 'relu'))\n",
    "model.add(Dense(out_sp,activation='softmax'))"
   ]
  },
  {
   "cell_type": "code",
   "execution_count": 43,
   "id": "bd24f99d",
   "metadata": {
    "execution": {
     "iopub.execute_input": "2023-08-11T01:51:30.516979Z",
     "iopub.status.busy": "2023-08-11T01:51:30.516649Z",
     "iopub.status.idle": "2023-08-11T01:51:52.285071Z",
     "shell.execute_reply": "2023-08-11T01:51:52.283907Z"
    },
    "papermill": {
     "duration": 21.812945,
     "end_time": "2023-08-11T01:51:52.287627",
     "exception": false,
     "start_time": "2023-08-11T01:51:30.474682",
     "status": "completed"
    },
    "tags": []
   },
   "outputs": [
    {
     "name": "stdout",
     "output_type": "stream",
     "text": [
      "Epoch 1/50\n",
      "18/18 - 2s - loss: 3.1706 - accuracy: 0.0455 - 2s/epoch - 134ms/step\n",
      "Epoch 2/50\n",
      "18/18 - 0s - loss: 3.1460 - accuracy: 0.0534 - 230ms/epoch - 13ms/step\n",
      "Epoch 3/50\n",
      "18/18 - 0s - loss: 3.0291 - accuracy: 0.0963 - 204ms/epoch - 11ms/step\n",
      "Epoch 4/50\n",
      "18/18 - 0s - loss: 2.7259 - accuracy: 0.1554 - 205ms/epoch - 11ms/step\n",
      "Epoch 5/50\n",
      "18/18 - 0s - loss: 2.4313 - accuracy: 0.2556 - 205ms/epoch - 11ms/step\n",
      "Epoch 6/50\n",
      "18/18 - 0s - loss: 2.0559 - accuracy: 0.3698 - 202ms/epoch - 11ms/step\n",
      "Epoch 7/50\n",
      "18/18 - 0s - loss: 1.6759 - accuracy: 0.4718 - 205ms/epoch - 11ms/step\n",
      "Epoch 8/50\n",
      "18/18 - 0s - loss: 1.2572 - accuracy: 0.5969 - 203ms/epoch - 11ms/step\n",
      "Epoch 9/50\n",
      "18/18 - 0s - loss: 0.9520 - accuracy: 0.6941 - 209ms/epoch - 12ms/step\n",
      "Epoch 10/50\n",
      "18/18 - 0s - loss: 0.7236 - accuracy: 0.7659 - 200ms/epoch - 11ms/step\n",
      "Epoch 11/50\n",
      "18/18 - 0s - loss: 0.7238 - accuracy: 0.7847 - 199ms/epoch - 11ms/step\n",
      "Epoch 12/50\n",
      "18/18 - 0s - loss: 0.3234 - accuracy: 0.9020 - 198ms/epoch - 11ms/step\n",
      "Epoch 13/50\n",
      "18/18 - 0s - loss: 0.2551 - accuracy: 0.9221 - 198ms/epoch - 11ms/step\n",
      "Epoch 14/50\n",
      "18/18 - 0s - loss: 0.1080 - accuracy: 0.9654 - 197ms/epoch - 11ms/step\n",
      "Epoch 15/50\n",
      "18/18 - 0s - loss: 0.4048 - accuracy: 0.8888 - 200ms/epoch - 11ms/step\n",
      "Epoch 16/50\n",
      "18/18 - 0s - loss: 0.0656 - accuracy: 0.9829 - 196ms/epoch - 11ms/step\n",
      "Epoch 17/50\n",
      "18/18 - 0s - loss: 0.1357 - accuracy: 0.9641 - 199ms/epoch - 11ms/step\n",
      "Epoch 18/50\n",
      "18/18 - 0s - loss: 0.1178 - accuracy: 0.9694 - 201ms/epoch - 11ms/step\n",
      "Epoch 19/50\n",
      "18/18 - 0s - loss: 0.0272 - accuracy: 0.9921 - 200ms/epoch - 11ms/step\n",
      "Epoch 20/50\n",
      "18/18 - 0s - loss: 0.2676 - accuracy: 0.9414 - 202ms/epoch - 11ms/step\n",
      "Epoch 21/50\n",
      "18/18 - 0s - loss: 0.0277 - accuracy: 0.9943 - 211ms/epoch - 12ms/step\n",
      "Epoch 22/50\n",
      "18/18 - 0s - loss: 0.0224 - accuracy: 0.9952 - 252ms/epoch - 14ms/step\n",
      "Epoch 23/50\n",
      "18/18 - 0s - loss: 0.0172 - accuracy: 0.9943 - 205ms/epoch - 11ms/step\n",
      "Epoch 24/50\n",
      "18/18 - 0s - loss: 0.0608 - accuracy: 0.9816 - 203ms/epoch - 11ms/step\n",
      "Epoch 25/50\n",
      "18/18 - 0s - loss: 0.0221 - accuracy: 0.9926 - 198ms/epoch - 11ms/step\n",
      "Epoch 26/50\n",
      "18/18 - 0s - loss: 0.0113 - accuracy: 0.9969 - 202ms/epoch - 11ms/step\n",
      "Epoch 27/50\n",
      "18/18 - 0s - loss: 0.0217 - accuracy: 0.9930 - 203ms/epoch - 11ms/step\n",
      "Epoch 28/50\n",
      "18/18 - 0s - loss: 0.2976 - accuracy: 0.9365 - 200ms/epoch - 11ms/step\n",
      "Epoch 29/50\n",
      "18/18 - 0s - loss: 0.0175 - accuracy: 0.9939 - 200ms/epoch - 11ms/step\n",
      "Epoch 30/50\n",
      "18/18 - 0s - loss: 0.0081 - accuracy: 0.9974 - 191ms/epoch - 11ms/step\n",
      "Epoch 31/50\n",
      "18/18 - 0s - loss: 0.0055 - accuracy: 0.9991 - 194ms/epoch - 11ms/step\n",
      "Epoch 32/50\n",
      "18/18 - 0s - loss: 0.0355 - accuracy: 0.9904 - 197ms/epoch - 11ms/step\n",
      "Epoch 33/50\n",
      "18/18 - 0s - loss: 0.0068 - accuracy: 0.9987 - 196ms/epoch - 11ms/step\n",
      "Epoch 34/50\n",
      "18/18 - 0s - loss: 0.0034 - accuracy: 0.9996 - 204ms/epoch - 11ms/step\n",
      "Epoch 35/50\n",
      "18/18 - 0s - loss: 0.0108 - accuracy: 0.9974 - 201ms/epoch - 11ms/step\n",
      "Epoch 36/50\n",
      "18/18 - 0s - loss: 0.0390 - accuracy: 0.9899 - 202ms/epoch - 11ms/step\n",
      "Epoch 37/50\n",
      "18/18 - 0s - loss: 0.0025 - accuracy: 1.0000 - 197ms/epoch - 11ms/step\n",
      "Epoch 38/50\n",
      "18/18 - 0s - loss: 0.0122 - accuracy: 0.9939 - 205ms/epoch - 11ms/step\n",
      "Epoch 39/50\n",
      "18/18 - 0s - loss: 0.0140 - accuracy: 0.9974 - 203ms/epoch - 11ms/step\n",
      "Epoch 40/50\n",
      "18/18 - 0s - loss: 0.0233 - accuracy: 0.9930 - 202ms/epoch - 11ms/step\n",
      "Epoch 41/50\n",
      "18/18 - 0s - loss: 0.0096 - accuracy: 0.9974 - 200ms/epoch - 11ms/step\n",
      "Epoch 42/50\n",
      "18/18 - 0s - loss: 0.0146 - accuracy: 0.9978 - 209ms/epoch - 12ms/step\n",
      "Epoch 43/50\n",
      "18/18 - 0s - loss: 0.0146 - accuracy: 0.9943 - 203ms/epoch - 11ms/step\n",
      "Epoch 44/50\n",
      "18/18 - 0s - loss: 0.0099 - accuracy: 0.9956 - 200ms/epoch - 11ms/step\n",
      "Epoch 45/50\n",
      "18/18 - 0s - loss: 0.0165 - accuracy: 0.9934 - 208ms/epoch - 12ms/step\n",
      "Epoch 46/50\n",
      "18/18 - 0s - loss: 0.0050 - accuracy: 0.9978 - 201ms/epoch - 11ms/step\n",
      "Epoch 47/50\n",
      "18/18 - 0s - loss: 0.0043 - accuracy: 0.9991 - 210ms/epoch - 12ms/step\n",
      "Epoch 48/50\n",
      "18/18 - 0s - loss: 0.0014 - accuracy: 0.9996 - 200ms/epoch - 11ms/step\n",
      "Epoch 49/50\n",
      "18/18 - 0s - loss: 0.0041 - accuracy: 0.9982 - 204ms/epoch - 11ms/step\n",
      "Epoch 50/50\n",
      "18/18 - 0s - loss: 0.0187 - accuracy: 0.9956 - 201ms/epoch - 11ms/step\n"
     ]
    }
   ],
   "source": [
    "model.compile(loss='categorical_crossentropy',metrics=['accuracy',])\n",
    "history= model.fit(X_train_tfidf_arr, y_train_ohe, epochs=50, batch_size=128,verbose=2)"
   ]
  },
  {
   "cell_type": "code",
   "execution_count": 44,
   "id": "4c9192df",
   "metadata": {
    "execution": {
     "iopub.execute_input": "2023-08-11T01:51:52.388741Z",
     "iopub.status.busy": "2023-08-11T01:51:52.388178Z",
     "iopub.status.idle": "2023-08-11T01:51:52.567898Z",
     "shell.execute_reply": "2023-08-11T01:51:52.566862Z"
    },
    "papermill": {
     "duration": 0.231773,
     "end_time": "2023-08-11T01:51:52.570388",
     "exception": false,
     "start_time": "2023-08-11T01:51:52.338615",
     "status": "completed"
    },
    "tags": []
   },
   "outputs": [
    {
     "name": "stdout",
     "output_type": "stream",
     "text": [
      "7/7 [==============================] - 0s 3ms/step\n"
     ]
    },
    {
     "data": {
      "text/plain": [
       "(0.6565656565656566,\n",
       " 0.6928075011408344,\n",
       " 0.6565656565656566,\n",
       " 0.6560138513673389,\n",
       " 0.6416875599411289)"
      ]
     },
     "execution_count": 44,
     "metadata": {},
     "output_type": "execute_result"
    }
   ],
   "source": [
    "proba=model.predict(X_validation_tfidf_arr)\n",
    "pr = np.argmax(proba,axis=1)\n",
    "true=np.argmax(y_validation_ohe,axis=1)\n",
    "\n",
    "acc_score = metrics.accuracy_score(true,pr)\n",
    "pre_score = metrics.precision_score(true,pr,average=\"weighted\")\n",
    "recall= metrics.recall_score(true,pr,average=\"weighted\")\n",
    "f1= metrics.f1_score(true,pr,average=\"weighted\")\n",
    "mcc= metrics.matthews_corrcoef(true,pr)\n",
    "acc_score,pre_score,recall,f1,mcc"
   ]
  },
  {
   "cell_type": "markdown",
   "id": "273737d9",
   "metadata": {
    "papermill": {
     "duration": 0.047093,
     "end_time": "2023-08-11T01:51:52.670048",
     "exception": false,
     "start_time": "2023-08-11T01:51:52.622955",
     "status": "completed"
    },
    "tags": []
   },
   "source": [
    "## MLP Didn't work"
   ]
  },
  {
   "cell_type": "markdown",
   "id": "be30adc9",
   "metadata": {
    "papermill": {
     "duration": 0.04787,
     "end_time": "2023-08-11T01:51:52.765773",
     "exception": false,
     "start_time": "2023-08-11T01:51:52.717903",
     "status": "completed"
    },
    "tags": []
   },
   "source": [
    "# Bi-LSTM"
   ]
  },
  {
   "cell_type": "code",
   "execution_count": 45,
   "id": "a3b49369",
   "metadata": {
    "execution": {
     "iopub.execute_input": "2023-08-11T01:51:52.864499Z",
     "iopub.status.busy": "2023-08-11T01:51:52.863322Z",
     "iopub.status.idle": "2023-08-11T01:51:53.466787Z",
     "shell.execute_reply": "2023-08-11T01:51:53.465754Z"
    },
    "papermill": {
     "duration": 0.656172,
     "end_time": "2023-08-11T01:51:53.469379",
     "exception": false,
     "start_time": "2023-08-11T01:51:52.813207",
     "status": "completed"
    },
    "tags": []
   },
   "outputs": [],
   "source": [
    "# Functional API\n",
    "from tensorflow.keras import models, layers, optimizers\n",
    "input_ = layers.Input(shape =(input_sp,),name='input')\n",
    "x=layers.Reshape((input_sp, 1), input_shape = (input_sp, ))(input_)\n",
    "x = layers.Bidirectional(layers.LSTM(15,dropout=0.2, return_sequences=False),name='bidirectional-lstm')(x) \n",
    "x = layers.Dropout(0.2, name='dropout')(x)\n",
    "x = layers.Dense(64, activation='relu', name='dense')(x)\n",
    "output = layers.Dense(out_sp,activation='softmax', name='classification')(x)\n",
    "\n",
    "model = models.Model(input_, output)\n",
    "\n",
    "opt = optimizers.Adam(learning_rate=0.01) # because bi-lstms are slow, cannot affort high epoch, therefore higher learning rate for faster convergence \n",
    "model.compile(optimizer=opt,loss='categorical_crossentropy', metrics=['accuracy'])"
   ]
  },
  {
   "cell_type": "code",
   "execution_count": 46,
   "id": "f2b82e09",
   "metadata": {
    "execution": {
     "iopub.execute_input": "2023-08-11T01:51:53.568407Z",
     "iopub.status.busy": "2023-08-11T01:51:53.568033Z",
     "iopub.status.idle": "2023-08-11T02:01:19.887666Z",
     "shell.execute_reply": "2023-08-11T02:01:19.886474Z"
    },
    "papermill": {
     "duration": 566.372936,
     "end_time": "2023-08-11T02:01:19.890062",
     "exception": false,
     "start_time": "2023-08-11T01:51:53.517126",
     "status": "completed"
    },
    "tags": []
   },
   "outputs": [
    {
     "name": "stdout",
     "output_type": "stream",
     "text": [
      "Epoch 1/50\n",
      "18/18 - 18s - loss: 3.1638 - accuracy: 0.0446 - 18s/epoch - 1s/step\n",
      "Epoch 2/50\n",
      "18/18 - 11s - loss: 3.1470 - accuracy: 0.0516 - 11s/epoch - 613ms/step\n",
      "Epoch 3/50\n",
      "18/18 - 11s - loss: 3.1417 - accuracy: 0.0420 - 11s/epoch - 638ms/step\n",
      "Epoch 4/50\n",
      "18/18 - 11s - loss: 3.1404 - accuracy: 0.0420 - 11s/epoch - 610ms/step\n",
      "Epoch 5/50\n",
      "18/18 - 11s - loss: 3.1398 - accuracy: 0.0481 - 11s/epoch - 605ms/step\n",
      "Epoch 6/50\n",
      "18/18 - 12s - loss: 3.1415 - accuracy: 0.0425 - 12s/epoch - 644ms/step\n",
      "Epoch 7/50\n",
      "18/18 - 11s - loss: 3.1400 - accuracy: 0.0433 - 11s/epoch - 619ms/step\n",
      "Epoch 8/50\n",
      "18/18 - 11s - loss: 3.1399 - accuracy: 0.0464 - 11s/epoch - 606ms/step\n",
      "Epoch 9/50\n",
      "18/18 - 11s - loss: 3.1392 - accuracy: 0.0416 - 11s/epoch - 639ms/step\n",
      "Epoch 10/50\n",
      "18/18 - 11s - loss: 3.1400 - accuracy: 0.0363 - 11s/epoch - 617ms/step\n",
      "Epoch 11/50\n",
      "18/18 - 11s - loss: 3.1384 - accuracy: 0.0473 - 11s/epoch - 606ms/step\n",
      "Epoch 12/50\n",
      "18/18 - 12s - loss: 3.1388 - accuracy: 0.0460 - 12s/epoch - 641ms/step\n",
      "Epoch 13/50\n",
      "18/18 - 11s - loss: 3.1392 - accuracy: 0.0460 - 11s/epoch - 613ms/step\n",
      "Epoch 14/50\n",
      "18/18 - 11s - loss: 3.1385 - accuracy: 0.0446 - 11s/epoch - 612ms/step\n",
      "Epoch 15/50\n",
      "18/18 - 12s - loss: 3.1387 - accuracy: 0.0451 - 12s/epoch - 650ms/step\n",
      "Epoch 16/50\n",
      "18/18 - 11s - loss: 3.1391 - accuracy: 0.0468 - 11s/epoch - 618ms/step\n",
      "Epoch 17/50\n",
      "18/18 - 12s - loss: 3.1384 - accuracy: 0.0438 - 12s/epoch - 641ms/step\n",
      "Epoch 18/50\n",
      "18/18 - 11s - loss: 3.1391 - accuracy: 0.0438 - 11s/epoch - 611ms/step\n",
      "Epoch 19/50\n",
      "18/18 - 11s - loss: 3.1388 - accuracy: 0.0420 - 11s/epoch - 613ms/step\n",
      "Epoch 20/50\n",
      "18/18 - 12s - loss: 3.1381 - accuracy: 0.0473 - 12s/epoch - 643ms/step\n",
      "Epoch 21/50\n",
      "18/18 - 11s - loss: 3.1384 - accuracy: 0.0477 - 11s/epoch - 612ms/step\n",
      "Epoch 22/50\n",
      "18/18 - 11s - loss: 3.1384 - accuracy: 0.0481 - 11s/epoch - 611ms/step\n",
      "Epoch 23/50\n",
      "18/18 - 12s - loss: 3.1391 - accuracy: 0.0473 - 12s/epoch - 644ms/step\n",
      "Epoch 24/50\n",
      "18/18 - 11s - loss: 3.1370 - accuracy: 0.0451 - 11s/epoch - 609ms/step\n",
      "Epoch 25/50\n",
      "18/18 - 11s - loss: 3.1359 - accuracy: 0.0543 - 11s/epoch - 608ms/step\n",
      "Epoch 26/50\n",
      "18/18 - 11s - loss: 3.1360 - accuracy: 0.0446 - 11s/epoch - 638ms/step\n",
      "Epoch 27/50\n",
      "18/18 - 11s - loss: 3.1347 - accuracy: 0.0455 - 11s/epoch - 608ms/step\n",
      "Epoch 28/50\n",
      "18/18 - 11s - loss: 3.1350 - accuracy: 0.0468 - 11s/epoch - 612ms/step\n",
      "Epoch 29/50\n",
      "18/18 - 12s - loss: 3.1329 - accuracy: 0.0551 - 12s/epoch - 649ms/step\n",
      "Epoch 30/50\n",
      "18/18 - 11s - loss: 3.1299 - accuracy: 0.0464 - 11s/epoch - 612ms/step\n",
      "Epoch 31/50\n",
      "18/18 - 11s - loss: 3.1310 - accuracy: 0.0468 - 11s/epoch - 609ms/step\n",
      "Epoch 32/50\n",
      "18/18 - 12s - loss: 3.1306 - accuracy: 0.0512 - 12s/epoch - 643ms/step\n",
      "Epoch 33/50\n",
      "18/18 - 11s - loss: 3.1273 - accuracy: 0.0473 - 11s/epoch - 605ms/step\n",
      "Epoch 34/50\n",
      "18/18 - 12s - loss: 3.1278 - accuracy: 0.0433 - 12s/epoch - 645ms/step\n",
      "Epoch 35/50\n",
      "18/18 - 11s - loss: 3.1265 - accuracy: 0.0512 - 11s/epoch - 610ms/step\n",
      "Epoch 36/50\n",
      "18/18 - 11s - loss: 3.1271 - accuracy: 0.0499 - 11s/epoch - 609ms/step\n",
      "Epoch 37/50\n",
      "18/18 - 12s - loss: 3.1249 - accuracy: 0.0508 - 12s/epoch - 644ms/step\n",
      "Epoch 38/50\n",
      "18/18 - 11s - loss: 3.1231 - accuracy: 0.0521 - 11s/epoch - 607ms/step\n",
      "Epoch 39/50\n",
      "18/18 - 11s - loss: 3.1198 - accuracy: 0.0534 - 11s/epoch - 594ms/step\n",
      "Epoch 40/50\n",
      "18/18 - 11s - loss: 3.1202 - accuracy: 0.0560 - 11s/epoch - 635ms/step\n",
      "Epoch 41/50\n",
      "18/18 - 11s - loss: 3.1216 - accuracy: 0.0490 - 11s/epoch - 590ms/step\n",
      "Epoch 42/50\n",
      "18/18 - 11s - loss: 3.1195 - accuracy: 0.0534 - 11s/epoch - 594ms/step\n",
      "Epoch 43/50\n",
      "18/18 - 11s - loss: 3.1178 - accuracy: 0.0534 - 11s/epoch - 628ms/step\n",
      "Epoch 44/50\n",
      "18/18 - 11s - loss: 3.1202 - accuracy: 0.0534 - 11s/epoch - 591ms/step\n",
      "Epoch 45/50\n",
      "18/18 - 11s - loss: 3.1148 - accuracy: 0.0556 - 11s/epoch - 597ms/step\n",
      "Epoch 46/50\n",
      "18/18 - 11s - loss: 3.1150 - accuracy: 0.0565 - 11s/epoch - 626ms/step\n",
      "Epoch 47/50\n",
      "18/18 - 11s - loss: 3.1164 - accuracy: 0.0547 - 11s/epoch - 591ms/step\n",
      "Epoch 48/50\n",
      "18/18 - 11s - loss: 3.1205 - accuracy: 0.0530 - 11s/epoch - 595ms/step\n",
      "Epoch 49/50\n",
      "18/18 - 11s - loss: 3.1172 - accuracy: 0.0516 - 11s/epoch - 625ms/step\n",
      "Epoch 50/50\n",
      "18/18 - 11s - loss: 3.1133 - accuracy: 0.0560 - 11s/epoch - 591ms/step\n"
     ]
    }
   ],
   "source": [
    "history= model.fit(X_train_tfidf_arr, y_train_ohe, epochs=50, batch_size=128,verbose=2)"
   ]
  },
  {
   "cell_type": "code",
   "execution_count": 47,
   "id": "66e30e26",
   "metadata": {
    "execution": {
     "iopub.execute_input": "2023-08-11T02:01:20.006721Z",
     "iopub.status.busy": "2023-08-11T02:01:20.005773Z",
     "iopub.status.idle": "2023-08-11T02:01:23.299570Z",
     "shell.execute_reply": "2023-08-11T02:01:23.298478Z"
    },
    "papermill": {
     "duration": 3.354778,
     "end_time": "2023-08-11T02:01:23.301894",
     "exception": false,
     "start_time": "2023-08-11T02:01:19.947116",
     "status": "completed"
    },
    "tags": []
   },
   "outputs": [
    {
     "name": "stdout",
     "output_type": "stream",
     "text": [
      "7/7 [==============================] - 3s 271ms/step\n"
     ]
    },
    {
     "name": "stderr",
     "output_type": "stream",
     "text": [
      "/opt/conda/lib/python3.10/site-packages/sklearn/metrics/_classification.py:1344: UndefinedMetricWarning: Precision is ill-defined and being set to 0.0 in labels with no predicted samples. Use `zero_division` parameter to control this behavior.\n",
      "  _warn_prf(average, modifier, msg_start, len(result))\n"
     ]
    },
    {
     "data": {
      "text/plain": [
       "(0.030303030303030304,\n",
       " 0.0035171448833687924,\n",
       " 0.030303030303030304,\n",
       " 0.005414640229455044,\n",
       " -0.007212031790979225)"
      ]
     },
     "execution_count": 47,
     "metadata": {},
     "output_type": "execute_result"
    }
   ],
   "source": [
    "proba=model.predict(X_validation_tfidf_arr)\n",
    "pr = np.argmax(proba,axis=1)\n",
    "true=np.argmax(y_validation_ohe,axis=1)\n",
    "\n",
    "acc_score = metrics.accuracy_score(true,pr)\n",
    "pre_score = metrics.precision_score(true,pr,average=\"weighted\")\n",
    "recall= metrics.recall_score(true,pr,average=\"weighted\")\n",
    "f1= metrics.f1_score(true,pr,average=\"weighted\")\n",
    "mcc= metrics.matthews_corrcoef(true,pr)\n",
    "acc_score,pre_score,recall,f1,mcc"
   ]
  },
  {
   "cell_type": "markdown",
   "id": "5bb018af",
   "metadata": {
    "papermill": {
     "duration": 0.057516,
     "end_time": "2023-08-11T02:01:23.420842",
     "exception": false,
     "start_time": "2023-08-11T02:01:23.363326",
     "status": "completed"
    },
    "tags": []
   },
   "source": [
    "# Transformers"
   ]
  },
  {
   "cell_type": "code",
   "execution_count": 48,
   "id": "5bdb533d",
   "metadata": {
    "execution": {
     "iopub.execute_input": "2023-08-11T02:01:23.534273Z",
     "iopub.status.busy": "2023-08-11T02:01:23.532659Z",
     "iopub.status.idle": "2023-08-11T02:01:24.582619Z",
     "shell.execute_reply": "2023-08-11T02:01:24.581558Z"
    },
    "papermill": {
     "duration": 1.108053,
     "end_time": "2023-08-11T02:01:24.585146",
     "exception": false,
     "start_time": "2023-08-11T02:01:23.477093",
     "status": "completed"
    },
    "tags": []
   },
   "outputs": [],
   "source": [
    "import transformers\n",
    "from datasets import Dataset\n",
    "from transformers import AutoTokenizer\n",
    "model_name = \"distilbert-base-uncased\"\n",
    "train_dataset = Dataset.from_pandas(train)\n",
    "valid_dataset = Dataset.from_pandas(validation)"
   ]
  },
  {
   "cell_type": "code",
   "execution_count": 49,
   "id": "0aef4927",
   "metadata": {
    "execution": {
     "iopub.execute_input": "2023-08-11T02:01:24.699453Z",
     "iopub.status.busy": "2023-08-11T02:01:24.698816Z",
     "iopub.status.idle": "2023-08-11T02:01:25.358020Z",
     "shell.execute_reply": "2023-08-11T02:01:25.356969Z"
    },
    "papermill": {
     "duration": 0.719016,
     "end_time": "2023-08-11T02:01:25.360338",
     "exception": false,
     "start_time": "2023-08-11T02:01:24.641322",
     "status": "completed"
    },
    "tags": []
   },
   "outputs": [
    {
     "data": {
      "application/vnd.jupyter.widget-view+json": {
       "model_id": "68c0fa04b42246e78478ae452f7e31b0",
       "version_major": 2,
       "version_minor": 0
      },
      "text/plain": [
       "Downloading (…)okenizer_config.json:   0%|          | 0.00/28.0 [00:00<?, ?B/s]"
      ]
     },
     "metadata": {},
     "output_type": "display_data"
    },
    {
     "data": {
      "application/vnd.jupyter.widget-view+json": {
       "model_id": "d224eee1b2734810889acdf0e3489f59",
       "version_major": 2,
       "version_minor": 0
      },
      "text/plain": [
       "Downloading (…)lve/main/config.json:   0%|          | 0.00/483 [00:00<?, ?B/s]"
      ]
     },
     "metadata": {},
     "output_type": "display_data"
    },
    {
     "data": {
      "application/vnd.jupyter.widget-view+json": {
       "model_id": "23e7fded27024be3b5862e445651f746",
       "version_major": 2,
       "version_minor": 0
      },
      "text/plain": [
       "Downloading (…)solve/main/vocab.txt:   0%|          | 0.00/232k [00:00<?, ?B/s]"
      ]
     },
     "metadata": {},
     "output_type": "display_data"
    },
    {
     "data": {
      "application/vnd.jupyter.widget-view+json": {
       "model_id": "11afcb7be0234066bf4adc59502ebf0f",
       "version_major": 2,
       "version_minor": 0
      },
      "text/plain": [
       "Downloading (…)/main/tokenizer.json:   0%|          | 0.00/466k [00:00<?, ?B/s]"
      ]
     },
     "metadata": {},
     "output_type": "display_data"
    }
   ],
   "source": [
    "tokenizer = AutoTokenizer.from_pretrained(model_name)\n",
    "\n",
    "def preprocess_function(examples):\n",
    "    return tokenizer(examples[\"text\"], truncation=True)"
   ]
  },
  {
   "cell_type": "code",
   "execution_count": 50,
   "id": "e62588f0",
   "metadata": {
    "execution": {
     "iopub.execute_input": "2023-08-11T02:01:25.475690Z",
     "iopub.status.busy": "2023-08-11T02:01:25.475317Z",
     "iopub.status.idle": "2023-08-11T02:01:32.308199Z",
     "shell.execute_reply": "2023-08-11T02:01:32.307279Z"
    },
    "papermill": {
     "duration": 6.892658,
     "end_time": "2023-08-11T02:01:32.310561",
     "exception": false,
     "start_time": "2023-08-11T02:01:25.417903",
     "status": "completed"
    },
    "tags": []
   },
   "outputs": [
    {
     "data": {
      "application/vnd.jupyter.widget-view+json": {
       "model_id": "d41b12c93c534d9f92253947d32f13ab",
       "version_major": 2,
       "version_minor": 0
      },
      "text/plain": [
       "Downloading model.safetensors:   0%|          | 0.00/268M [00:00<?, ?B/s]"
      ]
     },
     "metadata": {},
     "output_type": "display_data"
    },
    {
     "name": "stderr",
     "output_type": "stream",
     "text": [
      "Some weights of the model checkpoint at distilbert-base-uncased were not used when initializing DistilBertForSequenceClassification: ['vocab_transform.weight', 'vocab_projector.bias', 'vocab_transform.bias', 'vocab_layer_norm.bias', 'vocab_layer_norm.weight']\n",
      "- This IS expected if you are initializing DistilBertForSequenceClassification from the checkpoint of a model trained on another task or with another architecture (e.g. initializing a BertForSequenceClassification model from a BertForPreTraining model).\n",
      "- This IS NOT expected if you are initializing DistilBertForSequenceClassification from the checkpoint of a model that you expect to be exactly identical (initializing a BertForSequenceClassification model from a BertForSequenceClassification model).\n",
      "Some weights of DistilBertForSequenceClassification were not initialized from the model checkpoint at distilbert-base-uncased and are newly initialized: ['pre_classifier.bias', 'classifier.bias', 'pre_classifier.weight', 'classifier.weight']\n",
      "You should probably TRAIN this model on a down-stream task to be able to use it for predictions and inference.\n"
     ]
    }
   ],
   "source": [
    "from transformers import AutoModelForSequenceClassification\n",
    "model = AutoModelForSequenceClassification.from_pretrained(model_name, num_labels=len(train['type'].unique()))"
   ]
  },
  {
   "cell_type": "code",
   "execution_count": 51,
   "id": "d8db2c00",
   "metadata": {
    "execution": {
     "iopub.execute_input": "2023-08-11T02:01:32.426137Z",
     "iopub.status.busy": "2023-08-11T02:01:32.425805Z",
     "iopub.status.idle": "2023-08-11T02:01:47.423040Z",
     "shell.execute_reply": "2023-08-11T02:01:47.421868Z"
    },
    "papermill": {
     "duration": 15.058056,
     "end_time": "2023-08-11T02:01:47.425801",
     "exception": false,
     "start_time": "2023-08-11T02:01:32.367745",
     "status": "completed"
    },
    "tags": []
   },
   "outputs": [
    {
     "name": "stdout",
     "output_type": "stream",
     "text": [
      "Collecting evaluate\r\n",
      "  Downloading evaluate-0.4.0-py3-none-any.whl (81 kB)\r\n",
      "\u001b[2K     \u001b[90m━━━━━━━━━━━━━━━━━━━━━━━━━━━━━━━━━━━━━━━━\u001b[0m \u001b[32m81.4/81.4 kB\u001b[0m \u001b[31m3.2 MB/s\u001b[0m eta \u001b[36m0:00:00\u001b[0m\r\n",
      "\u001b[?25hRequirement already satisfied: datasets>=2.0.0 in /opt/conda/lib/python3.10/site-packages (from evaluate) (2.1.0)\r\n",
      "Requirement already satisfied: numpy>=1.17 in /opt/conda/lib/python3.10/site-packages (from evaluate) (1.23.5)\r\n",
      "Requirement already satisfied: dill in /opt/conda/lib/python3.10/site-packages (from evaluate) (0.3.6)\r\n",
      "Requirement already satisfied: pandas in /opt/conda/lib/python3.10/site-packages (from evaluate) (1.5.3)\r\n",
      "Requirement already satisfied: requests>=2.19.0 in /opt/conda/lib/python3.10/site-packages (from evaluate) (2.31.0)\r\n",
      "Requirement already satisfied: tqdm>=4.62.1 in /opt/conda/lib/python3.10/site-packages (from evaluate) (4.65.0)\r\n",
      "Requirement already satisfied: xxhash in /opt/conda/lib/python3.10/site-packages (from evaluate) (3.2.0)\r\n",
      "Requirement already satisfied: multiprocess in /opt/conda/lib/python3.10/site-packages (from evaluate) (0.70.14)\r\n",
      "Requirement already satisfied: fsspec[http]>=2021.05.0 in /opt/conda/lib/python3.10/site-packages (from evaluate) (2023.6.0)\r\n",
      "Requirement already satisfied: huggingface-hub>=0.7.0 in /opt/conda/lib/python3.10/site-packages (from evaluate) (0.16.4)\r\n",
      "Requirement already satisfied: packaging in /opt/conda/lib/python3.10/site-packages (from evaluate) (21.3)\r\n",
      "Requirement already satisfied: responses<0.19 in /opt/conda/lib/python3.10/site-packages (from evaluate) (0.18.0)\r\n",
      "Requirement already satisfied: pyarrow>=5.0.0 in /opt/conda/lib/python3.10/site-packages (from datasets>=2.0.0->evaluate) (11.0.0)\r\n",
      "Requirement already satisfied: aiohttp in /opt/conda/lib/python3.10/site-packages (from datasets>=2.0.0->evaluate) (3.8.4)\r\n",
      "Requirement already satisfied: filelock in /opt/conda/lib/python3.10/site-packages (from huggingface-hub>=0.7.0->evaluate) (3.12.2)\r\n",
      "Requirement already satisfied: pyyaml>=5.1 in /opt/conda/lib/python3.10/site-packages (from huggingface-hub>=0.7.0->evaluate) (6.0)\r\n",
      "Requirement already satisfied: typing-extensions>=3.7.4.3 in /opt/conda/lib/python3.10/site-packages (from huggingface-hub>=0.7.0->evaluate) (4.6.3)\r\n",
      "Requirement already satisfied: pyparsing!=3.0.5,>=2.0.2 in /opt/conda/lib/python3.10/site-packages (from packaging->evaluate) (3.0.9)\r\n",
      "Requirement already satisfied: charset-normalizer<4,>=2 in /opt/conda/lib/python3.10/site-packages (from requests>=2.19.0->evaluate) (3.1.0)\r\n",
      "Requirement already satisfied: idna<4,>=2.5 in /opt/conda/lib/python3.10/site-packages (from requests>=2.19.0->evaluate) (3.4)\r\n",
      "Requirement already satisfied: urllib3<3,>=1.21.1 in /opt/conda/lib/python3.10/site-packages (from requests>=2.19.0->evaluate) (1.26.15)\r\n",
      "Requirement already satisfied: certifi>=2017.4.17 in /opt/conda/lib/python3.10/site-packages (from requests>=2.19.0->evaluate) (2023.5.7)\r\n",
      "Requirement already satisfied: python-dateutil>=2.8.1 in /opt/conda/lib/python3.10/site-packages (from pandas->evaluate) (2.8.2)\r\n",
      "Requirement already satisfied: pytz>=2020.1 in /opt/conda/lib/python3.10/site-packages (from pandas->evaluate) (2023.3)\r\n",
      "Requirement already satisfied: attrs>=17.3.0 in /opt/conda/lib/python3.10/site-packages (from aiohttp->datasets>=2.0.0->evaluate) (23.1.0)\r\n",
      "Requirement already satisfied: multidict<7.0,>=4.5 in /opt/conda/lib/python3.10/site-packages (from aiohttp->datasets>=2.0.0->evaluate) (6.0.4)\r\n",
      "Requirement already satisfied: async-timeout<5.0,>=4.0.0a3 in /opt/conda/lib/python3.10/site-packages (from aiohttp->datasets>=2.0.0->evaluate) (4.0.2)\r\n",
      "Requirement already satisfied: yarl<2.0,>=1.0 in /opt/conda/lib/python3.10/site-packages (from aiohttp->datasets>=2.0.0->evaluate) (1.9.2)\r\n",
      "Requirement already satisfied: frozenlist>=1.1.1 in /opt/conda/lib/python3.10/site-packages (from aiohttp->datasets>=2.0.0->evaluate) (1.3.3)\r\n",
      "Requirement already satisfied: aiosignal>=1.1.2 in /opt/conda/lib/python3.10/site-packages (from aiohttp->datasets>=2.0.0->evaluate) (1.3.1)\r\n",
      "Requirement already satisfied: six>=1.5 in /opt/conda/lib/python3.10/site-packages (from python-dateutil>=2.8.1->pandas->evaluate) (1.16.0)\r\n",
      "Installing collected packages: evaluate\r\n",
      "Successfully installed evaluate-0.4.0\r\n"
     ]
    }
   ],
   "source": [
    "! pip install evaluate\n",
    "from transformers import DataCollatorWithPadding\n",
    "from transformers import TrainingArguments, Trainer\n",
    "import evaluate\n",
    "import numpy as np"
   ]
  },
  {
   "cell_type": "code",
   "execution_count": 52,
   "id": "50f0c458",
   "metadata": {
    "execution": {
     "iopub.execute_input": "2023-08-11T02:01:47.545048Z",
     "iopub.status.busy": "2023-08-11T02:01:47.544686Z",
     "iopub.status.idle": "2023-08-11T02:01:47.550402Z",
     "shell.execute_reply": "2023-08-11T02:01:47.549415Z"
    },
    "papermill": {
     "duration": 0.067082,
     "end_time": "2023-08-11T02:01:47.552718",
     "exception": false,
     "start_time": "2023-08-11T02:01:47.485636",
     "status": "completed"
    },
    "tags": []
   },
   "outputs": [],
   "source": [
    "data_collator = DataCollatorWithPadding(tokenizer=tokenizer)"
   ]
  },
  {
   "cell_type": "code",
   "execution_count": 53,
   "id": "b7298259",
   "metadata": {
    "execution": {
     "iopub.execute_input": "2023-08-11T02:01:47.717203Z",
     "iopub.status.busy": "2023-08-11T02:01:47.716821Z",
     "iopub.status.idle": "2023-08-11T02:01:48.109140Z",
     "shell.execute_reply": "2023-08-11T02:01:48.108120Z"
    },
    "papermill": {
     "duration": 0.47309,
     "end_time": "2023-08-11T02:01:48.111629",
     "exception": false,
     "start_time": "2023-08-11T02:01:47.638539",
     "status": "completed"
    },
    "tags": []
   },
   "outputs": [
    {
     "data": {
      "application/vnd.jupyter.widget-view+json": {
       "model_id": "d86220b945a04b26b253de11d283e088",
       "version_major": 2,
       "version_minor": 0
      },
      "text/plain": [
       "Downloading builder script:   0%|          | 0.00/4.20k [00:00<?, ?B/s]"
      ]
     },
     "metadata": {},
     "output_type": "display_data"
    }
   ],
   "source": [
    "metric = evaluate.load(\"accuracy\")\n",
    "\n",
    "def compute_metrics(eval_pred):\n",
    "    logits, labels = eval_pred\n",
    "    predictions = np.argmax(logits, axis=-1)\n",
    "    return metric.compute(predictions=predictions, references=labels)"
   ]
  },
  {
   "cell_type": "code",
   "execution_count": 54,
   "id": "fd6bb1b1",
   "metadata": {
    "execution": {
     "iopub.execute_input": "2023-08-11T02:01:48.232129Z",
     "iopub.status.busy": "2023-08-11T02:01:48.231814Z",
     "iopub.status.idle": "2023-08-11T02:01:57.025939Z",
     "shell.execute_reply": "2023-08-11T02:01:57.025110Z"
    },
    "papermill": {
     "duration": 8.856154,
     "end_time": "2023-08-11T02:01:57.028140",
     "exception": false,
     "start_time": "2023-08-11T02:01:48.171986",
     "status": "completed"
    },
    "tags": []
   },
   "outputs": [
    {
     "data": {
      "application/vnd.jupyter.widget-view+json": {
       "model_id": "5a5f7d42cfd44ca891f7528735d259dd",
       "version_major": 2,
       "version_minor": 0
      },
      "text/plain": [
       "  0%|          | 0/3 [00:00<?, ?ba/s]"
      ]
     },
     "metadata": {},
     "output_type": "display_data"
    },
    {
     "data": {
      "application/vnd.jupyter.widget-view+json": {
       "model_id": "82024feaba4b47c8809b4f143f4cd787",
       "version_major": 2,
       "version_minor": 0
      },
      "text/plain": [
       "  0%|          | 0/1 [00:00<?, ?ba/s]"
      ]
     },
     "metadata": {},
     "output_type": "display_data"
    }
   ],
   "source": [
    "def preprocess_function(examples):\n",
    "    return tokenizer(examples[\"text\"], truncation=True)\n",
    "tokenized_train = train_dataset.map(preprocess_function, batched=True)\n",
    "tokenized_valid = valid_dataset.map(preprocess_function, batched=True)"
   ]
  },
  {
   "cell_type": "code",
   "execution_count": 55,
   "id": "51c68c3e",
   "metadata": {
    "execution": {
     "iopub.execute_input": "2023-08-11T02:01:57.156494Z",
     "iopub.status.busy": "2023-08-11T02:01:57.155519Z",
     "iopub.status.idle": "2023-08-11T02:01:57.161603Z",
     "shell.execute_reply": "2023-08-11T02:01:57.160567Z"
    },
    "papermill": {
     "duration": 0.074177,
     "end_time": "2023-08-11T02:01:57.163990",
     "exception": false,
     "start_time": "2023-08-11T02:01:57.089813",
     "status": "completed"
    },
    "tags": []
   },
   "outputs": [],
   "source": [
    "labels = list(set(train['type'].to_list()))\n",
    "label_count = len(labels)"
   ]
  },
  {
   "cell_type": "code",
   "execution_count": 56,
   "id": "335951a5",
   "metadata": {
    "execution": {
     "iopub.execute_input": "2023-08-11T02:01:57.305469Z",
     "iopub.status.busy": "2023-08-11T02:01:57.305037Z",
     "iopub.status.idle": "2023-08-11T02:01:57.310560Z",
     "shell.execute_reply": "2023-08-11T02:01:57.309363Z"
    },
    "papermill": {
     "duration": 0.084249,
     "end_time": "2023-08-11T02:01:57.312875",
     "exception": false,
     "start_time": "2023-08-11T02:01:57.228626",
     "status": "completed"
    },
    "tags": []
   },
   "outputs": [],
   "source": [
    "def categorize(x):\n",
    "  return {\"labels\": [labels.index(type_) for type_ in x['type']]}"
   ]
  },
  {
   "cell_type": "code",
   "execution_count": 57,
   "id": "7aefd321",
   "metadata": {
    "execution": {
     "iopub.execute_input": "2023-08-11T02:01:57.442618Z",
     "iopub.status.busy": "2023-08-11T02:01:57.441758Z",
     "iopub.status.idle": "2023-08-11T02:01:59.586014Z",
     "shell.execute_reply": "2023-08-11T02:01:59.584808Z"
    },
    "papermill": {
     "duration": 2.212384,
     "end_time": "2023-08-11T02:01:59.588506",
     "exception": false,
     "start_time": "2023-08-11T02:01:57.376122",
     "status": "completed"
    },
    "tags": []
   },
   "outputs": [
    {
     "data": {
      "application/vnd.jupyter.widget-view+json": {
       "model_id": "e49f181341344cc98e9d463c505233f5",
       "version_major": 2,
       "version_minor": 0
      },
      "text/plain": [
       "  0%|          | 0/3 [00:00<?, ?ba/s]"
      ]
     },
     "metadata": {},
     "output_type": "display_data"
    },
    {
     "data": {
      "text/plain": [
       "Dataset({\n",
       "    features: ['file', 'type', 'text', '__index_level_0__', 'input_ids', 'attention_mask', 'labels'],\n",
       "    num_rows: 2285\n",
       "})"
      ]
     },
     "execution_count": 57,
     "metadata": {},
     "output_type": "execute_result"
    }
   ],
   "source": [
    "categorized_train = tokenized_train.map(categorize, batched=True)\n",
    "categorized_train"
   ]
  },
  {
   "cell_type": "code",
   "execution_count": 58,
   "id": "fe237839",
   "metadata": {
    "execution": {
     "iopub.execute_input": "2023-08-11T02:01:59.708154Z",
     "iopub.status.busy": "2023-08-11T02:01:59.707834Z",
     "iopub.status.idle": "2023-08-11T02:01:59.915637Z",
     "shell.execute_reply": "2023-08-11T02:01:59.914490Z"
    },
    "papermill": {
     "duration": 0.272135,
     "end_time": "2023-08-11T02:01:59.919888",
     "exception": false,
     "start_time": "2023-08-11T02:01:59.647753",
     "status": "completed"
    },
    "tags": []
   },
   "outputs": [
    {
     "data": {
      "application/vnd.jupyter.widget-view+json": {
       "model_id": "c88387dac5b94447afbc1ce0b33bcbd3",
       "version_major": 2,
       "version_minor": 0
      },
      "text/plain": [
       "  0%|          | 0/1 [00:00<?, ?ba/s]"
      ]
     },
     "metadata": {},
     "output_type": "display_data"
    },
    {
     "data": {
      "text/plain": [
       "Dataset({\n",
       "    features: ['file', 'type', 'text', '__index_level_0__', 'input_ids', 'attention_mask', 'labels'],\n",
       "    num_rows: 198\n",
       "})"
      ]
     },
     "execution_count": 58,
     "metadata": {},
     "output_type": "execute_result"
    }
   ],
   "source": [
    "categorized_valid = tokenized_valid.map(categorize, batched=True)\n",
    "categorized_valid"
   ]
  },
  {
   "cell_type": "code",
   "execution_count": 59,
   "id": "3f62d5a4",
   "metadata": {
    "execution": {
     "iopub.execute_input": "2023-08-11T02:02:00.040385Z",
     "iopub.status.busy": "2023-08-11T02:02:00.040067Z",
     "iopub.status.idle": "2023-08-11T02:02:07.276048Z",
     "shell.execute_reply": "2023-08-11T02:02:07.274806Z"
    },
    "papermill": {
     "duration": 7.29867,
     "end_time": "2023-08-11T02:02:07.277913",
     "exception": true,
     "start_time": "2023-08-11T02:01:59.979243",
     "status": "failed"
    },
    "tags": []
   },
   "outputs": [
    {
     "data": {
      "text/html": [
       "<pre style=\"white-space:pre;overflow-x:auto;line-height:normal;font-family:Menlo,'DejaVu Sans Mono',consolas,'Courier New',monospace\"><span style=\"color: #800000; text-decoration-color: #800000\">╭─────────────────────────────── </span><span style=\"color: #800000; text-decoration-color: #800000; font-weight: bold\">Traceback </span><span style=\"color: #bf7f7f; text-decoration-color: #bf7f7f; font-weight: bold\">(most recent call last)</span><span style=\"color: #800000; text-decoration-color: #800000\"> ────────────────────────────────╮</span>\n",
       "<span style=\"color: #800000; text-decoration-color: #800000\">│</span> in <span style=\"color: #00ff00; text-decoration-color: #00ff00\">&lt;module&gt;</span>:<span style=\"color: #0000ff; text-decoration-color: #0000ff\">12</span>                                                                                   <span style=\"color: #800000; text-decoration-color: #800000\">│</span>\n",
       "<span style=\"color: #800000; text-decoration-color: #800000\">│</span>                                                                                                  <span style=\"color: #800000; text-decoration-color: #800000\">│</span>\n",
       "<span style=\"color: #800000; text-decoration-color: #800000\">│</span>   <span style=\"color: #7f7f7f; text-decoration-color: #7f7f7f\"> 9 </span><span style=\"color: #7f7f7f; text-decoration-color: #7f7f7f\">│   </span>logging_strategy=<span style=\"color: #808000; text-decoration-color: #808000\">\"epoch\"</span>,                                                               <span style=\"color: #800000; text-decoration-color: #800000\">│</span>\n",
       "<span style=\"color: #800000; text-decoration-color: #800000\">│</span>   <span style=\"color: #7f7f7f; text-decoration-color: #7f7f7f\">10 </span>)                                                                                           <span style=\"color: #800000; text-decoration-color: #800000\">│</span>\n",
       "<span style=\"color: #800000; text-decoration-color: #800000\">│</span>   <span style=\"color: #7f7f7f; text-decoration-color: #7f7f7f\">11 </span>                                                                                            <span style=\"color: #800000; text-decoration-color: #800000\">│</span>\n",
       "<span style=\"color: #800000; text-decoration-color: #800000\">│</span> <span style=\"color: #800000; text-decoration-color: #800000\">❱ </span>12 trainer = Trainer(                                                                          <span style=\"color: #800000; text-decoration-color: #800000\">│</span>\n",
       "<span style=\"color: #800000; text-decoration-color: #800000\">│</span>   <span style=\"color: #7f7f7f; text-decoration-color: #7f7f7f\">13 </span><span style=\"color: #7f7f7f; text-decoration-color: #7f7f7f\">│   </span>model=model,                                                                            <span style=\"color: #800000; text-decoration-color: #800000\">│</span>\n",
       "<span style=\"color: #800000; text-decoration-color: #800000\">│</span>   <span style=\"color: #7f7f7f; text-decoration-color: #7f7f7f\">14 </span><span style=\"color: #7f7f7f; text-decoration-color: #7f7f7f\">│   </span>args=training_args,                                                                     <span style=\"color: #800000; text-decoration-color: #800000\">│</span>\n",
       "<span style=\"color: #800000; text-decoration-color: #800000\">│</span>   <span style=\"color: #7f7f7f; text-decoration-color: #7f7f7f\">15 </span><span style=\"color: #7f7f7f; text-decoration-color: #7f7f7f\">│   </span>train_dataset=categorized_train,                                                        <span style=\"color: #800000; text-decoration-color: #800000\">│</span>\n",
       "<span style=\"color: #800000; text-decoration-color: #800000\">│</span>                                                                                                  <span style=\"color: #800000; text-decoration-color: #800000\">│</span>\n",
       "<span style=\"color: #800000; text-decoration-color: #800000\">│</span> <span style=\"color: #bfbf7f; text-decoration-color: #bfbf7f\">/opt/conda/lib/python3.10/site-packages/transformers/</span><span style=\"color: #808000; text-decoration-color: #808000; font-weight: bold\">trainer.py</span>:<span style=\"color: #0000ff; text-decoration-color: #0000ff\">511</span> in <span style=\"color: #00ff00; text-decoration-color: #00ff00\">__init__</span>                  <span style=\"color: #800000; text-decoration-color: #800000\">│</span>\n",
       "<span style=\"color: #800000; text-decoration-color: #800000\">│</span>                                                                                                  <span style=\"color: #800000; text-decoration-color: #800000\">│</span>\n",
       "<span style=\"color: #800000; text-decoration-color: #800000\">│</span>   <span style=\"color: #7f7f7f; text-decoration-color: #7f7f7f\"> 508 </span><span style=\"color: #7f7f7f; text-decoration-color: #7f7f7f\">│   │   </span><span style=\"color: #00ffff; text-decoration-color: #00ffff\">self</span>.tokenizer = tokenizer                                                        <span style=\"color: #800000; text-decoration-color: #800000\">│</span>\n",
       "<span style=\"color: #800000; text-decoration-color: #800000\">│</span>   <span style=\"color: #7f7f7f; text-decoration-color: #7f7f7f\"> 509 </span><span style=\"color: #7f7f7f; text-decoration-color: #7f7f7f\">│   │   </span>                                                                                  <span style=\"color: #800000; text-decoration-color: #800000\">│</span>\n",
       "<span style=\"color: #800000; text-decoration-color: #800000\">│</span>   <span style=\"color: #7f7f7f; text-decoration-color: #7f7f7f\"> 510 </span><span style=\"color: #7f7f7f; text-decoration-color: #7f7f7f\">│   │   </span><span style=\"color: #0000ff; text-decoration-color: #0000ff\">if</span> <span style=\"color: #00ffff; text-decoration-color: #00ffff\">self</span>.place_model_on_device <span style=\"color: #ff00ff; text-decoration-color: #ff00ff\">and</span> <span style=\"color: #ff00ff; text-decoration-color: #ff00ff\">not</span> <span style=\"color: #00ffff; text-decoration-color: #00ffff\">getattr</span>(model, <span style=\"color: #808000; text-decoration-color: #808000\">\"is_loaded_in_8bit\"</span>, <span style=\"color: #0000ff; text-decoration-color: #0000ff\">False</span>)  <span style=\"color: #800000; text-decoration-color: #800000\">│</span>\n",
       "<span style=\"color: #800000; text-decoration-color: #800000\">│</span> <span style=\"color: #800000; text-decoration-color: #800000\">❱ </span> 511 <span style=\"color: #7f7f7f; text-decoration-color: #7f7f7f\">│   │   │   </span><span style=\"color: #00ffff; text-decoration-color: #00ffff\">self</span>._move_model_to_device(model, args.device)                                <span style=\"color: #800000; text-decoration-color: #800000\">│</span>\n",
       "<span style=\"color: #800000; text-decoration-color: #800000\">│</span>   <span style=\"color: #7f7f7f; text-decoration-color: #7f7f7f\"> 512 </span><span style=\"color: #7f7f7f; text-decoration-color: #7f7f7f\">│   │   </span>                                                                                  <span style=\"color: #800000; text-decoration-color: #800000\">│</span>\n",
       "<span style=\"color: #800000; text-decoration-color: #800000\">│</span>   <span style=\"color: #7f7f7f; text-decoration-color: #7f7f7f\"> 513 </span><span style=\"color: #7f7f7f; text-decoration-color: #7f7f7f\">│   │   </span><span style=\"color: #7f7f7f; text-decoration-color: #7f7f7f\"># Force n_gpu to 1 to avoid DataParallel as MP will manage the GPUs</span>               <span style=\"color: #800000; text-decoration-color: #800000\">│</span>\n",
       "<span style=\"color: #800000; text-decoration-color: #800000\">│</span>   <span style=\"color: #7f7f7f; text-decoration-color: #7f7f7f\"> 514 </span><span style=\"color: #7f7f7f; text-decoration-color: #7f7f7f\">│   │   </span><span style=\"color: #0000ff; text-decoration-color: #0000ff\">if</span> <span style=\"color: #00ffff; text-decoration-color: #00ffff\">self</span>.is_model_parallel:                                                        <span style=\"color: #800000; text-decoration-color: #800000\">│</span>\n",
       "<span style=\"color: #800000; text-decoration-color: #800000\">│</span>                                                                                                  <span style=\"color: #800000; text-decoration-color: #800000\">│</span>\n",
       "<span style=\"color: #800000; text-decoration-color: #800000\">│</span> <span style=\"color: #bfbf7f; text-decoration-color: #bfbf7f\">/opt/conda/lib/python3.10/site-packages/transformers/</span><span style=\"color: #808000; text-decoration-color: #808000; font-weight: bold\">trainer.py</span>:<span style=\"color: #0000ff; text-decoration-color: #0000ff\">754</span> in <span style=\"color: #00ff00; text-decoration-color: #00ff00\">_move_model_to_device</span>     <span style=\"color: #800000; text-decoration-color: #800000\">│</span>\n",
       "<span style=\"color: #800000; text-decoration-color: #800000\">│</span>                                                                                                  <span style=\"color: #800000; text-decoration-color: #800000\">│</span>\n",
       "<span style=\"color: #800000; text-decoration-color: #800000\">│</span>   <span style=\"color: #7f7f7f; text-decoration-color: #7f7f7f\"> 751 </span><span style=\"color: #7f7f7f; text-decoration-color: #7f7f7f\">│   │   </span><span style=\"color: #00ffff; text-decoration-color: #00ffff\">self</span>.callback_handler.remove_callback(callback)                                   <span style=\"color: #800000; text-decoration-color: #800000\">│</span>\n",
       "<span style=\"color: #800000; text-decoration-color: #800000\">│</span>   <span style=\"color: #7f7f7f; text-decoration-color: #7f7f7f\"> 752 </span><span style=\"color: #7f7f7f; text-decoration-color: #7f7f7f\">│   </span>                                                                                      <span style=\"color: #800000; text-decoration-color: #800000\">│</span>\n",
       "<span style=\"color: #800000; text-decoration-color: #800000\">│</span>   <span style=\"color: #7f7f7f; text-decoration-color: #7f7f7f\"> 753 </span><span style=\"color: #7f7f7f; text-decoration-color: #7f7f7f\">│   </span><span style=\"color: #0000ff; text-decoration-color: #0000ff\">def</span> <span style=\"color: #00ff00; text-decoration-color: #00ff00\">_move_model_to_device</span>(<span style=\"color: #00ffff; text-decoration-color: #00ffff\">self</span>, model, device):                                       <span style=\"color: #800000; text-decoration-color: #800000\">│</span>\n",
       "<span style=\"color: #800000; text-decoration-color: #800000\">│</span> <span style=\"color: #800000; text-decoration-color: #800000\">❱ </span> 754 <span style=\"color: #7f7f7f; text-decoration-color: #7f7f7f\">│   │   </span>model = model.to(device)                                                          <span style=\"color: #800000; text-decoration-color: #800000\">│</span>\n",
       "<span style=\"color: #800000; text-decoration-color: #800000\">│</span>   <span style=\"color: #7f7f7f; text-decoration-color: #7f7f7f\"> 755 </span><span style=\"color: #7f7f7f; text-decoration-color: #7f7f7f\">│   │   </span><span style=\"color: #7f7f7f; text-decoration-color: #7f7f7f\"># Moving a model to an XLA device disconnects the tied weights, so we have to re</span>  <span style=\"color: #800000; text-decoration-color: #800000\">│</span>\n",
       "<span style=\"color: #800000; text-decoration-color: #800000\">│</span>   <span style=\"color: #7f7f7f; text-decoration-color: #7f7f7f\"> 756 </span><span style=\"color: #7f7f7f; text-decoration-color: #7f7f7f\">│   │   </span><span style=\"color: #0000ff; text-decoration-color: #0000ff\">if</span> <span style=\"color: #00ffff; text-decoration-color: #00ffff\">self</span>.args.parallel_mode == ParallelMode.TPU <span style=\"color: #ff00ff; text-decoration-color: #ff00ff\">and</span> <span style=\"color: #00ffff; text-decoration-color: #00ffff\">hasattr</span>(model, <span style=\"color: #808000; text-decoration-color: #808000\">\"tie_weights\"</span>)  <span style=\"color: #800000; text-decoration-color: #800000\">│</span>\n",
       "<span style=\"color: #800000; text-decoration-color: #800000\">│</span>   <span style=\"color: #7f7f7f; text-decoration-color: #7f7f7f\"> 757 </span><span style=\"color: #7f7f7f; text-decoration-color: #7f7f7f\">│   │   │   </span>model.tie_weights()                                                           <span style=\"color: #800000; text-decoration-color: #800000\">│</span>\n",
       "<span style=\"color: #800000; text-decoration-color: #800000\">│</span>                                                                                                  <span style=\"color: #800000; text-decoration-color: #800000\">│</span>\n",
       "<span style=\"color: #800000; text-decoration-color: #800000\">│</span> <span style=\"color: #bfbf7f; text-decoration-color: #bfbf7f\">/opt/conda/lib/python3.10/site-packages/transformers/</span><span style=\"color: #808000; text-decoration-color: #808000; font-weight: bold\">modeling_utils.py</span>:<span style=\"color: #0000ff; text-decoration-color: #0000ff\">1902</span> in <span style=\"color: #00ff00; text-decoration-color: #00ff00\">to</span>                <span style=\"color: #800000; text-decoration-color: #800000\">│</span>\n",
       "<span style=\"color: #800000; text-decoration-color: #800000\">│</span>                                                                                                  <span style=\"color: #800000; text-decoration-color: #800000\">│</span>\n",
       "<span style=\"color: #800000; text-decoration-color: #800000\">│</span>   <span style=\"color: #7f7f7f; text-decoration-color: #7f7f7f\">1899 </span><span style=\"color: #7f7f7f; text-decoration-color: #7f7f7f\">│   │   │   │   </span><span style=\"color: #808000; text-decoration-color: #808000\">\" model has already been set to the correct devices and casted to the co</span>  <span style=\"color: #800000; text-decoration-color: #800000\">│</span>\n",
       "<span style=\"color: #800000; text-decoration-color: #800000\">│</span>   <span style=\"color: #7f7f7f; text-decoration-color: #7f7f7f\">1900 </span><span style=\"color: #7f7f7f; text-decoration-color: #7f7f7f\">│   │   │   </span>)                                                                             <span style=\"color: #800000; text-decoration-color: #800000\">│</span>\n",
       "<span style=\"color: #800000; text-decoration-color: #800000\">│</span>   <span style=\"color: #7f7f7f; text-decoration-color: #7f7f7f\">1901 </span><span style=\"color: #7f7f7f; text-decoration-color: #7f7f7f\">│   │   </span><span style=\"color: #0000ff; text-decoration-color: #0000ff\">else</span>:                                                                             <span style=\"color: #800000; text-decoration-color: #800000\">│</span>\n",
       "<span style=\"color: #800000; text-decoration-color: #800000\">│</span> <span style=\"color: #800000; text-decoration-color: #800000\">❱ </span>1902 <span style=\"color: #7f7f7f; text-decoration-color: #7f7f7f\">│   │   │   </span><span style=\"color: #0000ff; text-decoration-color: #0000ff\">return</span> <span style=\"color: #00ffff; text-decoration-color: #00ffff\">super</span>().to(*args, **kwargs)                                            <span style=\"color: #800000; text-decoration-color: #800000\">│</span>\n",
       "<span style=\"color: #800000; text-decoration-color: #800000\">│</span>   <span style=\"color: #7f7f7f; text-decoration-color: #7f7f7f\">1903 </span><span style=\"color: #7f7f7f; text-decoration-color: #7f7f7f\">│   </span>                                                                                      <span style=\"color: #800000; text-decoration-color: #800000\">│</span>\n",
       "<span style=\"color: #800000; text-decoration-color: #800000\">│</span>   <span style=\"color: #7f7f7f; text-decoration-color: #7f7f7f\">1904 </span><span style=\"color: #7f7f7f; text-decoration-color: #7f7f7f\">│   </span><span style=\"color: #0000ff; text-decoration-color: #0000ff\">def</span> <span style=\"color: #00ff00; text-decoration-color: #00ff00\">half</span>(<span style=\"color: #00ffff; text-decoration-color: #00ffff\">self</span>, *args):                                                                <span style=\"color: #800000; text-decoration-color: #800000\">│</span>\n",
       "<span style=\"color: #800000; text-decoration-color: #800000\">│</span>   <span style=\"color: #7f7f7f; text-decoration-color: #7f7f7f\">1905 </span><span style=\"color: #7f7f7f; text-decoration-color: #7f7f7f\">│   │   </span><span style=\"color: #7f7f7f; text-decoration-color: #7f7f7f\"># Checks if the model has been loaded in 8-bit</span>                                    <span style=\"color: #800000; text-decoration-color: #800000\">│</span>\n",
       "<span style=\"color: #800000; text-decoration-color: #800000\">│</span>                                                                                                  <span style=\"color: #800000; text-decoration-color: #800000\">│</span>\n",
       "<span style=\"color: #800000; text-decoration-color: #800000\">│</span> <span style=\"color: #bfbf7f; text-decoration-color: #bfbf7f\">/opt/conda/lib/python3.10/site-packages/torch/nn/modules/</span><span style=\"color: #808000; text-decoration-color: #808000; font-weight: bold\">module.py</span>:<span style=\"color: #0000ff; text-decoration-color: #0000ff\">1145</span> in <span style=\"color: #00ff00; text-decoration-color: #00ff00\">to</span>                    <span style=\"color: #800000; text-decoration-color: #800000\">│</span>\n",
       "<span style=\"color: #800000; text-decoration-color: #800000\">│</span>                                                                                                  <span style=\"color: #800000; text-decoration-color: #800000\">│</span>\n",
       "<span style=\"color: #800000; text-decoration-color: #800000\">│</span>   <span style=\"color: #7f7f7f; text-decoration-color: #7f7f7f\">1142 </span><span style=\"color: #7f7f7f; text-decoration-color: #7f7f7f\">│   │   │   │   │   │   │   </span>non_blocking, memory_format=convert_to_format)                <span style=\"color: #800000; text-decoration-color: #800000\">│</span>\n",
       "<span style=\"color: #800000; text-decoration-color: #800000\">│</span>   <span style=\"color: #7f7f7f; text-decoration-color: #7f7f7f\">1143 </span><span style=\"color: #7f7f7f; text-decoration-color: #7f7f7f\">│   │   │   </span><span style=\"color: #0000ff; text-decoration-color: #0000ff\">return</span> t.to(device, dtype <span style=\"color: #0000ff; text-decoration-color: #0000ff\">if</span> t.is_floating_point() <span style=\"color: #ff00ff; text-decoration-color: #ff00ff\">or</span> t.is_complex() <span style=\"color: #0000ff; text-decoration-color: #0000ff\">else</span> <span style=\"color: #0000ff; text-decoration-color: #0000ff\">No</span>  <span style=\"color: #800000; text-decoration-color: #800000\">│</span>\n",
       "<span style=\"color: #800000; text-decoration-color: #800000\">│</span>   <span style=\"color: #7f7f7f; text-decoration-color: #7f7f7f\">1144 </span><span style=\"color: #7f7f7f; text-decoration-color: #7f7f7f\">│   │   </span>                                                                                  <span style=\"color: #800000; text-decoration-color: #800000\">│</span>\n",
       "<span style=\"color: #800000; text-decoration-color: #800000\">│</span> <span style=\"color: #800000; text-decoration-color: #800000\">❱ </span>1145 <span style=\"color: #7f7f7f; text-decoration-color: #7f7f7f\">│   │   </span><span style=\"color: #0000ff; text-decoration-color: #0000ff\">return</span> <span style=\"color: #00ffff; text-decoration-color: #00ffff\">self</span>._apply(convert)                                                       <span style=\"color: #800000; text-decoration-color: #800000\">│</span>\n",
       "<span style=\"color: #800000; text-decoration-color: #800000\">│</span>   <span style=\"color: #7f7f7f; text-decoration-color: #7f7f7f\">1146 </span><span style=\"color: #7f7f7f; text-decoration-color: #7f7f7f\">│   </span>                                                                                      <span style=\"color: #800000; text-decoration-color: #800000\">│</span>\n",
       "<span style=\"color: #800000; text-decoration-color: #800000\">│</span>   <span style=\"color: #7f7f7f; text-decoration-color: #7f7f7f\">1147 </span><span style=\"color: #7f7f7f; text-decoration-color: #7f7f7f\">│   </span><span style=\"color: #0000ff; text-decoration-color: #0000ff\">def</span> <span style=\"color: #00ff00; text-decoration-color: #00ff00\">register_full_backward_pre_hook</span>(                                                  <span style=\"color: #800000; text-decoration-color: #800000\">│</span>\n",
       "<span style=\"color: #800000; text-decoration-color: #800000\">│</span>   <span style=\"color: #7f7f7f; text-decoration-color: #7f7f7f\">1148 </span><span style=\"color: #7f7f7f; text-decoration-color: #7f7f7f\">│   │   </span><span style=\"color: #00ffff; text-decoration-color: #00ffff\">self</span>,                                                                             <span style=\"color: #800000; text-decoration-color: #800000\">│</span>\n",
       "<span style=\"color: #800000; text-decoration-color: #800000\">│</span>                                                                                                  <span style=\"color: #800000; text-decoration-color: #800000\">│</span>\n",
       "<span style=\"color: #800000; text-decoration-color: #800000\">│</span> <span style=\"color: #bfbf7f; text-decoration-color: #bfbf7f\">/opt/conda/lib/python3.10/site-packages/torch/nn/modules/</span><span style=\"color: #808000; text-decoration-color: #808000; font-weight: bold\">module.py</span>:<span style=\"color: #0000ff; text-decoration-color: #0000ff\">797</span> in <span style=\"color: #00ff00; text-decoration-color: #00ff00\">_apply</span>                 <span style=\"color: #800000; text-decoration-color: #800000\">│</span>\n",
       "<span style=\"color: #800000; text-decoration-color: #800000\">│</span>                                                                                                  <span style=\"color: #800000; text-decoration-color: #800000\">│</span>\n",
       "<span style=\"color: #800000; text-decoration-color: #800000\">│</span>   <span style=\"color: #7f7f7f; text-decoration-color: #7f7f7f\"> 794 </span><span style=\"color: #7f7f7f; text-decoration-color: #7f7f7f\">│   </span>                                                                                      <span style=\"color: #800000; text-decoration-color: #800000\">│</span>\n",
       "<span style=\"color: #800000; text-decoration-color: #800000\">│</span>   <span style=\"color: #7f7f7f; text-decoration-color: #7f7f7f\"> 795 </span><span style=\"color: #7f7f7f; text-decoration-color: #7f7f7f\">│   </span><span style=\"color: #0000ff; text-decoration-color: #0000ff\">def</span> <span style=\"color: #00ff00; text-decoration-color: #00ff00\">_apply</span>(<span style=\"color: #00ffff; text-decoration-color: #00ffff\">self</span>, fn):                                                                 <span style=\"color: #800000; text-decoration-color: #800000\">│</span>\n",
       "<span style=\"color: #800000; text-decoration-color: #800000\">│</span>   <span style=\"color: #7f7f7f; text-decoration-color: #7f7f7f\"> 796 </span><span style=\"color: #7f7f7f; text-decoration-color: #7f7f7f\">│   │   </span><span style=\"color: #0000ff; text-decoration-color: #0000ff\">for</span> module <span style=\"color: #ff00ff; text-decoration-color: #ff00ff\">in</span> <span style=\"color: #00ffff; text-decoration-color: #00ffff\">self</span>.children():                                                    <span style=\"color: #800000; text-decoration-color: #800000\">│</span>\n",
       "<span style=\"color: #800000; text-decoration-color: #800000\">│</span> <span style=\"color: #800000; text-decoration-color: #800000\">❱ </span> 797 <span style=\"color: #7f7f7f; text-decoration-color: #7f7f7f\">│   │   │   </span>module._apply(fn)                                                             <span style=\"color: #800000; text-decoration-color: #800000\">│</span>\n",
       "<span style=\"color: #800000; text-decoration-color: #800000\">│</span>   <span style=\"color: #7f7f7f; text-decoration-color: #7f7f7f\"> 798 </span><span style=\"color: #7f7f7f; text-decoration-color: #7f7f7f\">│   │   </span>                                                                                  <span style=\"color: #800000; text-decoration-color: #800000\">│</span>\n",
       "<span style=\"color: #800000; text-decoration-color: #800000\">│</span>   <span style=\"color: #7f7f7f; text-decoration-color: #7f7f7f\"> 799 </span><span style=\"color: #7f7f7f; text-decoration-color: #7f7f7f\">│   │   </span><span style=\"color: #0000ff; text-decoration-color: #0000ff\">def</span> <span style=\"color: #00ff00; text-decoration-color: #00ff00\">compute_should_use_set_data</span>(tensor, tensor_applied):                          <span style=\"color: #800000; text-decoration-color: #800000\">│</span>\n",
       "<span style=\"color: #800000; text-decoration-color: #800000\">│</span>   <span style=\"color: #7f7f7f; text-decoration-color: #7f7f7f\"> 800 </span><span style=\"color: #7f7f7f; text-decoration-color: #7f7f7f\">│   │   │   </span><span style=\"color: #0000ff; text-decoration-color: #0000ff\">if</span> torch._has_compatible_shallow_copy_type(tensor, tensor_applied):           <span style=\"color: #800000; text-decoration-color: #800000\">│</span>\n",
       "<span style=\"color: #800000; text-decoration-color: #800000\">│</span>                                                                                                  <span style=\"color: #800000; text-decoration-color: #800000\">│</span>\n",
       "<span style=\"color: #800000; text-decoration-color: #800000\">│</span> <span style=\"color: #bfbf7f; text-decoration-color: #bfbf7f\">/opt/conda/lib/python3.10/site-packages/torch/nn/modules/</span><span style=\"color: #808000; text-decoration-color: #808000; font-weight: bold\">module.py</span>:<span style=\"color: #0000ff; text-decoration-color: #0000ff\">797</span> in <span style=\"color: #00ff00; text-decoration-color: #00ff00\">_apply</span>                 <span style=\"color: #800000; text-decoration-color: #800000\">│</span>\n",
       "<span style=\"color: #800000; text-decoration-color: #800000\">│</span>                                                                                                  <span style=\"color: #800000; text-decoration-color: #800000\">│</span>\n",
       "<span style=\"color: #800000; text-decoration-color: #800000\">│</span>   <span style=\"color: #7f7f7f; text-decoration-color: #7f7f7f\"> 794 </span><span style=\"color: #7f7f7f; text-decoration-color: #7f7f7f\">│   </span>                                                                                      <span style=\"color: #800000; text-decoration-color: #800000\">│</span>\n",
       "<span style=\"color: #800000; text-decoration-color: #800000\">│</span>   <span style=\"color: #7f7f7f; text-decoration-color: #7f7f7f\"> 795 </span><span style=\"color: #7f7f7f; text-decoration-color: #7f7f7f\">│   </span><span style=\"color: #0000ff; text-decoration-color: #0000ff\">def</span> <span style=\"color: #00ff00; text-decoration-color: #00ff00\">_apply</span>(<span style=\"color: #00ffff; text-decoration-color: #00ffff\">self</span>, fn):                                                                 <span style=\"color: #800000; text-decoration-color: #800000\">│</span>\n",
       "<span style=\"color: #800000; text-decoration-color: #800000\">│</span>   <span style=\"color: #7f7f7f; text-decoration-color: #7f7f7f\"> 796 </span><span style=\"color: #7f7f7f; text-decoration-color: #7f7f7f\">│   │   </span><span style=\"color: #0000ff; text-decoration-color: #0000ff\">for</span> module <span style=\"color: #ff00ff; text-decoration-color: #ff00ff\">in</span> <span style=\"color: #00ffff; text-decoration-color: #00ffff\">self</span>.children():                                                    <span style=\"color: #800000; text-decoration-color: #800000\">│</span>\n",
       "<span style=\"color: #800000; text-decoration-color: #800000\">│</span> <span style=\"color: #800000; text-decoration-color: #800000\">❱ </span> 797 <span style=\"color: #7f7f7f; text-decoration-color: #7f7f7f\">│   │   │   </span>module._apply(fn)                                                             <span style=\"color: #800000; text-decoration-color: #800000\">│</span>\n",
       "<span style=\"color: #800000; text-decoration-color: #800000\">│</span>   <span style=\"color: #7f7f7f; text-decoration-color: #7f7f7f\"> 798 </span><span style=\"color: #7f7f7f; text-decoration-color: #7f7f7f\">│   │   </span>                                                                                  <span style=\"color: #800000; text-decoration-color: #800000\">│</span>\n",
       "<span style=\"color: #800000; text-decoration-color: #800000\">│</span>   <span style=\"color: #7f7f7f; text-decoration-color: #7f7f7f\"> 799 </span><span style=\"color: #7f7f7f; text-decoration-color: #7f7f7f\">│   │   </span><span style=\"color: #0000ff; text-decoration-color: #0000ff\">def</span> <span style=\"color: #00ff00; text-decoration-color: #00ff00\">compute_should_use_set_data</span>(tensor, tensor_applied):                          <span style=\"color: #800000; text-decoration-color: #800000\">│</span>\n",
       "<span style=\"color: #800000; text-decoration-color: #800000\">│</span>   <span style=\"color: #7f7f7f; text-decoration-color: #7f7f7f\"> 800 </span><span style=\"color: #7f7f7f; text-decoration-color: #7f7f7f\">│   │   │   </span><span style=\"color: #0000ff; text-decoration-color: #0000ff\">if</span> torch._has_compatible_shallow_copy_type(tensor, tensor_applied):           <span style=\"color: #800000; text-decoration-color: #800000\">│</span>\n",
       "<span style=\"color: #800000; text-decoration-color: #800000\">│</span>                                                                                                  <span style=\"color: #800000; text-decoration-color: #800000\">│</span>\n",
       "<span style=\"color: #800000; text-decoration-color: #800000\">│</span> <span style=\"color: #bfbf7f; text-decoration-color: #bfbf7f\">/opt/conda/lib/python3.10/site-packages/torch/nn/modules/</span><span style=\"color: #808000; text-decoration-color: #808000; font-weight: bold\">module.py</span>:<span style=\"color: #0000ff; text-decoration-color: #0000ff\">797</span> in <span style=\"color: #00ff00; text-decoration-color: #00ff00\">_apply</span>                 <span style=\"color: #800000; text-decoration-color: #800000\">│</span>\n",
       "<span style=\"color: #800000; text-decoration-color: #800000\">│</span>                                                                                                  <span style=\"color: #800000; text-decoration-color: #800000\">│</span>\n",
       "<span style=\"color: #800000; text-decoration-color: #800000\">│</span>   <span style=\"color: #7f7f7f; text-decoration-color: #7f7f7f\"> 794 </span><span style=\"color: #7f7f7f; text-decoration-color: #7f7f7f\">│   </span>                                                                                      <span style=\"color: #800000; text-decoration-color: #800000\">│</span>\n",
       "<span style=\"color: #800000; text-decoration-color: #800000\">│</span>   <span style=\"color: #7f7f7f; text-decoration-color: #7f7f7f\"> 795 </span><span style=\"color: #7f7f7f; text-decoration-color: #7f7f7f\">│   </span><span style=\"color: #0000ff; text-decoration-color: #0000ff\">def</span> <span style=\"color: #00ff00; text-decoration-color: #00ff00\">_apply</span>(<span style=\"color: #00ffff; text-decoration-color: #00ffff\">self</span>, fn):                                                                 <span style=\"color: #800000; text-decoration-color: #800000\">│</span>\n",
       "<span style=\"color: #800000; text-decoration-color: #800000\">│</span>   <span style=\"color: #7f7f7f; text-decoration-color: #7f7f7f\"> 796 </span><span style=\"color: #7f7f7f; text-decoration-color: #7f7f7f\">│   │   </span><span style=\"color: #0000ff; text-decoration-color: #0000ff\">for</span> module <span style=\"color: #ff00ff; text-decoration-color: #ff00ff\">in</span> <span style=\"color: #00ffff; text-decoration-color: #00ffff\">self</span>.children():                                                    <span style=\"color: #800000; text-decoration-color: #800000\">│</span>\n",
       "<span style=\"color: #800000; text-decoration-color: #800000\">│</span> <span style=\"color: #800000; text-decoration-color: #800000\">❱ </span> 797 <span style=\"color: #7f7f7f; text-decoration-color: #7f7f7f\">│   │   │   </span>module._apply(fn)                                                             <span style=\"color: #800000; text-decoration-color: #800000\">│</span>\n",
       "<span style=\"color: #800000; text-decoration-color: #800000\">│</span>   <span style=\"color: #7f7f7f; text-decoration-color: #7f7f7f\"> 798 </span><span style=\"color: #7f7f7f; text-decoration-color: #7f7f7f\">│   │   </span>                                                                                  <span style=\"color: #800000; text-decoration-color: #800000\">│</span>\n",
       "<span style=\"color: #800000; text-decoration-color: #800000\">│</span>   <span style=\"color: #7f7f7f; text-decoration-color: #7f7f7f\"> 799 </span><span style=\"color: #7f7f7f; text-decoration-color: #7f7f7f\">│   │   </span><span style=\"color: #0000ff; text-decoration-color: #0000ff\">def</span> <span style=\"color: #00ff00; text-decoration-color: #00ff00\">compute_should_use_set_data</span>(tensor, tensor_applied):                          <span style=\"color: #800000; text-decoration-color: #800000\">│</span>\n",
       "<span style=\"color: #800000; text-decoration-color: #800000\">│</span>   <span style=\"color: #7f7f7f; text-decoration-color: #7f7f7f\"> 800 </span><span style=\"color: #7f7f7f; text-decoration-color: #7f7f7f\">│   │   │   </span><span style=\"color: #0000ff; text-decoration-color: #0000ff\">if</span> torch._has_compatible_shallow_copy_type(tensor, tensor_applied):           <span style=\"color: #800000; text-decoration-color: #800000\">│</span>\n",
       "<span style=\"color: #800000; text-decoration-color: #800000\">│</span>                                                                                                  <span style=\"color: #800000; text-decoration-color: #800000\">│</span>\n",
       "<span style=\"color: #800000; text-decoration-color: #800000\">│</span> <span style=\"color: #bfbf7f; text-decoration-color: #bfbf7f\">/opt/conda/lib/python3.10/site-packages/torch/nn/modules/</span><span style=\"color: #808000; text-decoration-color: #808000; font-weight: bold\">module.py</span>:<span style=\"color: #0000ff; text-decoration-color: #0000ff\">797</span> in <span style=\"color: #00ff00; text-decoration-color: #00ff00\">_apply</span>                 <span style=\"color: #800000; text-decoration-color: #800000\">│</span>\n",
       "<span style=\"color: #800000; text-decoration-color: #800000\">│</span>                                                                                                  <span style=\"color: #800000; text-decoration-color: #800000\">│</span>\n",
       "<span style=\"color: #800000; text-decoration-color: #800000\">│</span>   <span style=\"color: #7f7f7f; text-decoration-color: #7f7f7f\"> 794 </span><span style=\"color: #7f7f7f; text-decoration-color: #7f7f7f\">│   </span>                                                                                      <span style=\"color: #800000; text-decoration-color: #800000\">│</span>\n",
       "<span style=\"color: #800000; text-decoration-color: #800000\">│</span>   <span style=\"color: #7f7f7f; text-decoration-color: #7f7f7f\"> 795 </span><span style=\"color: #7f7f7f; text-decoration-color: #7f7f7f\">│   </span><span style=\"color: #0000ff; text-decoration-color: #0000ff\">def</span> <span style=\"color: #00ff00; text-decoration-color: #00ff00\">_apply</span>(<span style=\"color: #00ffff; text-decoration-color: #00ffff\">self</span>, fn):                                                                 <span style=\"color: #800000; text-decoration-color: #800000\">│</span>\n",
       "<span style=\"color: #800000; text-decoration-color: #800000\">│</span>   <span style=\"color: #7f7f7f; text-decoration-color: #7f7f7f\"> 796 </span><span style=\"color: #7f7f7f; text-decoration-color: #7f7f7f\">│   │   </span><span style=\"color: #0000ff; text-decoration-color: #0000ff\">for</span> module <span style=\"color: #ff00ff; text-decoration-color: #ff00ff\">in</span> <span style=\"color: #00ffff; text-decoration-color: #00ffff\">self</span>.children():                                                    <span style=\"color: #800000; text-decoration-color: #800000\">│</span>\n",
       "<span style=\"color: #800000; text-decoration-color: #800000\">│</span> <span style=\"color: #800000; text-decoration-color: #800000\">❱ </span> 797 <span style=\"color: #7f7f7f; text-decoration-color: #7f7f7f\">│   │   │   </span>module._apply(fn)                                                             <span style=\"color: #800000; text-decoration-color: #800000\">│</span>\n",
       "<span style=\"color: #800000; text-decoration-color: #800000\">│</span>   <span style=\"color: #7f7f7f; text-decoration-color: #7f7f7f\"> 798 </span><span style=\"color: #7f7f7f; text-decoration-color: #7f7f7f\">│   │   </span>                                                                                  <span style=\"color: #800000; text-decoration-color: #800000\">│</span>\n",
       "<span style=\"color: #800000; text-decoration-color: #800000\">│</span>   <span style=\"color: #7f7f7f; text-decoration-color: #7f7f7f\"> 799 </span><span style=\"color: #7f7f7f; text-decoration-color: #7f7f7f\">│   │   </span><span style=\"color: #0000ff; text-decoration-color: #0000ff\">def</span> <span style=\"color: #00ff00; text-decoration-color: #00ff00\">compute_should_use_set_data</span>(tensor, tensor_applied):                          <span style=\"color: #800000; text-decoration-color: #800000\">│</span>\n",
       "<span style=\"color: #800000; text-decoration-color: #800000\">│</span>   <span style=\"color: #7f7f7f; text-decoration-color: #7f7f7f\"> 800 </span><span style=\"color: #7f7f7f; text-decoration-color: #7f7f7f\">│   │   │   </span><span style=\"color: #0000ff; text-decoration-color: #0000ff\">if</span> torch._has_compatible_shallow_copy_type(tensor, tensor_applied):           <span style=\"color: #800000; text-decoration-color: #800000\">│</span>\n",
       "<span style=\"color: #800000; text-decoration-color: #800000\">│</span>                                                                                                  <span style=\"color: #800000; text-decoration-color: #800000\">│</span>\n",
       "<span style=\"color: #800000; text-decoration-color: #800000\">│</span> <span style=\"color: #bfbf7f; text-decoration-color: #bfbf7f\">/opt/conda/lib/python3.10/site-packages/torch/nn/modules/</span><span style=\"color: #808000; text-decoration-color: #808000; font-weight: bold\">module.py</span>:<span style=\"color: #0000ff; text-decoration-color: #0000ff\">797</span> in <span style=\"color: #00ff00; text-decoration-color: #00ff00\">_apply</span>                 <span style=\"color: #800000; text-decoration-color: #800000\">│</span>\n",
       "<span style=\"color: #800000; text-decoration-color: #800000\">│</span>                                                                                                  <span style=\"color: #800000; text-decoration-color: #800000\">│</span>\n",
       "<span style=\"color: #800000; text-decoration-color: #800000\">│</span>   <span style=\"color: #7f7f7f; text-decoration-color: #7f7f7f\"> 794 </span><span style=\"color: #7f7f7f; text-decoration-color: #7f7f7f\">│   </span>                                                                                      <span style=\"color: #800000; text-decoration-color: #800000\">│</span>\n",
       "<span style=\"color: #800000; text-decoration-color: #800000\">│</span>   <span style=\"color: #7f7f7f; text-decoration-color: #7f7f7f\"> 795 </span><span style=\"color: #7f7f7f; text-decoration-color: #7f7f7f\">│   </span><span style=\"color: #0000ff; text-decoration-color: #0000ff\">def</span> <span style=\"color: #00ff00; text-decoration-color: #00ff00\">_apply</span>(<span style=\"color: #00ffff; text-decoration-color: #00ffff\">self</span>, fn):                                                                 <span style=\"color: #800000; text-decoration-color: #800000\">│</span>\n",
       "<span style=\"color: #800000; text-decoration-color: #800000\">│</span>   <span style=\"color: #7f7f7f; text-decoration-color: #7f7f7f\"> 796 </span><span style=\"color: #7f7f7f; text-decoration-color: #7f7f7f\">│   │   </span><span style=\"color: #0000ff; text-decoration-color: #0000ff\">for</span> module <span style=\"color: #ff00ff; text-decoration-color: #ff00ff\">in</span> <span style=\"color: #00ffff; text-decoration-color: #00ffff\">self</span>.children():                                                    <span style=\"color: #800000; text-decoration-color: #800000\">│</span>\n",
       "<span style=\"color: #800000; text-decoration-color: #800000\">│</span> <span style=\"color: #800000; text-decoration-color: #800000\">❱ </span> 797 <span style=\"color: #7f7f7f; text-decoration-color: #7f7f7f\">│   │   │   </span>module._apply(fn)                                                             <span style=\"color: #800000; text-decoration-color: #800000\">│</span>\n",
       "<span style=\"color: #800000; text-decoration-color: #800000\">│</span>   <span style=\"color: #7f7f7f; text-decoration-color: #7f7f7f\"> 798 </span><span style=\"color: #7f7f7f; text-decoration-color: #7f7f7f\">│   │   </span>                                                                                  <span style=\"color: #800000; text-decoration-color: #800000\">│</span>\n",
       "<span style=\"color: #800000; text-decoration-color: #800000\">│</span>   <span style=\"color: #7f7f7f; text-decoration-color: #7f7f7f\"> 799 </span><span style=\"color: #7f7f7f; text-decoration-color: #7f7f7f\">│   │   </span><span style=\"color: #0000ff; text-decoration-color: #0000ff\">def</span> <span style=\"color: #00ff00; text-decoration-color: #00ff00\">compute_should_use_set_data</span>(tensor, tensor_applied):                          <span style=\"color: #800000; text-decoration-color: #800000\">│</span>\n",
       "<span style=\"color: #800000; text-decoration-color: #800000\">│</span>   <span style=\"color: #7f7f7f; text-decoration-color: #7f7f7f\"> 800 </span><span style=\"color: #7f7f7f; text-decoration-color: #7f7f7f\">│   │   │   </span><span style=\"color: #0000ff; text-decoration-color: #0000ff\">if</span> torch._has_compatible_shallow_copy_type(tensor, tensor_applied):           <span style=\"color: #800000; text-decoration-color: #800000\">│</span>\n",
       "<span style=\"color: #800000; text-decoration-color: #800000\">│</span>                                                                                                  <span style=\"color: #800000; text-decoration-color: #800000\">│</span>\n",
       "<span style=\"color: #800000; text-decoration-color: #800000\">│</span> <span style=\"color: #bfbf7f; text-decoration-color: #bfbf7f\">/opt/conda/lib/python3.10/site-packages/torch/nn/modules/</span><span style=\"color: #808000; text-decoration-color: #808000; font-weight: bold\">module.py</span>:<span style=\"color: #0000ff; text-decoration-color: #0000ff\">797</span> in <span style=\"color: #00ff00; text-decoration-color: #00ff00\">_apply</span>                 <span style=\"color: #800000; text-decoration-color: #800000\">│</span>\n",
       "<span style=\"color: #800000; text-decoration-color: #800000\">│</span>                                                                                                  <span style=\"color: #800000; text-decoration-color: #800000\">│</span>\n",
       "<span style=\"color: #800000; text-decoration-color: #800000\">│</span>   <span style=\"color: #7f7f7f; text-decoration-color: #7f7f7f\"> 794 </span><span style=\"color: #7f7f7f; text-decoration-color: #7f7f7f\">│   </span>                                                                                      <span style=\"color: #800000; text-decoration-color: #800000\">│</span>\n",
       "<span style=\"color: #800000; text-decoration-color: #800000\">│</span>   <span style=\"color: #7f7f7f; text-decoration-color: #7f7f7f\"> 795 </span><span style=\"color: #7f7f7f; text-decoration-color: #7f7f7f\">│   </span><span style=\"color: #0000ff; text-decoration-color: #0000ff\">def</span> <span style=\"color: #00ff00; text-decoration-color: #00ff00\">_apply</span>(<span style=\"color: #00ffff; text-decoration-color: #00ffff\">self</span>, fn):                                                                 <span style=\"color: #800000; text-decoration-color: #800000\">│</span>\n",
       "<span style=\"color: #800000; text-decoration-color: #800000\">│</span>   <span style=\"color: #7f7f7f; text-decoration-color: #7f7f7f\"> 796 </span><span style=\"color: #7f7f7f; text-decoration-color: #7f7f7f\">│   │   </span><span style=\"color: #0000ff; text-decoration-color: #0000ff\">for</span> module <span style=\"color: #ff00ff; text-decoration-color: #ff00ff\">in</span> <span style=\"color: #00ffff; text-decoration-color: #00ffff\">self</span>.children():                                                    <span style=\"color: #800000; text-decoration-color: #800000\">│</span>\n",
       "<span style=\"color: #800000; text-decoration-color: #800000\">│</span> <span style=\"color: #800000; text-decoration-color: #800000\">❱ </span> 797 <span style=\"color: #7f7f7f; text-decoration-color: #7f7f7f\">│   │   │   </span>module._apply(fn)                                                             <span style=\"color: #800000; text-decoration-color: #800000\">│</span>\n",
       "<span style=\"color: #800000; text-decoration-color: #800000\">│</span>   <span style=\"color: #7f7f7f; text-decoration-color: #7f7f7f\"> 798 </span><span style=\"color: #7f7f7f; text-decoration-color: #7f7f7f\">│   │   </span>                                                                                  <span style=\"color: #800000; text-decoration-color: #800000\">│</span>\n",
       "<span style=\"color: #800000; text-decoration-color: #800000\">│</span>   <span style=\"color: #7f7f7f; text-decoration-color: #7f7f7f\"> 799 </span><span style=\"color: #7f7f7f; text-decoration-color: #7f7f7f\">│   │   </span><span style=\"color: #0000ff; text-decoration-color: #0000ff\">def</span> <span style=\"color: #00ff00; text-decoration-color: #00ff00\">compute_should_use_set_data</span>(tensor, tensor_applied):                          <span style=\"color: #800000; text-decoration-color: #800000\">│</span>\n",
       "<span style=\"color: #800000; text-decoration-color: #800000\">│</span>   <span style=\"color: #7f7f7f; text-decoration-color: #7f7f7f\"> 800 </span><span style=\"color: #7f7f7f; text-decoration-color: #7f7f7f\">│   │   │   </span><span style=\"color: #0000ff; text-decoration-color: #0000ff\">if</span> torch._has_compatible_shallow_copy_type(tensor, tensor_applied):           <span style=\"color: #800000; text-decoration-color: #800000\">│</span>\n",
       "<span style=\"color: #800000; text-decoration-color: #800000\">│</span>                                                                                                  <span style=\"color: #800000; text-decoration-color: #800000\">│</span>\n",
       "<span style=\"color: #800000; text-decoration-color: #800000\">│</span> <span style=\"color: #bfbf7f; text-decoration-color: #bfbf7f\">/opt/conda/lib/python3.10/site-packages/torch/nn/modules/</span><span style=\"color: #808000; text-decoration-color: #808000; font-weight: bold\">module.py</span>:<span style=\"color: #0000ff; text-decoration-color: #0000ff\">820</span> in <span style=\"color: #00ff00; text-decoration-color: #00ff00\">_apply</span>                 <span style=\"color: #800000; text-decoration-color: #800000\">│</span>\n",
       "<span style=\"color: #800000; text-decoration-color: #800000\">│</span>                                                                                                  <span style=\"color: #800000; text-decoration-color: #800000\">│</span>\n",
       "<span style=\"color: #800000; text-decoration-color: #800000\">│</span>   <span style=\"color: #7f7f7f; text-decoration-color: #7f7f7f\"> 817 </span><span style=\"color: #7f7f7f; text-decoration-color: #7f7f7f\">│   │   │   </span><span style=\"color: #7f7f7f; text-decoration-color: #7f7f7f\"># track autograd history of `param_applied`, so we have to use</span>                <span style=\"color: #800000; text-decoration-color: #800000\">│</span>\n",
       "<span style=\"color: #800000; text-decoration-color: #800000\">│</span>   <span style=\"color: #7f7f7f; text-decoration-color: #7f7f7f\"> 818 </span><span style=\"color: #7f7f7f; text-decoration-color: #7f7f7f\">│   │   │   </span><span style=\"color: #7f7f7f; text-decoration-color: #7f7f7f\"># `with torch.no_grad():`</span>                                                     <span style=\"color: #800000; text-decoration-color: #800000\">│</span>\n",
       "<span style=\"color: #800000; text-decoration-color: #800000\">│</span>   <span style=\"color: #7f7f7f; text-decoration-color: #7f7f7f\"> 819 </span><span style=\"color: #7f7f7f; text-decoration-color: #7f7f7f\">│   │   │   </span><span style=\"color: #0000ff; text-decoration-color: #0000ff\">with</span> torch.no_grad():                                                         <span style=\"color: #800000; text-decoration-color: #800000\">│</span>\n",
       "<span style=\"color: #800000; text-decoration-color: #800000\">│</span> <span style=\"color: #800000; text-decoration-color: #800000\">❱ </span> 820 <span style=\"color: #7f7f7f; text-decoration-color: #7f7f7f\">│   │   │   │   </span>param_applied = fn(param)                                                 <span style=\"color: #800000; text-decoration-color: #800000\">│</span>\n",
       "<span style=\"color: #800000; text-decoration-color: #800000\">│</span>   <span style=\"color: #7f7f7f; text-decoration-color: #7f7f7f\"> 821 </span><span style=\"color: #7f7f7f; text-decoration-color: #7f7f7f\">│   │   │   </span>should_use_set_data = compute_should_use_set_data(param, param_applied)       <span style=\"color: #800000; text-decoration-color: #800000\">│</span>\n",
       "<span style=\"color: #800000; text-decoration-color: #800000\">│</span>   <span style=\"color: #7f7f7f; text-decoration-color: #7f7f7f\"> 822 </span><span style=\"color: #7f7f7f; text-decoration-color: #7f7f7f\">│   │   │   </span><span style=\"color: #0000ff; text-decoration-color: #0000ff\">if</span> should_use_set_data:                                                       <span style=\"color: #800000; text-decoration-color: #800000\">│</span>\n",
       "<span style=\"color: #800000; text-decoration-color: #800000\">│</span>   <span style=\"color: #7f7f7f; text-decoration-color: #7f7f7f\"> 823 </span><span style=\"color: #7f7f7f; text-decoration-color: #7f7f7f\">│   │   │   │   </span>param.data = param_applied                                                <span style=\"color: #800000; text-decoration-color: #800000\">│</span>\n",
       "<span style=\"color: #800000; text-decoration-color: #800000\">│</span>                                                                                                  <span style=\"color: #800000; text-decoration-color: #800000\">│</span>\n",
       "<span style=\"color: #800000; text-decoration-color: #800000\">│</span> <span style=\"color: #bfbf7f; text-decoration-color: #bfbf7f\">/opt/conda/lib/python3.10/site-packages/torch/nn/modules/</span><span style=\"color: #808000; text-decoration-color: #808000; font-weight: bold\">module.py</span>:<span style=\"color: #0000ff; text-decoration-color: #0000ff\">1143</span> in <span style=\"color: #00ff00; text-decoration-color: #00ff00\">convert</span>               <span style=\"color: #800000; text-decoration-color: #800000\">│</span>\n",
       "<span style=\"color: #800000; text-decoration-color: #800000\">│</span>                                                                                                  <span style=\"color: #800000; text-decoration-color: #800000\">│</span>\n",
       "<span style=\"color: #800000; text-decoration-color: #800000\">│</span>   <span style=\"color: #7f7f7f; text-decoration-color: #7f7f7f\">1140 </span><span style=\"color: #7f7f7f; text-decoration-color: #7f7f7f\">│   │   │   </span><span style=\"color: #0000ff; text-decoration-color: #0000ff\">if</span> convert_to_format <span style=\"color: #ff00ff; text-decoration-color: #ff00ff\">is</span> <span style=\"color: #ff00ff; text-decoration-color: #ff00ff\">not</span> <span style=\"color: #0000ff; text-decoration-color: #0000ff\">None</span> <span style=\"color: #ff00ff; text-decoration-color: #ff00ff\">and</span> t.dim() <span style=\"color: #ff00ff; text-decoration-color: #ff00ff\">in</span> (<span style=\"color: #0000ff; text-decoration-color: #0000ff\">4</span>, <span style=\"color: #0000ff; text-decoration-color: #0000ff\">5</span>):                       <span style=\"color: #800000; text-decoration-color: #800000\">│</span>\n",
       "<span style=\"color: #800000; text-decoration-color: #800000\">│</span>   <span style=\"color: #7f7f7f; text-decoration-color: #7f7f7f\">1141 </span><span style=\"color: #7f7f7f; text-decoration-color: #7f7f7f\">│   │   │   │   </span><span style=\"color: #0000ff; text-decoration-color: #0000ff\">return</span> t.to(device, dtype <span style=\"color: #0000ff; text-decoration-color: #0000ff\">if</span> t.is_floating_point() <span style=\"color: #ff00ff; text-decoration-color: #ff00ff\">or</span> t.is_complex() <span style=\"color: #0000ff; text-decoration-color: #0000ff\">els</span>  <span style=\"color: #800000; text-decoration-color: #800000\">│</span>\n",
       "<span style=\"color: #800000; text-decoration-color: #800000\">│</span>   <span style=\"color: #7f7f7f; text-decoration-color: #7f7f7f\">1142 </span><span style=\"color: #7f7f7f; text-decoration-color: #7f7f7f\">│   │   │   │   │   │   │   </span>non_blocking, memory_format=convert_to_format)                <span style=\"color: #800000; text-decoration-color: #800000\">│</span>\n",
       "<span style=\"color: #800000; text-decoration-color: #800000\">│</span> <span style=\"color: #800000; text-decoration-color: #800000\">❱ </span>1143 <span style=\"color: #7f7f7f; text-decoration-color: #7f7f7f\">│   │   │   </span><span style=\"color: #0000ff; text-decoration-color: #0000ff\">return</span> t.to(device, dtype <span style=\"color: #0000ff; text-decoration-color: #0000ff\">if</span> t.is_floating_point() <span style=\"color: #ff00ff; text-decoration-color: #ff00ff\">or</span> t.is_complex() <span style=\"color: #0000ff; text-decoration-color: #0000ff\">else</span> <span style=\"color: #0000ff; text-decoration-color: #0000ff\">No</span>  <span style=\"color: #800000; text-decoration-color: #800000\">│</span>\n",
       "<span style=\"color: #800000; text-decoration-color: #800000\">│</span>   <span style=\"color: #7f7f7f; text-decoration-color: #7f7f7f\">1144 </span><span style=\"color: #7f7f7f; text-decoration-color: #7f7f7f\">│   │   </span>                                                                                  <span style=\"color: #800000; text-decoration-color: #800000\">│</span>\n",
       "<span style=\"color: #800000; text-decoration-color: #800000\">│</span>   <span style=\"color: #7f7f7f; text-decoration-color: #7f7f7f\">1145 </span><span style=\"color: #7f7f7f; text-decoration-color: #7f7f7f\">│   │   </span><span style=\"color: #0000ff; text-decoration-color: #0000ff\">return</span> <span style=\"color: #00ffff; text-decoration-color: #00ffff\">self</span>._apply(convert)                                                       <span style=\"color: #800000; text-decoration-color: #800000\">│</span>\n",
       "<span style=\"color: #800000; text-decoration-color: #800000\">│</span>   <span style=\"color: #7f7f7f; text-decoration-color: #7f7f7f\">1146 </span>                                                                                          <span style=\"color: #800000; text-decoration-color: #800000\">│</span>\n",
       "<span style=\"color: #800000; text-decoration-color: #800000\">╰──────────────────────────────────────────────────────────────────────────────────────────────────╯</span>\n",
       "<span style=\"color: #ff0000; text-decoration-color: #ff0000; font-weight: bold\">OutOfMemoryError: </span>CUDA out of memory. Tried to allocate <span style=\"color: #008080; text-decoration-color: #008080; font-weight: bold\">20.00</span> MiB <span style=\"font-weight: bold\">(</span>GPU <span style=\"color: #008080; text-decoration-color: #008080; font-weight: bold\">0</span>; <span style=\"color: #008080; text-decoration-color: #008080; font-weight: bold\">14.76</span> GiB total capacity; <span style=\"color: #008080; text-decoration-color: #008080; font-weight: bold\">218.19</span> MiB \n",
       "already allocated; <span style=\"color: #008080; text-decoration-color: #008080; font-weight: bold\">21.75</span> MiB free; <span style=\"color: #008080; text-decoration-color: #008080; font-weight: bold\">232.00</span> MiB reserved in total by PyTorch<span style=\"font-weight: bold\">)</span> If reserved memory is &gt;&gt; allocated \n",
       "memory try setting max_split_size_mb to avoid fragmentation.  See documentation for Memory Management and \n",
       "PYTORCH_CUDA_ALLOC_CONF\n",
       "</pre>\n"
      ],
      "text/plain": [
       "\u001b[31m╭─\u001b[0m\u001b[31m──────────────────────────────\u001b[0m\u001b[31m \u001b[0m\u001b[1;31mTraceback \u001b[0m\u001b[1;2;31m(most recent call last)\u001b[0m\u001b[31m \u001b[0m\u001b[31m───────────────────────────────\u001b[0m\u001b[31m─╮\u001b[0m\n",
       "\u001b[31m│\u001b[0m in \u001b[92m<module>\u001b[0m:\u001b[94m12\u001b[0m                                                                                   \u001b[31m│\u001b[0m\n",
       "\u001b[31m│\u001b[0m                                                                                                  \u001b[31m│\u001b[0m\n",
       "\u001b[31m│\u001b[0m   \u001b[2m 9 \u001b[0m\u001b[2m│   \u001b[0mlogging_strategy=\u001b[33m\"\u001b[0m\u001b[33mepoch\u001b[0m\u001b[33m\"\u001b[0m,                                                               \u001b[31m│\u001b[0m\n",
       "\u001b[31m│\u001b[0m   \u001b[2m10 \u001b[0m)                                                                                           \u001b[31m│\u001b[0m\n",
       "\u001b[31m│\u001b[0m   \u001b[2m11 \u001b[0m                                                                                            \u001b[31m│\u001b[0m\n",
       "\u001b[31m│\u001b[0m \u001b[31m❱ \u001b[0m12 trainer = Trainer(                                                                          \u001b[31m│\u001b[0m\n",
       "\u001b[31m│\u001b[0m   \u001b[2m13 \u001b[0m\u001b[2m│   \u001b[0mmodel=model,                                                                            \u001b[31m│\u001b[0m\n",
       "\u001b[31m│\u001b[0m   \u001b[2m14 \u001b[0m\u001b[2m│   \u001b[0margs=training_args,                                                                     \u001b[31m│\u001b[0m\n",
       "\u001b[31m│\u001b[0m   \u001b[2m15 \u001b[0m\u001b[2m│   \u001b[0mtrain_dataset=categorized_train,                                                        \u001b[31m│\u001b[0m\n",
       "\u001b[31m│\u001b[0m                                                                                                  \u001b[31m│\u001b[0m\n",
       "\u001b[31m│\u001b[0m \u001b[2;33m/opt/conda/lib/python3.10/site-packages/transformers/\u001b[0m\u001b[1;33mtrainer.py\u001b[0m:\u001b[94m511\u001b[0m in \u001b[92m__init__\u001b[0m                  \u001b[31m│\u001b[0m\n",
       "\u001b[31m│\u001b[0m                                                                                                  \u001b[31m│\u001b[0m\n",
       "\u001b[31m│\u001b[0m   \u001b[2m 508 \u001b[0m\u001b[2m│   │   \u001b[0m\u001b[96mself\u001b[0m.tokenizer = tokenizer                                                        \u001b[31m│\u001b[0m\n",
       "\u001b[31m│\u001b[0m   \u001b[2m 509 \u001b[0m\u001b[2m│   │   \u001b[0m                                                                                  \u001b[31m│\u001b[0m\n",
       "\u001b[31m│\u001b[0m   \u001b[2m 510 \u001b[0m\u001b[2m│   │   \u001b[0m\u001b[94mif\u001b[0m \u001b[96mself\u001b[0m.place_model_on_device \u001b[95mand\u001b[0m \u001b[95mnot\u001b[0m \u001b[96mgetattr\u001b[0m(model, \u001b[33m\"\u001b[0m\u001b[33mis_loaded_in_8bit\u001b[0m\u001b[33m\"\u001b[0m, \u001b[94mFalse\u001b[0m)  \u001b[31m│\u001b[0m\n",
       "\u001b[31m│\u001b[0m \u001b[31m❱ \u001b[0m 511 \u001b[2m│   │   │   \u001b[0m\u001b[96mself\u001b[0m._move_model_to_device(model, args.device)                                \u001b[31m│\u001b[0m\n",
       "\u001b[31m│\u001b[0m   \u001b[2m 512 \u001b[0m\u001b[2m│   │   \u001b[0m                                                                                  \u001b[31m│\u001b[0m\n",
       "\u001b[31m│\u001b[0m   \u001b[2m 513 \u001b[0m\u001b[2m│   │   \u001b[0m\u001b[2m# Force n_gpu to 1 to avoid DataParallel as MP will manage the GPUs\u001b[0m               \u001b[31m│\u001b[0m\n",
       "\u001b[31m│\u001b[0m   \u001b[2m 514 \u001b[0m\u001b[2m│   │   \u001b[0m\u001b[94mif\u001b[0m \u001b[96mself\u001b[0m.is_model_parallel:                                                        \u001b[31m│\u001b[0m\n",
       "\u001b[31m│\u001b[0m                                                                                                  \u001b[31m│\u001b[0m\n",
       "\u001b[31m│\u001b[0m \u001b[2;33m/opt/conda/lib/python3.10/site-packages/transformers/\u001b[0m\u001b[1;33mtrainer.py\u001b[0m:\u001b[94m754\u001b[0m in \u001b[92m_move_model_to_device\u001b[0m     \u001b[31m│\u001b[0m\n",
       "\u001b[31m│\u001b[0m                                                                                                  \u001b[31m│\u001b[0m\n",
       "\u001b[31m│\u001b[0m   \u001b[2m 751 \u001b[0m\u001b[2m│   │   \u001b[0m\u001b[96mself\u001b[0m.callback_handler.remove_callback(callback)                                   \u001b[31m│\u001b[0m\n",
       "\u001b[31m│\u001b[0m   \u001b[2m 752 \u001b[0m\u001b[2m│   \u001b[0m                                                                                      \u001b[31m│\u001b[0m\n",
       "\u001b[31m│\u001b[0m   \u001b[2m 753 \u001b[0m\u001b[2m│   \u001b[0m\u001b[94mdef\u001b[0m \u001b[92m_move_model_to_device\u001b[0m(\u001b[96mself\u001b[0m, model, device):                                       \u001b[31m│\u001b[0m\n",
       "\u001b[31m│\u001b[0m \u001b[31m❱ \u001b[0m 754 \u001b[2m│   │   \u001b[0mmodel = model.to(device)                                                          \u001b[31m│\u001b[0m\n",
       "\u001b[31m│\u001b[0m   \u001b[2m 755 \u001b[0m\u001b[2m│   │   \u001b[0m\u001b[2m# Moving a model to an XLA device disconnects the tied weights, so we have to re\u001b[0m  \u001b[31m│\u001b[0m\n",
       "\u001b[31m│\u001b[0m   \u001b[2m 756 \u001b[0m\u001b[2m│   │   \u001b[0m\u001b[94mif\u001b[0m \u001b[96mself\u001b[0m.args.parallel_mode == ParallelMode.TPU \u001b[95mand\u001b[0m \u001b[96mhasattr\u001b[0m(model, \u001b[33m\"\u001b[0m\u001b[33mtie_weights\u001b[0m\u001b[33m\"\u001b[0m)  \u001b[31m│\u001b[0m\n",
       "\u001b[31m│\u001b[0m   \u001b[2m 757 \u001b[0m\u001b[2m│   │   │   \u001b[0mmodel.tie_weights()                                                           \u001b[31m│\u001b[0m\n",
       "\u001b[31m│\u001b[0m                                                                                                  \u001b[31m│\u001b[0m\n",
       "\u001b[31m│\u001b[0m \u001b[2;33m/opt/conda/lib/python3.10/site-packages/transformers/\u001b[0m\u001b[1;33mmodeling_utils.py\u001b[0m:\u001b[94m1902\u001b[0m in \u001b[92mto\u001b[0m                \u001b[31m│\u001b[0m\n",
       "\u001b[31m│\u001b[0m                                                                                                  \u001b[31m│\u001b[0m\n",
       "\u001b[31m│\u001b[0m   \u001b[2m1899 \u001b[0m\u001b[2m│   │   │   │   \u001b[0m\u001b[33m\"\u001b[0m\u001b[33m model has already been set to the correct devices and casted to the co\u001b[0m  \u001b[31m│\u001b[0m\n",
       "\u001b[31m│\u001b[0m   \u001b[2m1900 \u001b[0m\u001b[2m│   │   │   \u001b[0m)                                                                             \u001b[31m│\u001b[0m\n",
       "\u001b[31m│\u001b[0m   \u001b[2m1901 \u001b[0m\u001b[2m│   │   \u001b[0m\u001b[94melse\u001b[0m:                                                                             \u001b[31m│\u001b[0m\n",
       "\u001b[31m│\u001b[0m \u001b[31m❱ \u001b[0m1902 \u001b[2m│   │   │   \u001b[0m\u001b[94mreturn\u001b[0m \u001b[96msuper\u001b[0m().to(*args, **kwargs)                                            \u001b[31m│\u001b[0m\n",
       "\u001b[31m│\u001b[0m   \u001b[2m1903 \u001b[0m\u001b[2m│   \u001b[0m                                                                                      \u001b[31m│\u001b[0m\n",
       "\u001b[31m│\u001b[0m   \u001b[2m1904 \u001b[0m\u001b[2m│   \u001b[0m\u001b[94mdef\u001b[0m \u001b[92mhalf\u001b[0m(\u001b[96mself\u001b[0m, *args):                                                                \u001b[31m│\u001b[0m\n",
       "\u001b[31m│\u001b[0m   \u001b[2m1905 \u001b[0m\u001b[2m│   │   \u001b[0m\u001b[2m# Checks if the model has been loaded in 8-bit\u001b[0m                                    \u001b[31m│\u001b[0m\n",
       "\u001b[31m│\u001b[0m                                                                                                  \u001b[31m│\u001b[0m\n",
       "\u001b[31m│\u001b[0m \u001b[2;33m/opt/conda/lib/python3.10/site-packages/torch/nn/modules/\u001b[0m\u001b[1;33mmodule.py\u001b[0m:\u001b[94m1145\u001b[0m in \u001b[92mto\u001b[0m                    \u001b[31m│\u001b[0m\n",
       "\u001b[31m│\u001b[0m                                                                                                  \u001b[31m│\u001b[0m\n",
       "\u001b[31m│\u001b[0m   \u001b[2m1142 \u001b[0m\u001b[2m│   │   │   │   │   │   │   \u001b[0mnon_blocking, memory_format=convert_to_format)                \u001b[31m│\u001b[0m\n",
       "\u001b[31m│\u001b[0m   \u001b[2m1143 \u001b[0m\u001b[2m│   │   │   \u001b[0m\u001b[94mreturn\u001b[0m t.to(device, dtype \u001b[94mif\u001b[0m t.is_floating_point() \u001b[95mor\u001b[0m t.is_complex() \u001b[94melse\u001b[0m \u001b[94mNo\u001b[0m  \u001b[31m│\u001b[0m\n",
       "\u001b[31m│\u001b[0m   \u001b[2m1144 \u001b[0m\u001b[2m│   │   \u001b[0m                                                                                  \u001b[31m│\u001b[0m\n",
       "\u001b[31m│\u001b[0m \u001b[31m❱ \u001b[0m1145 \u001b[2m│   │   \u001b[0m\u001b[94mreturn\u001b[0m \u001b[96mself\u001b[0m._apply(convert)                                                       \u001b[31m│\u001b[0m\n",
       "\u001b[31m│\u001b[0m   \u001b[2m1146 \u001b[0m\u001b[2m│   \u001b[0m                                                                                      \u001b[31m│\u001b[0m\n",
       "\u001b[31m│\u001b[0m   \u001b[2m1147 \u001b[0m\u001b[2m│   \u001b[0m\u001b[94mdef\u001b[0m \u001b[92mregister_full_backward_pre_hook\u001b[0m(                                                  \u001b[31m│\u001b[0m\n",
       "\u001b[31m│\u001b[0m   \u001b[2m1148 \u001b[0m\u001b[2m│   │   \u001b[0m\u001b[96mself\u001b[0m,                                                                             \u001b[31m│\u001b[0m\n",
       "\u001b[31m│\u001b[0m                                                                                                  \u001b[31m│\u001b[0m\n",
       "\u001b[31m│\u001b[0m \u001b[2;33m/opt/conda/lib/python3.10/site-packages/torch/nn/modules/\u001b[0m\u001b[1;33mmodule.py\u001b[0m:\u001b[94m797\u001b[0m in \u001b[92m_apply\u001b[0m                 \u001b[31m│\u001b[0m\n",
       "\u001b[31m│\u001b[0m                                                                                                  \u001b[31m│\u001b[0m\n",
       "\u001b[31m│\u001b[0m   \u001b[2m 794 \u001b[0m\u001b[2m│   \u001b[0m                                                                                      \u001b[31m│\u001b[0m\n",
       "\u001b[31m│\u001b[0m   \u001b[2m 795 \u001b[0m\u001b[2m│   \u001b[0m\u001b[94mdef\u001b[0m \u001b[92m_apply\u001b[0m(\u001b[96mself\u001b[0m, fn):                                                                 \u001b[31m│\u001b[0m\n",
       "\u001b[31m│\u001b[0m   \u001b[2m 796 \u001b[0m\u001b[2m│   │   \u001b[0m\u001b[94mfor\u001b[0m module \u001b[95min\u001b[0m \u001b[96mself\u001b[0m.children():                                                    \u001b[31m│\u001b[0m\n",
       "\u001b[31m│\u001b[0m \u001b[31m❱ \u001b[0m 797 \u001b[2m│   │   │   \u001b[0mmodule._apply(fn)                                                             \u001b[31m│\u001b[0m\n",
       "\u001b[31m│\u001b[0m   \u001b[2m 798 \u001b[0m\u001b[2m│   │   \u001b[0m                                                                                  \u001b[31m│\u001b[0m\n",
       "\u001b[31m│\u001b[0m   \u001b[2m 799 \u001b[0m\u001b[2m│   │   \u001b[0m\u001b[94mdef\u001b[0m \u001b[92mcompute_should_use_set_data\u001b[0m(tensor, tensor_applied):                          \u001b[31m│\u001b[0m\n",
       "\u001b[31m│\u001b[0m   \u001b[2m 800 \u001b[0m\u001b[2m│   │   │   \u001b[0m\u001b[94mif\u001b[0m torch._has_compatible_shallow_copy_type(tensor, tensor_applied):           \u001b[31m│\u001b[0m\n",
       "\u001b[31m│\u001b[0m                                                                                                  \u001b[31m│\u001b[0m\n",
       "\u001b[31m│\u001b[0m \u001b[2;33m/opt/conda/lib/python3.10/site-packages/torch/nn/modules/\u001b[0m\u001b[1;33mmodule.py\u001b[0m:\u001b[94m797\u001b[0m in \u001b[92m_apply\u001b[0m                 \u001b[31m│\u001b[0m\n",
       "\u001b[31m│\u001b[0m                                                                                                  \u001b[31m│\u001b[0m\n",
       "\u001b[31m│\u001b[0m   \u001b[2m 794 \u001b[0m\u001b[2m│   \u001b[0m                                                                                      \u001b[31m│\u001b[0m\n",
       "\u001b[31m│\u001b[0m   \u001b[2m 795 \u001b[0m\u001b[2m│   \u001b[0m\u001b[94mdef\u001b[0m \u001b[92m_apply\u001b[0m(\u001b[96mself\u001b[0m, fn):                                                                 \u001b[31m│\u001b[0m\n",
       "\u001b[31m│\u001b[0m   \u001b[2m 796 \u001b[0m\u001b[2m│   │   \u001b[0m\u001b[94mfor\u001b[0m module \u001b[95min\u001b[0m \u001b[96mself\u001b[0m.children():                                                    \u001b[31m│\u001b[0m\n",
       "\u001b[31m│\u001b[0m \u001b[31m❱ \u001b[0m 797 \u001b[2m│   │   │   \u001b[0mmodule._apply(fn)                                                             \u001b[31m│\u001b[0m\n",
       "\u001b[31m│\u001b[0m   \u001b[2m 798 \u001b[0m\u001b[2m│   │   \u001b[0m                                                                                  \u001b[31m│\u001b[0m\n",
       "\u001b[31m│\u001b[0m   \u001b[2m 799 \u001b[0m\u001b[2m│   │   \u001b[0m\u001b[94mdef\u001b[0m \u001b[92mcompute_should_use_set_data\u001b[0m(tensor, tensor_applied):                          \u001b[31m│\u001b[0m\n",
       "\u001b[31m│\u001b[0m   \u001b[2m 800 \u001b[0m\u001b[2m│   │   │   \u001b[0m\u001b[94mif\u001b[0m torch._has_compatible_shallow_copy_type(tensor, tensor_applied):           \u001b[31m│\u001b[0m\n",
       "\u001b[31m│\u001b[0m                                                                                                  \u001b[31m│\u001b[0m\n",
       "\u001b[31m│\u001b[0m \u001b[2;33m/opt/conda/lib/python3.10/site-packages/torch/nn/modules/\u001b[0m\u001b[1;33mmodule.py\u001b[0m:\u001b[94m797\u001b[0m in \u001b[92m_apply\u001b[0m                 \u001b[31m│\u001b[0m\n",
       "\u001b[31m│\u001b[0m                                                                                                  \u001b[31m│\u001b[0m\n",
       "\u001b[31m│\u001b[0m   \u001b[2m 794 \u001b[0m\u001b[2m│   \u001b[0m                                                                                      \u001b[31m│\u001b[0m\n",
       "\u001b[31m│\u001b[0m   \u001b[2m 795 \u001b[0m\u001b[2m│   \u001b[0m\u001b[94mdef\u001b[0m \u001b[92m_apply\u001b[0m(\u001b[96mself\u001b[0m, fn):                                                                 \u001b[31m│\u001b[0m\n",
       "\u001b[31m│\u001b[0m   \u001b[2m 796 \u001b[0m\u001b[2m│   │   \u001b[0m\u001b[94mfor\u001b[0m module \u001b[95min\u001b[0m \u001b[96mself\u001b[0m.children():                                                    \u001b[31m│\u001b[0m\n",
       "\u001b[31m│\u001b[0m \u001b[31m❱ \u001b[0m 797 \u001b[2m│   │   │   \u001b[0mmodule._apply(fn)                                                             \u001b[31m│\u001b[0m\n",
       "\u001b[31m│\u001b[0m   \u001b[2m 798 \u001b[0m\u001b[2m│   │   \u001b[0m                                                                                  \u001b[31m│\u001b[0m\n",
       "\u001b[31m│\u001b[0m   \u001b[2m 799 \u001b[0m\u001b[2m│   │   \u001b[0m\u001b[94mdef\u001b[0m \u001b[92mcompute_should_use_set_data\u001b[0m(tensor, tensor_applied):                          \u001b[31m│\u001b[0m\n",
       "\u001b[31m│\u001b[0m   \u001b[2m 800 \u001b[0m\u001b[2m│   │   │   \u001b[0m\u001b[94mif\u001b[0m torch._has_compatible_shallow_copy_type(tensor, tensor_applied):           \u001b[31m│\u001b[0m\n",
       "\u001b[31m│\u001b[0m                                                                                                  \u001b[31m│\u001b[0m\n",
       "\u001b[31m│\u001b[0m \u001b[2;33m/opt/conda/lib/python3.10/site-packages/torch/nn/modules/\u001b[0m\u001b[1;33mmodule.py\u001b[0m:\u001b[94m797\u001b[0m in \u001b[92m_apply\u001b[0m                 \u001b[31m│\u001b[0m\n",
       "\u001b[31m│\u001b[0m                                                                                                  \u001b[31m│\u001b[0m\n",
       "\u001b[31m│\u001b[0m   \u001b[2m 794 \u001b[0m\u001b[2m│   \u001b[0m                                                                                      \u001b[31m│\u001b[0m\n",
       "\u001b[31m│\u001b[0m   \u001b[2m 795 \u001b[0m\u001b[2m│   \u001b[0m\u001b[94mdef\u001b[0m \u001b[92m_apply\u001b[0m(\u001b[96mself\u001b[0m, fn):                                                                 \u001b[31m│\u001b[0m\n",
       "\u001b[31m│\u001b[0m   \u001b[2m 796 \u001b[0m\u001b[2m│   │   \u001b[0m\u001b[94mfor\u001b[0m module \u001b[95min\u001b[0m \u001b[96mself\u001b[0m.children():                                                    \u001b[31m│\u001b[0m\n",
       "\u001b[31m│\u001b[0m \u001b[31m❱ \u001b[0m 797 \u001b[2m│   │   │   \u001b[0mmodule._apply(fn)                                                             \u001b[31m│\u001b[0m\n",
       "\u001b[31m│\u001b[0m   \u001b[2m 798 \u001b[0m\u001b[2m│   │   \u001b[0m                                                                                  \u001b[31m│\u001b[0m\n",
       "\u001b[31m│\u001b[0m   \u001b[2m 799 \u001b[0m\u001b[2m│   │   \u001b[0m\u001b[94mdef\u001b[0m \u001b[92mcompute_should_use_set_data\u001b[0m(tensor, tensor_applied):                          \u001b[31m│\u001b[0m\n",
       "\u001b[31m│\u001b[0m   \u001b[2m 800 \u001b[0m\u001b[2m│   │   │   \u001b[0m\u001b[94mif\u001b[0m torch._has_compatible_shallow_copy_type(tensor, tensor_applied):           \u001b[31m│\u001b[0m\n",
       "\u001b[31m│\u001b[0m                                                                                                  \u001b[31m│\u001b[0m\n",
       "\u001b[31m│\u001b[0m \u001b[2;33m/opt/conda/lib/python3.10/site-packages/torch/nn/modules/\u001b[0m\u001b[1;33mmodule.py\u001b[0m:\u001b[94m797\u001b[0m in \u001b[92m_apply\u001b[0m                 \u001b[31m│\u001b[0m\n",
       "\u001b[31m│\u001b[0m                                                                                                  \u001b[31m│\u001b[0m\n",
       "\u001b[31m│\u001b[0m   \u001b[2m 794 \u001b[0m\u001b[2m│   \u001b[0m                                                                                      \u001b[31m│\u001b[0m\n",
       "\u001b[31m│\u001b[0m   \u001b[2m 795 \u001b[0m\u001b[2m│   \u001b[0m\u001b[94mdef\u001b[0m \u001b[92m_apply\u001b[0m(\u001b[96mself\u001b[0m, fn):                                                                 \u001b[31m│\u001b[0m\n",
       "\u001b[31m│\u001b[0m   \u001b[2m 796 \u001b[0m\u001b[2m│   │   \u001b[0m\u001b[94mfor\u001b[0m module \u001b[95min\u001b[0m \u001b[96mself\u001b[0m.children():                                                    \u001b[31m│\u001b[0m\n",
       "\u001b[31m│\u001b[0m \u001b[31m❱ \u001b[0m 797 \u001b[2m│   │   │   \u001b[0mmodule._apply(fn)                                                             \u001b[31m│\u001b[0m\n",
       "\u001b[31m│\u001b[0m   \u001b[2m 798 \u001b[0m\u001b[2m│   │   \u001b[0m                                                                                  \u001b[31m│\u001b[0m\n",
       "\u001b[31m│\u001b[0m   \u001b[2m 799 \u001b[0m\u001b[2m│   │   \u001b[0m\u001b[94mdef\u001b[0m \u001b[92mcompute_should_use_set_data\u001b[0m(tensor, tensor_applied):                          \u001b[31m│\u001b[0m\n",
       "\u001b[31m│\u001b[0m   \u001b[2m 800 \u001b[0m\u001b[2m│   │   │   \u001b[0m\u001b[94mif\u001b[0m torch._has_compatible_shallow_copy_type(tensor, tensor_applied):           \u001b[31m│\u001b[0m\n",
       "\u001b[31m│\u001b[0m                                                                                                  \u001b[31m│\u001b[0m\n",
       "\u001b[31m│\u001b[0m \u001b[2;33m/opt/conda/lib/python3.10/site-packages/torch/nn/modules/\u001b[0m\u001b[1;33mmodule.py\u001b[0m:\u001b[94m797\u001b[0m in \u001b[92m_apply\u001b[0m                 \u001b[31m│\u001b[0m\n",
       "\u001b[31m│\u001b[0m                                                                                                  \u001b[31m│\u001b[0m\n",
       "\u001b[31m│\u001b[0m   \u001b[2m 794 \u001b[0m\u001b[2m│   \u001b[0m                                                                                      \u001b[31m│\u001b[0m\n",
       "\u001b[31m│\u001b[0m   \u001b[2m 795 \u001b[0m\u001b[2m│   \u001b[0m\u001b[94mdef\u001b[0m \u001b[92m_apply\u001b[0m(\u001b[96mself\u001b[0m, fn):                                                                 \u001b[31m│\u001b[0m\n",
       "\u001b[31m│\u001b[0m   \u001b[2m 796 \u001b[0m\u001b[2m│   │   \u001b[0m\u001b[94mfor\u001b[0m module \u001b[95min\u001b[0m \u001b[96mself\u001b[0m.children():                                                    \u001b[31m│\u001b[0m\n",
       "\u001b[31m│\u001b[0m \u001b[31m❱ \u001b[0m 797 \u001b[2m│   │   │   \u001b[0mmodule._apply(fn)                                                             \u001b[31m│\u001b[0m\n",
       "\u001b[31m│\u001b[0m   \u001b[2m 798 \u001b[0m\u001b[2m│   │   \u001b[0m                                                                                  \u001b[31m│\u001b[0m\n",
       "\u001b[31m│\u001b[0m   \u001b[2m 799 \u001b[0m\u001b[2m│   │   \u001b[0m\u001b[94mdef\u001b[0m \u001b[92mcompute_should_use_set_data\u001b[0m(tensor, tensor_applied):                          \u001b[31m│\u001b[0m\n",
       "\u001b[31m│\u001b[0m   \u001b[2m 800 \u001b[0m\u001b[2m│   │   │   \u001b[0m\u001b[94mif\u001b[0m torch._has_compatible_shallow_copy_type(tensor, tensor_applied):           \u001b[31m│\u001b[0m\n",
       "\u001b[31m│\u001b[0m                                                                                                  \u001b[31m│\u001b[0m\n",
       "\u001b[31m│\u001b[0m \u001b[2;33m/opt/conda/lib/python3.10/site-packages/torch/nn/modules/\u001b[0m\u001b[1;33mmodule.py\u001b[0m:\u001b[94m820\u001b[0m in \u001b[92m_apply\u001b[0m                 \u001b[31m│\u001b[0m\n",
       "\u001b[31m│\u001b[0m                                                                                                  \u001b[31m│\u001b[0m\n",
       "\u001b[31m│\u001b[0m   \u001b[2m 817 \u001b[0m\u001b[2m│   │   │   \u001b[0m\u001b[2m# track autograd history of `param_applied`, so we have to use\u001b[0m                \u001b[31m│\u001b[0m\n",
       "\u001b[31m│\u001b[0m   \u001b[2m 818 \u001b[0m\u001b[2m│   │   │   \u001b[0m\u001b[2m# `with torch.no_grad():`\u001b[0m                                                     \u001b[31m│\u001b[0m\n",
       "\u001b[31m│\u001b[0m   \u001b[2m 819 \u001b[0m\u001b[2m│   │   │   \u001b[0m\u001b[94mwith\u001b[0m torch.no_grad():                                                         \u001b[31m│\u001b[0m\n",
       "\u001b[31m│\u001b[0m \u001b[31m❱ \u001b[0m 820 \u001b[2m│   │   │   │   \u001b[0mparam_applied = fn(param)                                                 \u001b[31m│\u001b[0m\n",
       "\u001b[31m│\u001b[0m   \u001b[2m 821 \u001b[0m\u001b[2m│   │   │   \u001b[0mshould_use_set_data = compute_should_use_set_data(param, param_applied)       \u001b[31m│\u001b[0m\n",
       "\u001b[31m│\u001b[0m   \u001b[2m 822 \u001b[0m\u001b[2m│   │   │   \u001b[0m\u001b[94mif\u001b[0m should_use_set_data:                                                       \u001b[31m│\u001b[0m\n",
       "\u001b[31m│\u001b[0m   \u001b[2m 823 \u001b[0m\u001b[2m│   │   │   │   \u001b[0mparam.data = param_applied                                                \u001b[31m│\u001b[0m\n",
       "\u001b[31m│\u001b[0m                                                                                                  \u001b[31m│\u001b[0m\n",
       "\u001b[31m│\u001b[0m \u001b[2;33m/opt/conda/lib/python3.10/site-packages/torch/nn/modules/\u001b[0m\u001b[1;33mmodule.py\u001b[0m:\u001b[94m1143\u001b[0m in \u001b[92mconvert\u001b[0m               \u001b[31m│\u001b[0m\n",
       "\u001b[31m│\u001b[0m                                                                                                  \u001b[31m│\u001b[0m\n",
       "\u001b[31m│\u001b[0m   \u001b[2m1140 \u001b[0m\u001b[2m│   │   │   \u001b[0m\u001b[94mif\u001b[0m convert_to_format \u001b[95mis\u001b[0m \u001b[95mnot\u001b[0m \u001b[94mNone\u001b[0m \u001b[95mand\u001b[0m t.dim() \u001b[95min\u001b[0m (\u001b[94m4\u001b[0m, \u001b[94m5\u001b[0m):                       \u001b[31m│\u001b[0m\n",
       "\u001b[31m│\u001b[0m   \u001b[2m1141 \u001b[0m\u001b[2m│   │   │   │   \u001b[0m\u001b[94mreturn\u001b[0m t.to(device, dtype \u001b[94mif\u001b[0m t.is_floating_point() \u001b[95mor\u001b[0m t.is_complex() \u001b[94mels\u001b[0m  \u001b[31m│\u001b[0m\n",
       "\u001b[31m│\u001b[0m   \u001b[2m1142 \u001b[0m\u001b[2m│   │   │   │   │   │   │   \u001b[0mnon_blocking, memory_format=convert_to_format)                \u001b[31m│\u001b[0m\n",
       "\u001b[31m│\u001b[0m \u001b[31m❱ \u001b[0m1143 \u001b[2m│   │   │   \u001b[0m\u001b[94mreturn\u001b[0m t.to(device, dtype \u001b[94mif\u001b[0m t.is_floating_point() \u001b[95mor\u001b[0m t.is_complex() \u001b[94melse\u001b[0m \u001b[94mNo\u001b[0m  \u001b[31m│\u001b[0m\n",
       "\u001b[31m│\u001b[0m   \u001b[2m1144 \u001b[0m\u001b[2m│   │   \u001b[0m                                                                                  \u001b[31m│\u001b[0m\n",
       "\u001b[31m│\u001b[0m   \u001b[2m1145 \u001b[0m\u001b[2m│   │   \u001b[0m\u001b[94mreturn\u001b[0m \u001b[96mself\u001b[0m._apply(convert)                                                       \u001b[31m│\u001b[0m\n",
       "\u001b[31m│\u001b[0m   \u001b[2m1146 \u001b[0m                                                                                          \u001b[31m│\u001b[0m\n",
       "\u001b[31m╰──────────────────────────────────────────────────────────────────────────────────────────────────╯\u001b[0m\n",
       "\u001b[1;91mOutOfMemoryError: \u001b[0mCUDA out of memory. Tried to allocate \u001b[1;36m20.00\u001b[0m MiB \u001b[1m(\u001b[0mGPU \u001b[1;36m0\u001b[0m; \u001b[1;36m14.76\u001b[0m GiB total capacity; \u001b[1;36m218.19\u001b[0m MiB \n",
       "already allocated; \u001b[1;36m21.75\u001b[0m MiB free; \u001b[1;36m232.00\u001b[0m MiB reserved in total by PyTorch\u001b[1m)\u001b[0m If reserved memory is >> allocated \n",
       "memory try setting max_split_size_mb to avoid fragmentation.  See documentation for Memory Management and \n",
       "PYTORCH_CUDA_ALLOC_CONF\n"
      ]
     },
     "metadata": {},
     "output_type": "display_data"
    }
   ],
   "source": [
    "training_args = TrainingArguments(\n",
    "    output_dir=\"/kaggle/working/\",\n",
    "    learning_rate=2e-4,\n",
    "    per_device_train_batch_size=8,\n",
    "    per_device_eval_batch_size=8,\n",
    "    num_train_epochs=50,\n",
    "    weight_decay=0.01,\n",
    "    evaluation_strategy = \"epoch\",\n",
    "    logging_strategy=\"epoch\",\n",
    ")\n",
    "\n",
    "trainer = Trainer(\n",
    "    model=model,\n",
    "    args=training_args,\n",
    "    train_dataset=categorized_train,\n",
    "    eval_dataset=categorized_valid,\n",
    "    tokenizer=tokenizer,\n",
    "    data_collator=data_collator,\n",
    "    compute_metrics=compute_metrics\n",
    "    \n",
    ")\n"
   ]
  },
  {
   "cell_type": "code",
   "execution_count": null,
   "id": "ae7399ce",
   "metadata": {
    "execution": {
     "iopub.execute_input": "2023-08-10T18:43:55.499756Z",
     "iopub.status.busy": "2023-08-10T18:43:55.499281Z",
     "iopub.status.idle": "2023-08-10T18:51:26.969195Z",
     "shell.execute_reply": "2023-08-10T18:51:26.966889Z",
     "shell.execute_reply.started": "2023-08-10T18:43:55.499704Z"
    },
    "papermill": {
     "duration": null,
     "end_time": null,
     "exception": null,
     "start_time": null,
     "status": "pending"
    },
    "tags": []
   },
   "outputs": [],
   "source": [
    "trainer.train()"
   ]
  },
  {
   "cell_type": "code",
   "execution_count": null,
   "id": "a76feb6c",
   "metadata": {
    "execution": {
     "iopub.execute_input": "2023-08-10T18:51:46.697957Z",
     "iopub.status.busy": "2023-08-10T18:51:46.697465Z",
     "iopub.status.idle": "2023-08-10T18:53:13.284790Z",
     "shell.execute_reply": "2023-08-10T18:53:13.283373Z",
     "shell.execute_reply.started": "2023-08-10T18:51:46.697918Z"
    },
    "papermill": {
     "duration": null,
     "end_time": null,
     "exception": null,
     "start_time": null,
     "status": "pending"
    },
    "tags": []
   },
   "outputs": [],
   "source": [
    "predictions = trainer.predict(categorized_valid)"
   ]
  },
  {
   "cell_type": "code",
   "execution_count": null,
   "id": "f3c2d560",
   "metadata": {
    "execution": {
     "iopub.execute_input": "2023-08-10T18:56:44.181296Z",
     "iopub.status.busy": "2023-08-10T18:56:44.180703Z",
     "iopub.status.idle": "2023-08-10T18:56:44.191986Z",
     "shell.execute_reply": "2023-08-10T18:56:44.190328Z",
     "shell.execute_reply.started": "2023-08-10T18:56:44.181250Z"
    },
    "papermill": {
     "duration": null,
     "end_time": null,
     "exception": null,
     "start_time": null,
     "status": "pending"
    },
    "tags": []
   },
   "outputs": [],
   "source": [
    "pr = np.argmax(predictions.predictions, axis=-1)"
   ]
  },
  {
   "cell_type": "code",
   "execution_count": null,
   "id": "94e11a25",
   "metadata": {
    "execution": {
     "iopub.execute_input": "2023-08-10T18:56:49.578282Z",
     "iopub.status.busy": "2023-08-10T18:56:49.577475Z",
     "iopub.status.idle": "2023-08-10T18:56:49.604200Z",
     "shell.execute_reply": "2023-08-10T18:56:49.602693Z",
     "shell.execute_reply.started": "2023-08-10T18:56:49.578241Z"
    },
    "papermill": {
     "duration": null,
     "end_time": null,
     "exception": null,
     "start_time": null,
     "status": "pending"
    },
    "tags": []
   },
   "outputs": [],
   "source": [
    "true=predictions.label_ids\n",
    "acc_score = metrics.accuracy_score(true,pr)\n",
    "pre_score = metrics.precision_score(true,pr,average=\"weighted\")\n",
    "recall= metrics.recall_score(true,pr,average=\"weighted\")\n",
    "f1= metrics.f1_score(true,pr,average=\"weighted\")\n",
    "mcc= metrics.matthews_corrcoef(true,pr)\n",
    "acc_score,pre_score,recall,f1,mcc"
   ]
  },
  {
   "cell_type": "code",
   "execution_count": null,
   "id": "0ffc1eca",
   "metadata": {
    "papermill": {
     "duration": null,
     "end_time": null,
     "exception": null,
     "start_time": null,
     "status": "pending"
    },
    "tags": []
   },
   "outputs": [],
   "source": [
    "trainer.save_model('cv-classifier')"
   ]
  },
  {
   "cell_type": "markdown",
   "id": "1f2cf02e",
   "metadata": {
    "papermill": {
     "duration": null,
     "end_time": null,
     "exception": null,
     "start_time": null,
     "status": "pending"
    },
    "tags": []
   },
   "source": [
    "# Best Option is to use Gradient Boosting with TF-IDF vectorizer with stop-words removal"
   ]
  },
  {
   "cell_type": "code",
   "execution_count": null,
   "id": "869a66e9",
   "metadata": {
    "execution": {
     "iopub.execute_input": "2023-08-10T19:21:08.456175Z",
     "iopub.status.busy": "2023-08-10T19:21:08.455610Z",
     "iopub.status.idle": "2023-08-10T19:21:49.999741Z",
     "shell.execute_reply": "2023-08-10T19:21:49.998010Z",
     "shell.execute_reply.started": "2023-08-10T19:21:08.456137Z"
    },
    "papermill": {
     "duration": null,
     "end_time": null,
     "exception": null,
     "start_time": null,
     "status": "pending"
    },
    "tags": []
   },
   "outputs": [],
   "source": [
    "vectorizer = TfidfVectorizer(ngram_range=(1,5),max_features=vocab_size,stop_words=stopwords.words('english'))\n",
    "X_train_tfidf = vectorizer.fit_transform(X_train)\n",
    "X_validation_tfidf = vectorizer.transform(X_validation)\n",
    "X_test_ifidf = vectorizer.transform(X_test)"
   ]
  },
  {
   "cell_type": "markdown",
   "id": "204df241",
   "metadata": {
    "papermill": {
     "duration": null,
     "end_time": null,
     "exception": null,
     "start_time": null,
     "status": "pending"
    },
    "tags": []
   },
   "source": [
    "## Saving the datasets"
   ]
  },
  {
   "cell_type": "code",
   "execution_count": null,
   "id": "1c1eca6b",
   "metadata": {
    "execution": {
     "iopub.execute_input": "2023-08-10T19:15:06.555392Z",
     "iopub.status.busy": "2023-08-10T19:15:06.554633Z",
     "iopub.status.idle": "2023-08-10T19:15:07.508789Z",
     "shell.execute_reply": "2023-08-10T19:15:07.507826Z",
     "shell.execute_reply.started": "2023-08-10T19:15:06.555346Z"
    },
    "papermill": {
     "duration": null,
     "end_time": null,
     "exception": null,
     "start_time": null,
     "status": "pending"
    },
    "tags": []
   },
   "outputs": [],
   "source": [
    "train.to_csv('train.csv',index=False)\n",
    "test.to_csv('test.csv',index=False)\n",
    "validation.to_csv('validation.csv',index=False)"
   ]
  },
  {
   "cell_type": "markdown",
   "id": "bfd68762",
   "metadata": {
    "papermill": {
     "duration": null,
     "end_time": null,
     "exception": null,
     "start_time": null,
     "status": "pending"
    },
    "tags": []
   },
   "source": [
    "# Final Evaluation of the best model on test dataset"
   ]
  },
  {
   "cell_type": "code",
   "execution_count": null,
   "id": "8aaad256",
   "metadata": {
    "execution": {
     "iopub.execute_input": "2023-08-10T19:21:50.001672Z",
     "iopub.status.busy": "2023-08-10T19:21:50.001313Z",
     "iopub.status.idle": "2023-08-10T19:29:14.814366Z",
     "shell.execute_reply": "2023-08-10T19:29:14.813344Z",
     "shell.execute_reply.started": "2023-08-10T19:21:50.001640Z"
    },
    "papermill": {
     "duration": null,
     "end_time": null,
     "exception": null,
     "start_time": null,
     "status": "pending"
    },
    "tags": []
   },
   "outputs": [],
   "source": [
    "gbc = GradientBoostingClassifier(n_estimators=50,random_state=2)\n",
    "gbc.fit(X_train_tfidf,y_train)"
   ]
  },
  {
   "cell_type": "code",
   "execution_count": null,
   "id": "4b28a263",
   "metadata": {
    "execution": {
     "iopub.execute_input": "2023-08-10T19:32:39.313197Z",
     "iopub.status.busy": "2023-08-10T19:32:39.312682Z",
     "iopub.status.idle": "2023-08-10T19:32:39.373888Z",
     "shell.execute_reply": "2023-08-10T19:32:39.372567Z",
     "shell.execute_reply.started": "2023-08-10T19:32:39.313154Z"
    },
    "papermill": {
     "duration": null,
     "end_time": null,
     "exception": null,
     "start_time": null,
     "status": "pending"
    },
    "tags": []
   },
   "outputs": [],
   "source": [
    "pr = gbc.predict(X_test_ifidf)\n",
    "acc_score = metrics.accuracy_score(y_test,pr)\n",
    "pre_score = metrics.precision_score(y_test,pr,average=\"weighted\")\n",
    "recall= metrics.recall_score(y_test,pr,average=\"weighted\")\n",
    "f1= metrics.f1_score(y_test,pr,average=\"weighted\")\n",
    "mcc= metrics.matthews_corrcoef(y_test,pr)\n",
    "print(\"accuracy: \" + str(acc_score)+\" precision: \"+ str(pre_score) + \" recall: \"+ str(recall)+ \" f1-score: \"+str(f1)+\" mcc: \"+str(mcc))"
   ]
  },
  {
   "cell_type": "markdown",
   "id": "91352908",
   "metadata": {
    "papermill": {
     "duration": null,
     "end_time": null,
     "exception": null,
     "start_time": null,
     "status": "pending"
    },
    "tags": []
   },
   "source": [
    "# Saving the model"
   ]
  },
  {
   "cell_type": "code",
   "execution_count": null,
   "id": "93ed6173",
   "metadata": {
    "execution": {
     "iopub.execute_input": "2023-08-10T19:32:44.431668Z",
     "iopub.status.busy": "2023-08-10T19:32:44.431231Z",
     "iopub.status.idle": "2023-08-10T19:32:44.559348Z",
     "shell.execute_reply": "2023-08-10T19:32:44.558044Z",
     "shell.execute_reply.started": "2023-08-10T19:32:44.431635Z"
    },
    "papermill": {
     "duration": null,
     "end_time": null,
     "exception": null,
     "start_time": null,
     "status": "pending"
    },
    "tags": []
   },
   "outputs": [],
   "source": [
    "import pickle\n",
    "pickle.dump(gbc, open('gradient_boosting.sav', 'wb'))"
   ]
  },
  {
   "cell_type": "markdown",
   "id": "bc55b9c0",
   "metadata": {
    "papermill": {
     "duration": null,
     "end_time": null,
     "exception": null,
     "start_time": null,
     "status": "pending"
    },
    "tags": []
   },
   "source": [
    "### If needed, load the model this way:"
   ]
  },
  {
   "cell_type": "code",
   "execution_count": null,
   "id": "0e0b6de3",
   "metadata": {
    "execution": {
     "iopub.execute_input": "2023-08-10T19:32:45.704072Z",
     "iopub.status.busy": "2023-08-10T19:32:45.702481Z",
     "iopub.status.idle": "2023-08-10T19:32:45.774226Z",
     "shell.execute_reply": "2023-08-10T19:32:45.772888Z",
     "shell.execute_reply.started": "2023-08-10T19:32:45.704018Z"
    },
    "papermill": {
     "duration": null,
     "end_time": null,
     "exception": null,
     "start_time": null,
     "status": "pending"
    },
    "tags": []
   },
   "outputs": [],
   "source": [
    "filename='/kaggle/working/gradient_boosting.sav'\n",
    "gbc_load=pickle.load(open(filename, 'rb'))"
   ]
  },
  {
   "cell_type": "markdown",
   "id": "c1e8e50c",
   "metadata": {
    "papermill": {
     "duration": null,
     "end_time": null,
     "exception": null,
     "start_time": null,
     "status": "pending"
    },
    "tags": []
   },
   "source": [
    "# Note that results might vary due to the randomization involved"
   ]
  }
 ],
 "metadata": {
  "kernelspec": {
   "display_name": "Python 3 (ipykernel)",
   "language": "python",
   "name": "python3"
  },
  "language_info": {
   "codemirror_mode": {
    "name": "ipython",
    "version": 3
   },
   "file_extension": ".py",
   "mimetype": "text/x-python",
   "name": "python",
   "nbconvert_exporter": "python",
   "pygments_lexer": "ipython3",
   "version": "3.10.5"
  },
  "papermill": {
   "default_parameters": {},
   "duration": 2860.071605,
   "end_time": "2023-08-11T02:02:10.371316",
   "environment_variables": {},
   "exception": true,
   "input_path": "__notebook__.ipynb",
   "output_path": "__notebook__.ipynb",
   "parameters": {},
   "start_time": "2023-08-11T01:14:30.299711",
   "version": "2.4.0"
  },
  "widgets": {
   "application/vnd.jupyter.widget-state+json": {
    "state": {
     "0341cabc41ef42f3ab3827eb66835516": {
      "model_module": "@jupyter-widgets/base",
      "model_module_version": "1.2.0",
      "model_name": "LayoutModel",
      "state": {
       "_model_module": "@jupyter-widgets/base",
       "_model_module_version": "1.2.0",
       "_model_name": "LayoutModel",
       "_view_count": null,
       "_view_module": "@jupyter-widgets/base",
       "_view_module_version": "1.2.0",
       "_view_name": "LayoutView",
       "align_content": null,
       "align_items": null,
       "align_self": null,
       "border": null,
       "bottom": null,
       "display": null,
       "flex": null,
       "flex_flow": null,
       "grid_area": null,
       "grid_auto_columns": null,
       "grid_auto_flow": null,
       "grid_auto_rows": null,
       "grid_column": null,
       "grid_gap": null,
       "grid_row": null,
       "grid_template_areas": null,
       "grid_template_columns": null,
       "grid_template_rows": null,
       "height": null,
       "justify_content": null,
       "justify_items": null,
       "left": null,
       "margin": null,
       "max_height": null,
       "max_width": null,
       "min_height": null,
       "min_width": null,
       "object_fit": null,
       "object_position": null,
       "order": null,
       "overflow": null,
       "overflow_x": null,
       "overflow_y": null,
       "padding": null,
       "right": null,
       "top": null,
       "visibility": null,
       "width": null
      }
     },
     "0cfbd3b0b192431cba1784b130ace7da": {
      "model_module": "@jupyter-widgets/controls",
      "model_module_version": "1.5.0",
      "model_name": "ProgressStyleModel",
      "state": {
       "_model_module": "@jupyter-widgets/controls",
       "_model_module_version": "1.5.0",
       "_model_name": "ProgressStyleModel",
       "_view_count": null,
       "_view_module": "@jupyter-widgets/base",
       "_view_module_version": "1.2.0",
       "_view_name": "StyleView",
       "bar_color": null,
       "description_width": ""
      }
     },
     "0d7e8400d2834d368e5589cb80ef116c": {
      "model_module": "@jupyter-widgets/base",
      "model_module_version": "1.2.0",
      "model_name": "LayoutModel",
      "state": {
       "_model_module": "@jupyter-widgets/base",
       "_model_module_version": "1.2.0",
       "_model_name": "LayoutModel",
       "_view_count": null,
       "_view_module": "@jupyter-widgets/base",
       "_view_module_version": "1.2.0",
       "_view_name": "LayoutView",
       "align_content": null,
       "align_items": null,
       "align_self": null,
       "border": null,
       "bottom": null,
       "display": null,
       "flex": null,
       "flex_flow": null,
       "grid_area": null,
       "grid_auto_columns": null,
       "grid_auto_flow": null,
       "grid_auto_rows": null,
       "grid_column": null,
       "grid_gap": null,
       "grid_row": null,
       "grid_template_areas": null,
       "grid_template_columns": null,
       "grid_template_rows": null,
       "height": null,
       "justify_content": null,
       "justify_items": null,
       "left": null,
       "margin": null,
       "max_height": null,
       "max_width": null,
       "min_height": null,
       "min_width": null,
       "object_fit": null,
       "object_position": null,
       "order": null,
       "overflow": null,
       "overflow_x": null,
       "overflow_y": null,
       "padding": null,
       "right": null,
       "top": null,
       "visibility": null,
       "width": null
      }
     },
     "11afcb7be0234066bf4adc59502ebf0f": {
      "model_module": "@jupyter-widgets/controls",
      "model_module_version": "1.5.0",
      "model_name": "HBoxModel",
      "state": {
       "_dom_classes": [],
       "_model_module": "@jupyter-widgets/controls",
       "_model_module_version": "1.5.0",
       "_model_name": "HBoxModel",
       "_view_count": null,
       "_view_module": "@jupyter-widgets/controls",
       "_view_module_version": "1.5.0",
       "_view_name": "HBoxView",
       "box_style": "",
       "children": [
        "IPY_MODEL_3207ed32d64d46519f85ded1606db550",
        "IPY_MODEL_bf954de184c94e33bc935f25a8efa257",
        "IPY_MODEL_8865e35e6e7a462e9a5daaf0dbf837f4"
       ],
       "layout": "IPY_MODEL_90b5d2a83d99413da736f7bf0090e9cc"
      }
     },
     "13e63edbdd354797a737986de07776d7": {
      "model_module": "@jupyter-widgets/controls",
      "model_module_version": "1.5.0",
      "model_name": "HTMLModel",
      "state": {
       "_dom_classes": [],
       "_model_module": "@jupyter-widgets/controls",
       "_model_module_version": "1.5.0",
       "_model_name": "HTMLModel",
       "_view_count": null,
       "_view_module": "@jupyter-widgets/controls",
       "_view_module_version": "1.5.0",
       "_view_name": "HTMLView",
       "description": "",
       "description_tooltip": null,
       "layout": "IPY_MODEL_45b0ea2c06f34139ad7cab274b32828a",
       "placeholder": "​",
       "style": "IPY_MODEL_faabfdde0ab449918a3ddcbb8e37dc17",
       "value": " 483/483 [00:00&lt;00:00, 33.4kB/s]"
      }
     },
     "16b6e9b49abb40a4af8003d0013f06ff": {
      "model_module": "@jupyter-widgets/controls",
      "model_module_version": "1.5.0",
      "model_name": "FloatProgressModel",
      "state": {
       "_dom_classes": [],
       "_model_module": "@jupyter-widgets/controls",
       "_model_module_version": "1.5.0",
       "_model_name": "FloatProgressModel",
       "_view_count": null,
       "_view_module": "@jupyter-widgets/controls",
       "_view_module_version": "1.5.0",
       "_view_name": "ProgressView",
       "bar_style": "success",
       "description": "",
       "description_tooltip": null,
       "layout": "IPY_MODEL_2842899972fd44eebc28fa5a89b7ea83",
       "max": 4203,
       "min": 0,
       "orientation": "horizontal",
       "style": "IPY_MODEL_61f204cd78d84f3a8a80ba25a786048a",
       "value": 4203
      }
     },
     "1a803b4dbedd4316be42c98b8a6f80f5": {
      "model_module": "@jupyter-widgets/controls",
      "model_module_version": "1.5.0",
      "model_name": "ProgressStyleModel",
      "state": {
       "_model_module": "@jupyter-widgets/controls",
       "_model_module_version": "1.5.0",
       "_model_name": "ProgressStyleModel",
       "_view_count": null,
       "_view_module": "@jupyter-widgets/base",
       "_view_module_version": "1.2.0",
       "_view_name": "StyleView",
       "bar_color": null,
       "description_width": ""
      }
     },
     "1acdaa5cabc24bc2814e5e5dd3bcf5a8": {
      "model_module": "@jupyter-widgets/base",
      "model_module_version": "1.2.0",
      "model_name": "LayoutModel",
      "state": {
       "_model_module": "@jupyter-widgets/base",
       "_model_module_version": "1.2.0",
       "_model_name": "LayoutModel",
       "_view_count": null,
       "_view_module": "@jupyter-widgets/base",
       "_view_module_version": "1.2.0",
       "_view_name": "LayoutView",
       "align_content": null,
       "align_items": null,
       "align_self": null,
       "border": null,
       "bottom": null,
       "display": null,
       "flex": null,
       "flex_flow": null,
       "grid_area": null,
       "grid_auto_columns": null,
       "grid_auto_flow": null,
       "grid_auto_rows": null,
       "grid_column": null,
       "grid_gap": null,
       "grid_row": null,
       "grid_template_areas": null,
       "grid_template_columns": null,
       "grid_template_rows": null,
       "height": null,
       "justify_content": null,
       "justify_items": null,
       "left": null,
       "margin": null,
       "max_height": null,
       "max_width": null,
       "min_height": null,
       "min_width": null,
       "object_fit": null,
       "object_position": null,
       "order": null,
       "overflow": null,
       "overflow_x": null,
       "overflow_y": null,
       "padding": null,
       "right": null,
       "top": null,
       "visibility": null,
       "width": null
      }
     },
     "1baad825ca6a4ab0ba6cdd38c4292a40": {
      "model_module": "@jupyter-widgets/controls",
      "model_module_version": "1.5.0",
      "model_name": "HTMLModel",
      "state": {
       "_dom_classes": [],
       "_model_module": "@jupyter-widgets/controls",
       "_model_module_version": "1.5.0",
       "_model_name": "HTMLModel",
       "_view_count": null,
       "_view_module": "@jupyter-widgets/controls",
       "_view_module_version": "1.5.0",
       "_view_name": "HTMLView",
       "description": "",
       "description_tooltip": null,
       "layout": "IPY_MODEL_ff4d2d99faec4757b99dfaf5ddc88eee",
       "placeholder": "​",
       "style": "IPY_MODEL_4d7353515a2b4b3dab2c15db9551439b",
       "value": " 1/1 [00:00&lt;00:00,  5.13ba/s]"
      }
     },
     "1d13893d02e240f58eeabf0e44470f2c": {
      "model_module": "@jupyter-widgets/controls",
      "model_module_version": "1.5.0",
      "model_name": "FloatProgressModel",
      "state": {
       "_dom_classes": [],
       "_model_module": "@jupyter-widgets/controls",
       "_model_module_version": "1.5.0",
       "_model_name": "FloatProgressModel",
       "_view_count": null,
       "_view_module": "@jupyter-widgets/controls",
       "_view_module_version": "1.5.0",
       "_view_name": "ProgressView",
       "bar_style": "success",
       "description": "",
       "description_tooltip": null,
       "layout": "IPY_MODEL_964bc3677e2d436d9e0fb12ce4ea1eea",
       "max": 267954768,
       "min": 0,
       "orientation": "horizontal",
       "style": "IPY_MODEL_fca949c8d87949fdb9f548e3e3169357",
       "value": 267954768
      }
     },
     "20ba71b44aec40868449d29ac97df807": {
      "model_module": "@jupyter-widgets/controls",
      "model_module_version": "1.5.0",
      "model_name": "FloatProgressModel",
      "state": {
       "_dom_classes": [],
       "_model_module": "@jupyter-widgets/controls",
       "_model_module_version": "1.5.0",
       "_model_name": "FloatProgressModel",
       "_view_count": null,
       "_view_module": "@jupyter-widgets/controls",
       "_view_module_version": "1.5.0",
       "_view_name": "ProgressView",
       "bar_style": "success",
       "description": "",
       "description_tooltip": null,
       "layout": "IPY_MODEL_f22ca502282640c69bddf4639387cdef",
       "max": 28,
       "min": 0,
       "orientation": "horizontal",
       "style": "IPY_MODEL_707f7c99068142fba7641f05f190273b",
       "value": 28
      }
     },
     "2379ea4b432e4f8594df3f532045b568": {
      "model_module": "@jupyter-widgets/base",
      "model_module_version": "1.2.0",
      "model_name": "LayoutModel",
      "state": {
       "_model_module": "@jupyter-widgets/base",
       "_model_module_version": "1.2.0",
       "_model_name": "LayoutModel",
       "_view_count": null,
       "_view_module": "@jupyter-widgets/base",
       "_view_module_version": "1.2.0",
       "_view_name": "LayoutView",
       "align_content": null,
       "align_items": null,
       "align_self": null,
       "border": null,
       "bottom": null,
       "display": null,
       "flex": null,
       "flex_flow": null,
       "grid_area": null,
       "grid_auto_columns": null,
       "grid_auto_flow": null,
       "grid_auto_rows": null,
       "grid_column": null,
       "grid_gap": null,
       "grid_row": null,
       "grid_template_areas": null,
       "grid_template_columns": null,
       "grid_template_rows": null,
       "height": null,
       "justify_content": null,
       "justify_items": null,
       "left": null,
       "margin": null,
       "max_height": null,
       "max_width": null,
       "min_height": null,
       "min_width": null,
       "object_fit": null,
       "object_position": null,
       "order": null,
       "overflow": null,
       "overflow_x": null,
       "overflow_y": null,
       "padding": null,
       "right": null,
       "top": null,
       "visibility": null,
       "width": null
      }
     },
     "23e7fded27024be3b5862e445651f746": {
      "model_module": "@jupyter-widgets/controls",
      "model_module_version": "1.5.0",
      "model_name": "HBoxModel",
      "state": {
       "_dom_classes": [],
       "_model_module": "@jupyter-widgets/controls",
       "_model_module_version": "1.5.0",
       "_model_name": "HBoxModel",
       "_view_count": null,
       "_view_module": "@jupyter-widgets/controls",
       "_view_module_version": "1.5.0",
       "_view_name": "HBoxView",
       "box_style": "",
       "children": [
        "IPY_MODEL_975935703c534d4eaaa321c4996ff157",
        "IPY_MODEL_bf42fb703ce44e60a227833179e0f9dc",
        "IPY_MODEL_4d8ae6c74e534f83bb26413af08b8030"
       ],
       "layout": "IPY_MODEL_b10f7d51bf0847ddae6077946fc2c0f1"
      }
     },
     "2687b23f9c8a4641bbeb989a4face05b": {
      "model_module": "@jupyter-widgets/controls",
      "model_module_version": "1.5.0",
      "model_name": "HTMLModel",
      "state": {
       "_dom_classes": [],
       "_model_module": "@jupyter-widgets/controls",
       "_model_module_version": "1.5.0",
       "_model_name": "HTMLModel",
       "_view_count": null,
       "_view_module": "@jupyter-widgets/controls",
       "_view_module_version": "1.5.0",
       "_view_name": "HTMLView",
       "description": "",
       "description_tooltip": null,
       "layout": "IPY_MODEL_66064ff9e75c4fb990edd445df4b1ad8",
       "placeholder": "​",
       "style": "IPY_MODEL_6d3a915516d14b569b6718d33f697ec5",
       "value": "Downloading (…)okenizer_config.json: 100%"
      }
     },
     "277c222b4ca845c0b1eae66abeca13a0": {
      "model_module": "@jupyter-widgets/controls",
      "model_module_version": "1.5.0",
      "model_name": "DescriptionStyleModel",
      "state": {
       "_model_module": "@jupyter-widgets/controls",
       "_model_module_version": "1.5.0",
       "_model_name": "DescriptionStyleModel",
       "_view_count": null,
       "_view_module": "@jupyter-widgets/base",
       "_view_module_version": "1.2.0",
       "_view_name": "StyleView",
       "description_width": ""
      }
     },
     "2842899972fd44eebc28fa5a89b7ea83": {
      "model_module": "@jupyter-widgets/base",
      "model_module_version": "1.2.0",
      "model_name": "LayoutModel",
      "state": {
       "_model_module": "@jupyter-widgets/base",
       "_model_module_version": "1.2.0",
       "_model_name": "LayoutModel",
       "_view_count": null,
       "_view_module": "@jupyter-widgets/base",
       "_view_module_version": "1.2.0",
       "_view_name": "LayoutView",
       "align_content": null,
       "align_items": null,
       "align_self": null,
       "border": null,
       "bottom": null,
       "display": null,
       "flex": null,
       "flex_flow": null,
       "grid_area": null,
       "grid_auto_columns": null,
       "grid_auto_flow": null,
       "grid_auto_rows": null,
       "grid_column": null,
       "grid_gap": null,
       "grid_row": null,
       "grid_template_areas": null,
       "grid_template_columns": null,
       "grid_template_rows": null,
       "height": null,
       "justify_content": null,
       "justify_items": null,
       "left": null,
       "margin": null,
       "max_height": null,
       "max_width": null,
       "min_height": null,
       "min_width": null,
       "object_fit": null,
       "object_position": null,
       "order": null,
       "overflow": null,
       "overflow_x": null,
       "overflow_y": null,
       "padding": null,
       "right": null,
       "top": null,
       "visibility": null,
       "width": null
      }
     },
     "314fb5c2729d49a5bf8299999ed98aa1": {
      "model_module": "@jupyter-widgets/controls",
      "model_module_version": "1.5.0",
      "model_name": "DescriptionStyleModel",
      "state": {
       "_model_module": "@jupyter-widgets/controls",
       "_model_module_version": "1.5.0",
       "_model_name": "DescriptionStyleModel",
       "_view_count": null,
       "_view_module": "@jupyter-widgets/base",
       "_view_module_version": "1.2.0",
       "_view_name": "StyleView",
       "description_width": ""
      }
     },
     "3207ed32d64d46519f85ded1606db550": {
      "model_module": "@jupyter-widgets/controls",
      "model_module_version": "1.5.0",
      "model_name": "HTMLModel",
      "state": {
       "_dom_classes": [],
       "_model_module": "@jupyter-widgets/controls",
       "_model_module_version": "1.5.0",
       "_model_name": "HTMLModel",
       "_view_count": null,
       "_view_module": "@jupyter-widgets/controls",
       "_view_module_version": "1.5.0",
       "_view_name": "HTMLView",
       "description": "",
       "description_tooltip": null,
       "layout": "IPY_MODEL_7c8e3852c96a407facf2adecd4adbb3e",
       "placeholder": "​",
       "style": "IPY_MODEL_33c09809669245c19806dd59a51ebe7a",
       "value": "Downloading (…)/main/tokenizer.json: 100%"
      }
     },
     "33c09809669245c19806dd59a51ebe7a": {
      "model_module": "@jupyter-widgets/controls",
      "model_module_version": "1.5.0",
      "model_name": "DescriptionStyleModel",
      "state": {
       "_model_module": "@jupyter-widgets/controls",
       "_model_module_version": "1.5.0",
       "_model_name": "DescriptionStyleModel",
       "_view_count": null,
       "_view_module": "@jupyter-widgets/base",
       "_view_module_version": "1.2.0",
       "_view_name": "StyleView",
       "description_width": ""
      }
     },
     "3cb4aa8aa4b94c498287f61b272b9132": {
      "model_module": "@jupyter-widgets/base",
      "model_module_version": "1.2.0",
      "model_name": "LayoutModel",
      "state": {
       "_model_module": "@jupyter-widgets/base",
       "_model_module_version": "1.2.0",
       "_model_name": "LayoutModel",
       "_view_count": null,
       "_view_module": "@jupyter-widgets/base",
       "_view_module_version": "1.2.0",
       "_view_name": "LayoutView",
       "align_content": null,
       "align_items": null,
       "align_self": null,
       "border": null,
       "bottom": null,
       "display": null,
       "flex": null,
       "flex_flow": null,
       "grid_area": null,
       "grid_auto_columns": null,
       "grid_auto_flow": null,
       "grid_auto_rows": null,
       "grid_column": null,
       "grid_gap": null,
       "grid_row": null,
       "grid_template_areas": null,
       "grid_template_columns": null,
       "grid_template_rows": null,
       "height": null,
       "justify_content": null,
       "justify_items": null,
       "left": null,
       "margin": null,
       "max_height": null,
       "max_width": null,
       "min_height": null,
       "min_width": null,
       "object_fit": null,
       "object_position": null,
       "order": null,
       "overflow": null,
       "overflow_x": null,
       "overflow_y": null,
       "padding": null,
       "right": null,
       "top": null,
       "visibility": null,
       "width": null
      }
     },
     "438aa0f9b2aa4be88b6141211e8fdb66": {
      "model_module": "@jupyter-widgets/controls",
      "model_module_version": "1.5.0",
      "model_name": "DescriptionStyleModel",
      "state": {
       "_model_module": "@jupyter-widgets/controls",
       "_model_module_version": "1.5.0",
       "_model_name": "DescriptionStyleModel",
       "_view_count": null,
       "_view_module": "@jupyter-widgets/base",
       "_view_module_version": "1.2.0",
       "_view_name": "StyleView",
       "description_width": ""
      }
     },
     "44e73eed96b34d5cbb21a72d576bfc3c": {
      "model_module": "@jupyter-widgets/base",
      "model_module_version": "1.2.0",
      "model_name": "LayoutModel",
      "state": {
       "_model_module": "@jupyter-widgets/base",
       "_model_module_version": "1.2.0",
       "_model_name": "LayoutModel",
       "_view_count": null,
       "_view_module": "@jupyter-widgets/base",
       "_view_module_version": "1.2.0",
       "_view_name": "LayoutView",
       "align_content": null,
       "align_items": null,
       "align_self": null,
       "border": null,
       "bottom": null,
       "display": null,
       "flex": null,
       "flex_flow": null,
       "grid_area": null,
       "grid_auto_columns": null,
       "grid_auto_flow": null,
       "grid_auto_rows": null,
       "grid_column": null,
       "grid_gap": null,
       "grid_row": null,
       "grid_template_areas": null,
       "grid_template_columns": null,
       "grid_template_rows": null,
       "height": null,
       "justify_content": null,
       "justify_items": null,
       "left": null,
       "margin": null,
       "max_height": null,
       "max_width": null,
       "min_height": null,
       "min_width": null,
       "object_fit": null,
       "object_position": null,
       "order": null,
       "overflow": null,
       "overflow_x": null,
       "overflow_y": null,
       "padding": null,
       "right": null,
       "top": null,
       "visibility": null,
       "width": null
      }
     },
     "45b0ea2c06f34139ad7cab274b32828a": {
      "model_module": "@jupyter-widgets/base",
      "model_module_version": "1.2.0",
      "model_name": "LayoutModel",
      "state": {
       "_model_module": "@jupyter-widgets/base",
       "_model_module_version": "1.2.0",
       "_model_name": "LayoutModel",
       "_view_count": null,
       "_view_module": "@jupyter-widgets/base",
       "_view_module_version": "1.2.0",
       "_view_name": "LayoutView",
       "align_content": null,
       "align_items": null,
       "align_self": null,
       "border": null,
       "bottom": null,
       "display": null,
       "flex": null,
       "flex_flow": null,
       "grid_area": null,
       "grid_auto_columns": null,
       "grid_auto_flow": null,
       "grid_auto_rows": null,
       "grid_column": null,
       "grid_gap": null,
       "grid_row": null,
       "grid_template_areas": null,
       "grid_template_columns": null,
       "grid_template_rows": null,
       "height": null,
       "justify_content": null,
       "justify_items": null,
       "left": null,
       "margin": null,
       "max_height": null,
       "max_width": null,
       "min_height": null,
       "min_width": null,
       "object_fit": null,
       "object_position": null,
       "order": null,
       "overflow": null,
       "overflow_x": null,
       "overflow_y": null,
       "padding": null,
       "right": null,
       "top": null,
       "visibility": null,
       "width": null
      }
     },
     "49bb3d6b81114060b0b98b03a03de01e": {
      "model_module": "@jupyter-widgets/controls",
      "model_module_version": "1.5.0",
      "model_name": "DescriptionStyleModel",
      "state": {
       "_model_module": "@jupyter-widgets/controls",
       "_model_module_version": "1.5.0",
       "_model_name": "DescriptionStyleModel",
       "_view_count": null,
       "_view_module": "@jupyter-widgets/base",
       "_view_module_version": "1.2.0",
       "_view_name": "StyleView",
       "description_width": ""
      }
     },
     "49be287c1e9a42b1a3dd899f0433e324": {
      "model_module": "@jupyter-widgets/base",
      "model_module_version": "1.2.0",
      "model_name": "LayoutModel",
      "state": {
       "_model_module": "@jupyter-widgets/base",
       "_model_module_version": "1.2.0",
       "_model_name": "LayoutModel",
       "_view_count": null,
       "_view_module": "@jupyter-widgets/base",
       "_view_module_version": "1.2.0",
       "_view_name": "LayoutView",
       "align_content": null,
       "align_items": null,
       "align_self": null,
       "border": null,
       "bottom": null,
       "display": null,
       "flex": null,
       "flex_flow": null,
       "grid_area": null,
       "grid_auto_columns": null,
       "grid_auto_flow": null,
       "grid_auto_rows": null,
       "grid_column": null,
       "grid_gap": null,
       "grid_row": null,
       "grid_template_areas": null,
       "grid_template_columns": null,
       "grid_template_rows": null,
       "height": null,
       "justify_content": null,
       "justify_items": null,
       "left": null,
       "margin": null,
       "max_height": null,
       "max_width": null,
       "min_height": null,
       "min_width": null,
       "object_fit": null,
       "object_position": null,
       "order": null,
       "overflow": null,
       "overflow_x": null,
       "overflow_y": null,
       "padding": null,
       "right": null,
       "top": null,
       "visibility": null,
       "width": null
      }
     },
     "4d7353515a2b4b3dab2c15db9551439b": {
      "model_module": "@jupyter-widgets/controls",
      "model_module_version": "1.5.0",
      "model_name": "DescriptionStyleModel",
      "state": {
       "_model_module": "@jupyter-widgets/controls",
       "_model_module_version": "1.5.0",
       "_model_name": "DescriptionStyleModel",
       "_view_count": null,
       "_view_module": "@jupyter-widgets/base",
       "_view_module_version": "1.2.0",
       "_view_name": "StyleView",
       "description_width": ""
      }
     },
     "4d8ae6c74e534f83bb26413af08b8030": {
      "model_module": "@jupyter-widgets/controls",
      "model_module_version": "1.5.0",
      "model_name": "HTMLModel",
      "state": {
       "_dom_classes": [],
       "_model_module": "@jupyter-widgets/controls",
       "_model_module_version": "1.5.0",
       "_model_name": "HTMLModel",
       "_view_count": null,
       "_view_module": "@jupyter-widgets/controls",
       "_view_module_version": "1.5.0",
       "_view_name": "HTMLView",
       "description": "",
       "description_tooltip": null,
       "layout": "IPY_MODEL_74187af4e58946ea8067daa2353bc62a",
       "placeholder": "​",
       "style": "IPY_MODEL_c035bc134c6f4a538fa429ea17e7e6fe",
       "value": " 232k/232k [00:00&lt;00:00, 4.86MB/s]"
      }
     },
     "4e6dcce594774cc698f3b0a0e6489699": {
      "model_module": "@jupyter-widgets/controls",
      "model_module_version": "1.5.0",
      "model_name": "HTMLModel",
      "state": {
       "_dom_classes": [],
       "_model_module": "@jupyter-widgets/controls",
       "_model_module_version": "1.5.0",
       "_model_name": "HTMLModel",
       "_view_count": null,
       "_view_module": "@jupyter-widgets/controls",
       "_view_module_version": "1.5.0",
       "_view_name": "HTMLView",
       "description": "",
       "description_tooltip": null,
       "layout": "IPY_MODEL_a0976ff9fdf94cfcadfcd9dd08100ccc",
       "placeholder": "​",
       "style": "IPY_MODEL_aee8129eca7a4369bc5f4a26b9583be2",
       "value": " 1/1 [00:00&lt;00:00,  1.39ba/s]"
      }
     },
     "4e8300f0b3ef4bdb9b189cafc160759f": {
      "model_module": "@jupyter-widgets/controls",
      "model_module_version": "1.5.0",
      "model_name": "HTMLModel",
      "state": {
       "_dom_classes": [],
       "_model_module": "@jupyter-widgets/controls",
       "_model_module_version": "1.5.0",
       "_model_name": "HTMLModel",
       "_view_count": null,
       "_view_module": "@jupyter-widgets/controls",
       "_view_module_version": "1.5.0",
       "_view_name": "HTMLView",
       "description": "",
       "description_tooltip": null,
       "layout": "IPY_MODEL_5771b3d3e6304b539a5766ff95fe80d9",
       "placeholder": "​",
       "style": "IPY_MODEL_f6db965a51ed4e86980bc84625c0ee36",
       "value": "Downloading (…)lve/main/config.json: 100%"
      }
     },
     "4e99f054a0dc43598c0d6a74d7508915": {
      "model_module": "@jupyter-widgets/base",
      "model_module_version": "1.2.0",
      "model_name": "LayoutModel",
      "state": {
       "_model_module": "@jupyter-widgets/base",
       "_model_module_version": "1.2.0",
       "_model_name": "LayoutModel",
       "_view_count": null,
       "_view_module": "@jupyter-widgets/base",
       "_view_module_version": "1.2.0",
       "_view_name": "LayoutView",
       "align_content": null,
       "align_items": null,
       "align_self": null,
       "border": null,
       "bottom": null,
       "display": null,
       "flex": null,
       "flex_flow": null,
       "grid_area": null,
       "grid_auto_columns": null,
       "grid_auto_flow": null,
       "grid_auto_rows": null,
       "grid_column": null,
       "grid_gap": null,
       "grid_row": null,
       "grid_template_areas": null,
       "grid_template_columns": null,
       "grid_template_rows": null,
       "height": null,
       "justify_content": null,
       "justify_items": null,
       "left": null,
       "margin": null,
       "max_height": null,
       "max_width": null,
       "min_height": null,
       "min_width": null,
       "object_fit": null,
       "object_position": null,
       "order": null,
       "overflow": null,
       "overflow_x": null,
       "overflow_y": null,
       "padding": null,
       "right": null,
       "top": null,
       "visibility": null,
       "width": null
      }
     },
     "510d2a488df74cceaade8b0190929c44": {
      "model_module": "@jupyter-widgets/controls",
      "model_module_version": "1.5.0",
      "model_name": "DescriptionStyleModel",
      "state": {
       "_model_module": "@jupyter-widgets/controls",
       "_model_module_version": "1.5.0",
       "_model_name": "DescriptionStyleModel",
       "_view_count": null,
       "_view_module": "@jupyter-widgets/base",
       "_view_module_version": "1.2.0",
       "_view_name": "StyleView",
       "description_width": ""
      }
     },
     "5771b3d3e6304b539a5766ff95fe80d9": {
      "model_module": "@jupyter-widgets/base",
      "model_module_version": "1.2.0",
      "model_name": "LayoutModel",
      "state": {
       "_model_module": "@jupyter-widgets/base",
       "_model_module_version": "1.2.0",
       "_model_name": "LayoutModel",
       "_view_count": null,
       "_view_module": "@jupyter-widgets/base",
       "_view_module_version": "1.2.0",
       "_view_name": "LayoutView",
       "align_content": null,
       "align_items": null,
       "align_self": null,
       "border": null,
       "bottom": null,
       "display": null,
       "flex": null,
       "flex_flow": null,
       "grid_area": null,
       "grid_auto_columns": null,
       "grid_auto_flow": null,
       "grid_auto_rows": null,
       "grid_column": null,
       "grid_gap": null,
       "grid_row": null,
       "grid_template_areas": null,
       "grid_template_columns": null,
       "grid_template_rows": null,
       "height": null,
       "justify_content": null,
       "justify_items": null,
       "left": null,
       "margin": null,
       "max_height": null,
       "max_width": null,
       "min_height": null,
       "min_width": null,
       "object_fit": null,
       "object_position": null,
       "order": null,
       "overflow": null,
       "overflow_x": null,
       "overflow_y": null,
       "padding": null,
       "right": null,
       "top": null,
       "visibility": null,
       "width": null
      }
     },
     "5a1a150fb4a24bd5bf6904aad044d7e3": {
      "model_module": "@jupyter-widgets/controls",
      "model_module_version": "1.5.0",
      "model_name": "ProgressStyleModel",
      "state": {
       "_model_module": "@jupyter-widgets/controls",
       "_model_module_version": "1.5.0",
       "_model_name": "ProgressStyleModel",
       "_view_count": null,
       "_view_module": "@jupyter-widgets/base",
       "_view_module_version": "1.2.0",
       "_view_name": "StyleView",
       "bar_color": null,
       "description_width": ""
      }
     },
     "5a5f7d42cfd44ca891f7528735d259dd": {
      "model_module": "@jupyter-widgets/controls",
      "model_module_version": "1.5.0",
      "model_name": "HBoxModel",
      "state": {
       "_dom_classes": [],
       "_model_module": "@jupyter-widgets/controls",
       "_model_module_version": "1.5.0",
       "_model_name": "HBoxModel",
       "_view_count": null,
       "_view_module": "@jupyter-widgets/controls",
       "_view_module_version": "1.5.0",
       "_view_name": "HBoxView",
       "box_style": "",
       "children": [
        "IPY_MODEL_a7fa5189c8a64c6e934085acfa991e77",
        "IPY_MODEL_988017e7f92346d598282583ca446109",
        "IPY_MODEL_8fc1dfffbf7b49d88643c26b3d626d41"
       ],
       "layout": "IPY_MODEL_81f8ff84c5f64c99a2fa9cdb6f4c7def"
      }
     },
     "5b55ed51010e4f3eb7c59e4ffb120155": {
      "model_module": "@jupyter-widgets/controls",
      "model_module_version": "1.5.0",
      "model_name": "ProgressStyleModel",
      "state": {
       "_model_module": "@jupyter-widgets/controls",
       "_model_module_version": "1.5.0",
       "_model_name": "ProgressStyleModel",
       "_view_count": null,
       "_view_module": "@jupyter-widgets/base",
       "_view_module_version": "1.2.0",
       "_view_name": "StyleView",
       "bar_color": null,
       "description_width": ""
      }
     },
     "5b9cf917e0114ffe9f8e14ba83d36ec1": {
      "model_module": "@jupyter-widgets/controls",
      "model_module_version": "1.5.0",
      "model_name": "HTMLModel",
      "state": {
       "_dom_classes": [],
       "_model_module": "@jupyter-widgets/controls",
       "_model_module_version": "1.5.0",
       "_model_name": "HTMLModel",
       "_view_count": null,
       "_view_module": "@jupyter-widgets/controls",
       "_view_module_version": "1.5.0",
       "_view_name": "HTMLView",
       "description": "",
       "description_tooltip": null,
       "layout": "IPY_MODEL_1acdaa5cabc24bc2814e5e5dd3bcf5a8",
       "placeholder": "​",
       "style": "IPY_MODEL_510d2a488df74cceaade8b0190929c44",
       "value": " 28.0/28.0 [00:00&lt;00:00, 1.75kB/s]"
      }
     },
     "5e61babe7f324096afe6993b3f350b2d": {
      "model_module": "@jupyter-widgets/base",
      "model_module_version": "1.2.0",
      "model_name": "LayoutModel",
      "state": {
       "_model_module": "@jupyter-widgets/base",
       "_model_module_version": "1.2.0",
       "_model_name": "LayoutModel",
       "_view_count": null,
       "_view_module": "@jupyter-widgets/base",
       "_view_module_version": "1.2.0",
       "_view_name": "LayoutView",
       "align_content": null,
       "align_items": null,
       "align_self": null,
       "border": null,
       "bottom": null,
       "display": null,
       "flex": null,
       "flex_flow": null,
       "grid_area": null,
       "grid_auto_columns": null,
       "grid_auto_flow": null,
       "grid_auto_rows": null,
       "grid_column": null,
       "grid_gap": null,
       "grid_row": null,
       "grid_template_areas": null,
       "grid_template_columns": null,
       "grid_template_rows": null,
       "height": null,
       "justify_content": null,
       "justify_items": null,
       "left": null,
       "margin": null,
       "max_height": null,
       "max_width": null,
       "min_height": null,
       "min_width": null,
       "object_fit": null,
       "object_position": null,
       "order": null,
       "overflow": null,
       "overflow_x": null,
       "overflow_y": null,
       "padding": null,
       "right": null,
       "top": null,
       "visibility": null,
       "width": null
      }
     },
     "61f204cd78d84f3a8a80ba25a786048a": {
      "model_module": "@jupyter-widgets/controls",
      "model_module_version": "1.5.0",
      "model_name": "ProgressStyleModel",
      "state": {
       "_model_module": "@jupyter-widgets/controls",
       "_model_module_version": "1.5.0",
       "_model_name": "ProgressStyleModel",
       "_view_count": null,
       "_view_module": "@jupyter-widgets/base",
       "_view_module_version": "1.2.0",
       "_view_name": "StyleView",
       "bar_color": null,
       "description_width": ""
      }
     },
     "66064ff9e75c4fb990edd445df4b1ad8": {
      "model_module": "@jupyter-widgets/base",
      "model_module_version": "1.2.0",
      "model_name": "LayoutModel",
      "state": {
       "_model_module": "@jupyter-widgets/base",
       "_model_module_version": "1.2.0",
       "_model_name": "LayoutModel",
       "_view_count": null,
       "_view_module": "@jupyter-widgets/base",
       "_view_module_version": "1.2.0",
       "_view_name": "LayoutView",
       "align_content": null,
       "align_items": null,
       "align_self": null,
       "border": null,
       "bottom": null,
       "display": null,
       "flex": null,
       "flex_flow": null,
       "grid_area": null,
       "grid_auto_columns": null,
       "grid_auto_flow": null,
       "grid_auto_rows": null,
       "grid_column": null,
       "grid_gap": null,
       "grid_row": null,
       "grid_template_areas": null,
       "grid_template_columns": null,
       "grid_template_rows": null,
       "height": null,
       "justify_content": null,
       "justify_items": null,
       "left": null,
       "margin": null,
       "max_height": null,
       "max_width": null,
       "min_height": null,
       "min_width": null,
       "object_fit": null,
       "object_position": null,
       "order": null,
       "overflow": null,
       "overflow_x": null,
       "overflow_y": null,
       "padding": null,
       "right": null,
       "top": null,
       "visibility": null,
       "width": null
      }
     },
     "673b3606135c4b3da4b38c74620bc517": {
      "model_module": "@jupyter-widgets/controls",
      "model_module_version": "1.5.0",
      "model_name": "DescriptionStyleModel",
      "state": {
       "_model_module": "@jupyter-widgets/controls",
       "_model_module_version": "1.5.0",
       "_model_name": "DescriptionStyleModel",
       "_view_count": null,
       "_view_module": "@jupyter-widgets/base",
       "_view_module_version": "1.2.0",
       "_view_name": "StyleView",
       "description_width": ""
      }
     },
     "67a70d6b355247b6a7334d9abbd5bdaf": {
      "model_module": "@jupyter-widgets/base",
      "model_module_version": "1.2.0",
      "model_name": "LayoutModel",
      "state": {
       "_model_module": "@jupyter-widgets/base",
       "_model_module_version": "1.2.0",
       "_model_name": "LayoutModel",
       "_view_count": null,
       "_view_module": "@jupyter-widgets/base",
       "_view_module_version": "1.2.0",
       "_view_name": "LayoutView",
       "align_content": null,
       "align_items": null,
       "align_self": null,
       "border": null,
       "bottom": null,
       "display": null,
       "flex": null,
       "flex_flow": null,
       "grid_area": null,
       "grid_auto_columns": null,
       "grid_auto_flow": null,
       "grid_auto_rows": null,
       "grid_column": null,
       "grid_gap": null,
       "grid_row": null,
       "grid_template_areas": null,
       "grid_template_columns": null,
       "grid_template_rows": null,
       "height": null,
       "justify_content": null,
       "justify_items": null,
       "left": null,
       "margin": null,
       "max_height": null,
       "max_width": null,
       "min_height": null,
       "min_width": null,
       "object_fit": null,
       "object_position": null,
       "order": null,
       "overflow": null,
       "overflow_x": null,
       "overflow_y": null,
       "padding": null,
       "right": null,
       "top": null,
       "visibility": null,
       "width": null
      }
     },
     "67cb00d4b3f94aacb01b5b621ecac6c0": {
      "model_module": "@jupyter-widgets/controls",
      "model_module_version": "1.5.0",
      "model_name": "FloatProgressModel",
      "state": {
       "_dom_classes": [],
       "_model_module": "@jupyter-widgets/controls",
       "_model_module_version": "1.5.0",
       "_model_name": "FloatProgressModel",
       "_view_count": null,
       "_view_module": "@jupyter-widgets/controls",
       "_view_module_version": "1.5.0",
       "_view_name": "ProgressView",
       "bar_style": "success",
       "description": "",
       "description_tooltip": null,
       "layout": "IPY_MODEL_cc57ce534f91472d8c588f03cc025880",
       "max": 3,
       "min": 0,
       "orientation": "horizontal",
       "style": "IPY_MODEL_5b55ed51010e4f3eb7c59e4ffb120155",
       "value": 3
      }
     },
     "68c0fa04b42246e78478ae452f7e31b0": {
      "model_module": "@jupyter-widgets/controls",
      "model_module_version": "1.5.0",
      "model_name": "HBoxModel",
      "state": {
       "_dom_classes": [],
       "_model_module": "@jupyter-widgets/controls",
       "_model_module_version": "1.5.0",
       "_model_name": "HBoxModel",
       "_view_count": null,
       "_view_module": "@jupyter-widgets/controls",
       "_view_module_version": "1.5.0",
       "_view_name": "HBoxView",
       "box_style": "",
       "children": [
        "IPY_MODEL_2687b23f9c8a4641bbeb989a4face05b",
        "IPY_MODEL_20ba71b44aec40868449d29ac97df807",
        "IPY_MODEL_5b9cf917e0114ffe9f8e14ba83d36ec1"
       ],
       "layout": "IPY_MODEL_ef675525d4464ed889552f4bdeb72800"
      }
     },
     "6a542e90e33344f18d1e13a7aa0fea62": {
      "model_module": "@jupyter-widgets/controls",
      "model_module_version": "1.5.0",
      "model_name": "HTMLModel",
      "state": {
       "_dom_classes": [],
       "_model_module": "@jupyter-widgets/controls",
       "_model_module_version": "1.5.0",
       "_model_name": "HTMLModel",
       "_view_count": null,
       "_view_module": "@jupyter-widgets/controls",
       "_view_module_version": "1.5.0",
       "_view_name": "HTMLView",
       "description": "",
       "description_tooltip": null,
       "layout": "IPY_MODEL_ac2af4cd7f564ac0899b66496214cd3d",
       "placeholder": "​",
       "style": "IPY_MODEL_49bb3d6b81114060b0b98b03a03de01e",
       "value": "100%"
      }
     },
     "6d3a915516d14b569b6718d33f697ec5": {
      "model_module": "@jupyter-widgets/controls",
      "model_module_version": "1.5.0",
      "model_name": "DescriptionStyleModel",
      "state": {
       "_model_module": "@jupyter-widgets/controls",
       "_model_module_version": "1.5.0",
       "_model_name": "DescriptionStyleModel",
       "_view_count": null,
       "_view_module": "@jupyter-widgets/base",
       "_view_module_version": "1.2.0",
       "_view_name": "StyleView",
       "description_width": ""
      }
     },
     "6e1d30c4dc8b40668903d1894f107e37": {
      "model_module": "@jupyter-widgets/base",
      "model_module_version": "1.2.0",
      "model_name": "LayoutModel",
      "state": {
       "_model_module": "@jupyter-widgets/base",
       "_model_module_version": "1.2.0",
       "_model_name": "LayoutModel",
       "_view_count": null,
       "_view_module": "@jupyter-widgets/base",
       "_view_module_version": "1.2.0",
       "_view_name": "LayoutView",
       "align_content": null,
       "align_items": null,
       "align_self": null,
       "border": null,
       "bottom": null,
       "display": null,
       "flex": null,
       "flex_flow": null,
       "grid_area": null,
       "grid_auto_columns": null,
       "grid_auto_flow": null,
       "grid_auto_rows": null,
       "grid_column": null,
       "grid_gap": null,
       "grid_row": null,
       "grid_template_areas": null,
       "grid_template_columns": null,
       "grid_template_rows": null,
       "height": null,
       "justify_content": null,
       "justify_items": null,
       "left": null,
       "margin": null,
       "max_height": null,
       "max_width": null,
       "min_height": null,
       "min_width": null,
       "object_fit": null,
       "object_position": null,
       "order": null,
       "overflow": null,
       "overflow_x": null,
       "overflow_y": null,
       "padding": null,
       "right": null,
       "top": null,
       "visibility": null,
       "width": null
      }
     },
     "707f7c99068142fba7641f05f190273b": {
      "model_module": "@jupyter-widgets/controls",
      "model_module_version": "1.5.0",
      "model_name": "ProgressStyleModel",
      "state": {
       "_model_module": "@jupyter-widgets/controls",
       "_model_module_version": "1.5.0",
       "_model_name": "ProgressStyleModel",
       "_view_count": null,
       "_view_module": "@jupyter-widgets/base",
       "_view_module_version": "1.2.0",
       "_view_name": "StyleView",
       "bar_color": null,
       "description_width": ""
      }
     },
     "71d13e8f88664eff880a0f98d8e23030": {
      "model_module": "@jupyter-widgets/controls",
      "model_module_version": "1.5.0",
      "model_name": "HTMLModel",
      "state": {
       "_dom_classes": [],
       "_model_module": "@jupyter-widgets/controls",
       "_model_module_version": "1.5.0",
       "_model_name": "HTMLModel",
       "_view_count": null,
       "_view_module": "@jupyter-widgets/controls",
       "_view_module_version": "1.5.0",
       "_view_name": "HTMLView",
       "description": "",
       "description_tooltip": null,
       "layout": "IPY_MODEL_44e73eed96b34d5cbb21a72d576bfc3c",
       "placeholder": "​",
       "style": "IPY_MODEL_314fb5c2729d49a5bf8299999ed98aa1",
       "value": " 268M/268M [00:01&lt;00:00, 218MB/s]"
      }
     },
     "722692de75c14473885c09bf535e55c1": {
      "model_module": "@jupyter-widgets/controls",
      "model_module_version": "1.5.0",
      "model_name": "HTMLModel",
      "state": {
       "_dom_classes": [],
       "_model_module": "@jupyter-widgets/controls",
       "_model_module_version": "1.5.0",
       "_model_name": "HTMLModel",
       "_view_count": null,
       "_view_module": "@jupyter-widgets/controls",
       "_view_module_version": "1.5.0",
       "_view_name": "HTMLView",
       "description": "",
       "description_tooltip": null,
       "layout": "IPY_MODEL_bc403f30e36f4ba7a762c8c84419990d",
       "placeholder": "​",
       "style": "IPY_MODEL_b1ff8815b974404dbbe87f5d839d396c",
       "value": "100%"
      }
     },
     "74187af4e58946ea8067daa2353bc62a": {
      "model_module": "@jupyter-widgets/base",
      "model_module_version": "1.2.0",
      "model_name": "LayoutModel",
      "state": {
       "_model_module": "@jupyter-widgets/base",
       "_model_module_version": "1.2.0",
       "_model_name": "LayoutModel",
       "_view_count": null,
       "_view_module": "@jupyter-widgets/base",
       "_view_module_version": "1.2.0",
       "_view_name": "LayoutView",
       "align_content": null,
       "align_items": null,
       "align_self": null,
       "border": null,
       "bottom": null,
       "display": null,
       "flex": null,
       "flex_flow": null,
       "grid_area": null,
       "grid_auto_columns": null,
       "grid_auto_flow": null,
       "grid_auto_rows": null,
       "grid_column": null,
       "grid_gap": null,
       "grid_row": null,
       "grid_template_areas": null,
       "grid_template_columns": null,
       "grid_template_rows": null,
       "height": null,
       "justify_content": null,
       "justify_items": null,
       "left": null,
       "margin": null,
       "max_height": null,
       "max_width": null,
       "min_height": null,
       "min_width": null,
       "object_fit": null,
       "object_position": null,
       "order": null,
       "overflow": null,
       "overflow_x": null,
       "overflow_y": null,
       "padding": null,
       "right": null,
       "top": null,
       "visibility": null,
       "width": null
      }
     },
     "757af9ea52ee4193a990c394b9372263": {
      "model_module": "@jupyter-widgets/controls",
      "model_module_version": "1.5.0",
      "model_name": "DescriptionStyleModel",
      "state": {
       "_model_module": "@jupyter-widgets/controls",
       "_model_module_version": "1.5.0",
       "_model_name": "DescriptionStyleModel",
       "_view_count": null,
       "_view_module": "@jupyter-widgets/base",
       "_view_module_version": "1.2.0",
       "_view_name": "StyleView",
       "description_width": ""
      }
     },
     "75901c7b7e844c4f8e4c5a250e662758": {
      "model_module": "@jupyter-widgets/base",
      "model_module_version": "1.2.0",
      "model_name": "LayoutModel",
      "state": {
       "_model_module": "@jupyter-widgets/base",
       "_model_module_version": "1.2.0",
       "_model_name": "LayoutModel",
       "_view_count": null,
       "_view_module": "@jupyter-widgets/base",
       "_view_module_version": "1.2.0",
       "_view_name": "LayoutView",
       "align_content": null,
       "align_items": null,
       "align_self": null,
       "border": null,
       "bottom": null,
       "display": null,
       "flex": null,
       "flex_flow": null,
       "grid_area": null,
       "grid_auto_columns": null,
       "grid_auto_flow": null,
       "grid_auto_rows": null,
       "grid_column": null,
       "grid_gap": null,
       "grid_row": null,
       "grid_template_areas": null,
       "grid_template_columns": null,
       "grid_template_rows": null,
       "height": null,
       "justify_content": null,
       "justify_items": null,
       "left": null,
       "margin": null,
       "max_height": null,
       "max_width": null,
       "min_height": null,
       "min_width": null,
       "object_fit": null,
       "object_position": null,
       "order": null,
       "overflow": null,
       "overflow_x": null,
       "overflow_y": null,
       "padding": null,
       "right": null,
       "top": null,
       "visibility": null,
       "width": null
      }
     },
     "78911c6f55464e7cb1033bc2c978bcb7": {
      "model_module": "@jupyter-widgets/base",
      "model_module_version": "1.2.0",
      "model_name": "LayoutModel",
      "state": {
       "_model_module": "@jupyter-widgets/base",
       "_model_module_version": "1.2.0",
       "_model_name": "LayoutModel",
       "_view_count": null,
       "_view_module": "@jupyter-widgets/base",
       "_view_module_version": "1.2.0",
       "_view_name": "LayoutView",
       "align_content": null,
       "align_items": null,
       "align_self": null,
       "border": null,
       "bottom": null,
       "display": null,
       "flex": null,
       "flex_flow": null,
       "grid_area": null,
       "grid_auto_columns": null,
       "grid_auto_flow": null,
       "grid_auto_rows": null,
       "grid_column": null,
       "grid_gap": null,
       "grid_row": null,
       "grid_template_areas": null,
       "grid_template_columns": null,
       "grid_template_rows": null,
       "height": null,
       "justify_content": null,
       "justify_items": null,
       "left": null,
       "margin": null,
       "max_height": null,
       "max_width": null,
       "min_height": null,
       "min_width": null,
       "object_fit": null,
       "object_position": null,
       "order": null,
       "overflow": null,
       "overflow_x": null,
       "overflow_y": null,
       "padding": null,
       "right": null,
       "top": null,
       "visibility": null,
       "width": null
      }
     },
     "7b99f84ed2b64ae0b8e6ac0830c43992": {
      "model_module": "@jupyter-widgets/base",
      "model_module_version": "1.2.0",
      "model_name": "LayoutModel",
      "state": {
       "_model_module": "@jupyter-widgets/base",
       "_model_module_version": "1.2.0",
       "_model_name": "LayoutModel",
       "_view_count": null,
       "_view_module": "@jupyter-widgets/base",
       "_view_module_version": "1.2.0",
       "_view_name": "LayoutView",
       "align_content": null,
       "align_items": null,
       "align_self": null,
       "border": null,
       "bottom": null,
       "display": null,
       "flex": null,
       "flex_flow": null,
       "grid_area": null,
       "grid_auto_columns": null,
       "grid_auto_flow": null,
       "grid_auto_rows": null,
       "grid_column": null,
       "grid_gap": null,
       "grid_row": null,
       "grid_template_areas": null,
       "grid_template_columns": null,
       "grid_template_rows": null,
       "height": null,
       "justify_content": null,
       "justify_items": null,
       "left": null,
       "margin": null,
       "max_height": null,
       "max_width": null,
       "min_height": null,
       "min_width": null,
       "object_fit": null,
       "object_position": null,
       "order": null,
       "overflow": null,
       "overflow_x": null,
       "overflow_y": null,
       "padding": null,
       "right": null,
       "top": null,
       "visibility": null,
       "width": null
      }
     },
     "7c8e3852c96a407facf2adecd4adbb3e": {
      "model_module": "@jupyter-widgets/base",
      "model_module_version": "1.2.0",
      "model_name": "LayoutModel",
      "state": {
       "_model_module": "@jupyter-widgets/base",
       "_model_module_version": "1.2.0",
       "_model_name": "LayoutModel",
       "_view_count": null,
       "_view_module": "@jupyter-widgets/base",
       "_view_module_version": "1.2.0",
       "_view_name": "LayoutView",
       "align_content": null,
       "align_items": null,
       "align_self": null,
       "border": null,
       "bottom": null,
       "display": null,
       "flex": null,
       "flex_flow": null,
       "grid_area": null,
       "grid_auto_columns": null,
       "grid_auto_flow": null,
       "grid_auto_rows": null,
       "grid_column": null,
       "grid_gap": null,
       "grid_row": null,
       "grid_template_areas": null,
       "grid_template_columns": null,
       "grid_template_rows": null,
       "height": null,
       "justify_content": null,
       "justify_items": null,
       "left": null,
       "margin": null,
       "max_height": null,
       "max_width": null,
       "min_height": null,
       "min_width": null,
       "object_fit": null,
       "object_position": null,
       "order": null,
       "overflow": null,
       "overflow_x": null,
       "overflow_y": null,
       "padding": null,
       "right": null,
       "top": null,
       "visibility": null,
       "width": null
      }
     },
     "7d7b6da6718b438088c2766dae2faa2d": {
      "model_module": "@jupyter-widgets/controls",
      "model_module_version": "1.5.0",
      "model_name": "HTMLModel",
      "state": {
       "_dom_classes": [],
       "_model_module": "@jupyter-widgets/controls",
       "_model_module_version": "1.5.0",
       "_model_name": "HTMLModel",
       "_view_count": null,
       "_view_module": "@jupyter-widgets/controls",
       "_view_module_version": "1.5.0",
       "_view_name": "HTMLView",
       "description": "",
       "description_tooltip": null,
       "layout": "IPY_MODEL_6e1d30c4dc8b40668903d1894f107e37",
       "placeholder": "​",
       "style": "IPY_MODEL_fc24a7a2d3a24561aef4514ac40e363d",
       "value": "Downloading builder script: 100%"
      }
     },
     "7e614e626fbe4ca0885d4d8e0ca0fb23": {
      "model_module": "@jupyter-widgets/base",
      "model_module_version": "1.2.0",
      "model_name": "LayoutModel",
      "state": {
       "_model_module": "@jupyter-widgets/base",
       "_model_module_version": "1.2.0",
       "_model_name": "LayoutModel",
       "_view_count": null,
       "_view_module": "@jupyter-widgets/base",
       "_view_module_version": "1.2.0",
       "_view_name": "LayoutView",
       "align_content": null,
       "align_items": null,
       "align_self": null,
       "border": null,
       "bottom": null,
       "display": null,
       "flex": null,
       "flex_flow": null,
       "grid_area": null,
       "grid_auto_columns": null,
       "grid_auto_flow": null,
       "grid_auto_rows": null,
       "grid_column": null,
       "grid_gap": null,
       "grid_row": null,
       "grid_template_areas": null,
       "grid_template_columns": null,
       "grid_template_rows": null,
       "height": null,
       "justify_content": null,
       "justify_items": null,
       "left": null,
       "margin": null,
       "max_height": null,
       "max_width": null,
       "min_height": null,
       "min_width": null,
       "object_fit": null,
       "object_position": null,
       "order": null,
       "overflow": null,
       "overflow_x": null,
       "overflow_y": null,
       "padding": null,
       "right": null,
       "top": null,
       "visibility": null,
       "width": null
      }
     },
     "7f4c7841469c44d6b65ee1a1242fcfe2": {
      "model_module": "@jupyter-widgets/base",
      "model_module_version": "1.2.0",
      "model_name": "LayoutModel",
      "state": {
       "_model_module": "@jupyter-widgets/base",
       "_model_module_version": "1.2.0",
       "_model_name": "LayoutModel",
       "_view_count": null,
       "_view_module": "@jupyter-widgets/base",
       "_view_module_version": "1.2.0",
       "_view_name": "LayoutView",
       "align_content": null,
       "align_items": null,
       "align_self": null,
       "border": null,
       "bottom": null,
       "display": null,
       "flex": null,
       "flex_flow": null,
       "grid_area": null,
       "grid_auto_columns": null,
       "grid_auto_flow": null,
       "grid_auto_rows": null,
       "grid_column": null,
       "grid_gap": null,
       "grid_row": null,
       "grid_template_areas": null,
       "grid_template_columns": null,
       "grid_template_rows": null,
       "height": null,
       "justify_content": null,
       "justify_items": null,
       "left": null,
       "margin": null,
       "max_height": null,
       "max_width": null,
       "min_height": null,
       "min_width": null,
       "object_fit": null,
       "object_position": null,
       "order": null,
       "overflow": null,
       "overflow_x": null,
       "overflow_y": null,
       "padding": null,
       "right": null,
       "top": null,
       "visibility": null,
       "width": null
      }
     },
     "803822042e3b493e8b88ffa3f67cdb5e": {
      "model_module": "@jupyter-widgets/controls",
      "model_module_version": "1.5.0",
      "model_name": "ProgressStyleModel",
      "state": {
       "_model_module": "@jupyter-widgets/controls",
       "_model_module_version": "1.5.0",
       "_model_name": "ProgressStyleModel",
       "_view_count": null,
       "_view_module": "@jupyter-widgets/base",
       "_view_module_version": "1.2.0",
       "_view_name": "StyleView",
       "bar_color": null,
       "description_width": ""
      }
     },
     "81f8ff84c5f64c99a2fa9cdb6f4c7def": {
      "model_module": "@jupyter-widgets/base",
      "model_module_version": "1.2.0",
      "model_name": "LayoutModel",
      "state": {
       "_model_module": "@jupyter-widgets/base",
       "_model_module_version": "1.2.0",
       "_model_name": "LayoutModel",
       "_view_count": null,
       "_view_module": "@jupyter-widgets/base",
       "_view_module_version": "1.2.0",
       "_view_name": "LayoutView",
       "align_content": null,
       "align_items": null,
       "align_self": null,
       "border": null,
       "bottom": null,
       "display": null,
       "flex": null,
       "flex_flow": null,
       "grid_area": null,
       "grid_auto_columns": null,
       "grid_auto_flow": null,
       "grid_auto_rows": null,
       "grid_column": null,
       "grid_gap": null,
       "grid_row": null,
       "grid_template_areas": null,
       "grid_template_columns": null,
       "grid_template_rows": null,
       "height": null,
       "justify_content": null,
       "justify_items": null,
       "left": null,
       "margin": null,
       "max_height": null,
       "max_width": null,
       "min_height": null,
       "min_width": null,
       "object_fit": null,
       "object_position": null,
       "order": null,
       "overflow": null,
       "overflow_x": null,
       "overflow_y": null,
       "padding": null,
       "right": null,
       "top": null,
       "visibility": null,
       "width": null
      }
     },
     "82024feaba4b47c8809b4f143f4cd787": {
      "model_module": "@jupyter-widgets/controls",
      "model_module_version": "1.5.0",
      "model_name": "HBoxModel",
      "state": {
       "_dom_classes": [],
       "_model_module": "@jupyter-widgets/controls",
       "_model_module_version": "1.5.0",
       "_model_name": "HBoxModel",
       "_view_count": null,
       "_view_module": "@jupyter-widgets/controls",
       "_view_module_version": "1.5.0",
       "_view_name": "HBoxView",
       "box_style": "",
       "children": [
        "IPY_MODEL_6a542e90e33344f18d1e13a7aa0fea62",
        "IPY_MODEL_a0da926b9b36455c8269bcc535588498",
        "IPY_MODEL_4e6dcce594774cc698f3b0a0e6489699"
       ],
       "layout": "IPY_MODEL_67a70d6b355247b6a7334d9abbd5bdaf"
      }
     },
     "8865e35e6e7a462e9a5daaf0dbf837f4": {
      "model_module": "@jupyter-widgets/controls",
      "model_module_version": "1.5.0",
      "model_name": "HTMLModel",
      "state": {
       "_dom_classes": [],
       "_model_module": "@jupyter-widgets/controls",
       "_model_module_version": "1.5.0",
       "_model_name": "HTMLModel",
       "_view_count": null,
       "_view_module": "@jupyter-widgets/controls",
       "_view_module_version": "1.5.0",
       "_view_name": "HTMLView",
       "description": "",
       "description_tooltip": null,
       "layout": "IPY_MODEL_a038c9b2ce7e426189e1294a2682a54e",
       "placeholder": "​",
       "style": "IPY_MODEL_277c222b4ca845c0b1eae66abeca13a0",
       "value": " 466k/466k [00:00&lt;00:00, 18.3MB/s]"
      }
     },
     "8fc1dfffbf7b49d88643c26b3d626d41": {
      "model_module": "@jupyter-widgets/controls",
      "model_module_version": "1.5.0",
      "model_name": "HTMLModel",
      "state": {
       "_dom_classes": [],
       "_model_module": "@jupyter-widgets/controls",
       "_model_module_version": "1.5.0",
       "_model_name": "HTMLModel",
       "_view_count": null,
       "_view_module": "@jupyter-widgets/controls",
       "_view_module_version": "1.5.0",
       "_view_name": "HTMLView",
       "description": "",
       "description_tooltip": null,
       "layout": "IPY_MODEL_4e99f054a0dc43598c0d6a74d7508915",
       "placeholder": "​",
       "style": "IPY_MODEL_438aa0f9b2aa4be88b6141211e8fdb66",
       "value": " 3/3 [00:08&lt;00:00,  2.37s/ba]"
      }
     },
     "90b5d2a83d99413da736f7bf0090e9cc": {
      "model_module": "@jupyter-widgets/base",
      "model_module_version": "1.2.0",
      "model_name": "LayoutModel",
      "state": {
       "_model_module": "@jupyter-widgets/base",
       "_model_module_version": "1.2.0",
       "_model_name": "LayoutModel",
       "_view_count": null,
       "_view_module": "@jupyter-widgets/base",
       "_view_module_version": "1.2.0",
       "_view_name": "LayoutView",
       "align_content": null,
       "align_items": null,
       "align_self": null,
       "border": null,
       "bottom": null,
       "display": null,
       "flex": null,
       "flex_flow": null,
       "grid_area": null,
       "grid_auto_columns": null,
       "grid_auto_flow": null,
       "grid_auto_rows": null,
       "grid_column": null,
       "grid_gap": null,
       "grid_row": null,
       "grid_template_areas": null,
       "grid_template_columns": null,
       "grid_template_rows": null,
       "height": null,
       "justify_content": null,
       "justify_items": null,
       "left": null,
       "margin": null,
       "max_height": null,
       "max_width": null,
       "min_height": null,
       "min_width": null,
       "object_fit": null,
       "object_position": null,
       "order": null,
       "overflow": null,
       "overflow_x": null,
       "overflow_y": null,
       "padding": null,
       "right": null,
       "top": null,
       "visibility": null,
       "width": null
      }
     },
     "93cb5f49a65f4f55bdf6f0e20b79e192": {
      "model_module": "@jupyter-widgets/base",
      "model_module_version": "1.2.0",
      "model_name": "LayoutModel",
      "state": {
       "_model_module": "@jupyter-widgets/base",
       "_model_module_version": "1.2.0",
       "_model_name": "LayoutModel",
       "_view_count": null,
       "_view_module": "@jupyter-widgets/base",
       "_view_module_version": "1.2.0",
       "_view_name": "LayoutView",
       "align_content": null,
       "align_items": null,
       "align_self": null,
       "border": null,
       "bottom": null,
       "display": null,
       "flex": null,
       "flex_flow": null,
       "grid_area": null,
       "grid_auto_columns": null,
       "grid_auto_flow": null,
       "grid_auto_rows": null,
       "grid_column": null,
       "grid_gap": null,
       "grid_row": null,
       "grid_template_areas": null,
       "grid_template_columns": null,
       "grid_template_rows": null,
       "height": null,
       "justify_content": null,
       "justify_items": null,
       "left": null,
       "margin": null,
       "max_height": null,
       "max_width": null,
       "min_height": null,
       "min_width": null,
       "object_fit": null,
       "object_position": null,
       "order": null,
       "overflow": null,
       "overflow_x": null,
       "overflow_y": null,
       "padding": null,
       "right": null,
       "top": null,
       "visibility": null,
       "width": null
      }
     },
     "94685d4af0b945269548cbad5d128f23": {
      "model_module": "@jupyter-widgets/base",
      "model_module_version": "1.2.0",
      "model_name": "LayoutModel",
      "state": {
       "_model_module": "@jupyter-widgets/base",
       "_model_module_version": "1.2.0",
       "_model_name": "LayoutModel",
       "_view_count": null,
       "_view_module": "@jupyter-widgets/base",
       "_view_module_version": "1.2.0",
       "_view_name": "LayoutView",
       "align_content": null,
       "align_items": null,
       "align_self": null,
       "border": null,
       "bottom": null,
       "display": null,
       "flex": null,
       "flex_flow": null,
       "grid_area": null,
       "grid_auto_columns": null,
       "grid_auto_flow": null,
       "grid_auto_rows": null,
       "grid_column": null,
       "grid_gap": null,
       "grid_row": null,
       "grid_template_areas": null,
       "grid_template_columns": null,
       "grid_template_rows": null,
       "height": null,
       "justify_content": null,
       "justify_items": null,
       "left": null,
       "margin": null,
       "max_height": null,
       "max_width": null,
       "min_height": null,
       "min_width": null,
       "object_fit": null,
       "object_position": null,
       "order": null,
       "overflow": null,
       "overflow_x": null,
       "overflow_y": null,
       "padding": null,
       "right": null,
       "top": null,
       "visibility": null,
       "width": null
      }
     },
     "95593017cc9d4455b9dbc8dbc6b610fb": {
      "model_module": "@jupyter-widgets/controls",
      "model_module_version": "1.5.0",
      "model_name": "HTMLModel",
      "state": {
       "_dom_classes": [],
       "_model_module": "@jupyter-widgets/controls",
       "_model_module_version": "1.5.0",
       "_model_name": "HTMLModel",
       "_view_count": null,
       "_view_module": "@jupyter-widgets/controls",
       "_view_module_version": "1.5.0",
       "_view_name": "HTMLView",
       "description": "",
       "description_tooltip": null,
       "layout": "IPY_MODEL_5e61babe7f324096afe6993b3f350b2d",
       "placeholder": "​",
       "style": "IPY_MODEL_757af9ea52ee4193a990c394b9372263",
       "value": " 3/3 [00:02&lt;00:00,  1.61ba/s]"
      }
     },
     "964bc3677e2d436d9e0fb12ce4ea1eea": {
      "model_module": "@jupyter-widgets/base",
      "model_module_version": "1.2.0",
      "model_name": "LayoutModel",
      "state": {
       "_model_module": "@jupyter-widgets/base",
       "_model_module_version": "1.2.0",
       "_model_name": "LayoutModel",
       "_view_count": null,
       "_view_module": "@jupyter-widgets/base",
       "_view_module_version": "1.2.0",
       "_view_name": "LayoutView",
       "align_content": null,
       "align_items": null,
       "align_self": null,
       "border": null,
       "bottom": null,
       "display": null,
       "flex": null,
       "flex_flow": null,
       "grid_area": null,
       "grid_auto_columns": null,
       "grid_auto_flow": null,
       "grid_auto_rows": null,
       "grid_column": null,
       "grid_gap": null,
       "grid_row": null,
       "grid_template_areas": null,
       "grid_template_columns": null,
       "grid_template_rows": null,
       "height": null,
       "justify_content": null,
       "justify_items": null,
       "left": null,
       "margin": null,
       "max_height": null,
       "max_width": null,
       "min_height": null,
       "min_width": null,
       "object_fit": null,
       "object_position": null,
       "order": null,
       "overflow": null,
       "overflow_x": null,
       "overflow_y": null,
       "padding": null,
       "right": null,
       "top": null,
       "visibility": null,
       "width": null
      }
     },
     "975935703c534d4eaaa321c4996ff157": {
      "model_module": "@jupyter-widgets/controls",
      "model_module_version": "1.5.0",
      "model_name": "HTMLModel",
      "state": {
       "_dom_classes": [],
       "_model_module": "@jupyter-widgets/controls",
       "_model_module_version": "1.5.0",
       "_model_name": "HTMLModel",
       "_view_count": null,
       "_view_module": "@jupyter-widgets/controls",
       "_view_module_version": "1.5.0",
       "_view_name": "HTMLView",
       "description": "",
       "description_tooltip": null,
       "layout": "IPY_MODEL_be09424e52544095bca02a93e216dff6",
       "placeholder": "​",
       "style": "IPY_MODEL_673b3606135c4b3da4b38c74620bc517",
       "value": "Downloading (…)solve/main/vocab.txt: 100%"
      }
     },
     "988017e7f92346d598282583ca446109": {
      "model_module": "@jupyter-widgets/controls",
      "model_module_version": "1.5.0",
      "model_name": "FloatProgressModel",
      "state": {
       "_dom_classes": [],
       "_model_module": "@jupyter-widgets/controls",
       "_model_module_version": "1.5.0",
       "_model_name": "FloatProgressModel",
       "_view_count": null,
       "_view_module": "@jupyter-widgets/controls",
       "_view_module_version": "1.5.0",
       "_view_name": "ProgressView",
       "bar_style": "success",
       "description": "",
       "description_tooltip": null,
       "layout": "IPY_MODEL_7e614e626fbe4ca0885d4d8e0ca0fb23",
       "max": 3,
       "min": 0,
       "orientation": "horizontal",
       "style": "IPY_MODEL_b94f4f37007c450bb9e3504adf519b31",
       "value": 3
      }
     },
     "9f192eaad3d2419ba99cab579035f8e0": {
      "model_module": "@jupyter-widgets/base",
      "model_module_version": "1.2.0",
      "model_name": "LayoutModel",
      "state": {
       "_model_module": "@jupyter-widgets/base",
       "_model_module_version": "1.2.0",
       "_model_name": "LayoutModel",
       "_view_count": null,
       "_view_module": "@jupyter-widgets/base",
       "_view_module_version": "1.2.0",
       "_view_name": "LayoutView",
       "align_content": null,
       "align_items": null,
       "align_self": null,
       "border": null,
       "bottom": null,
       "display": null,
       "flex": null,
       "flex_flow": null,
       "grid_area": null,
       "grid_auto_columns": null,
       "grid_auto_flow": null,
       "grid_auto_rows": null,
       "grid_column": null,
       "grid_gap": null,
       "grid_row": null,
       "grid_template_areas": null,
       "grid_template_columns": null,
       "grid_template_rows": null,
       "height": null,
       "justify_content": null,
       "justify_items": null,
       "left": null,
       "margin": null,
       "max_height": null,
       "max_width": null,
       "min_height": null,
       "min_width": null,
       "object_fit": null,
       "object_position": null,
       "order": null,
       "overflow": null,
       "overflow_x": null,
       "overflow_y": null,
       "padding": null,
       "right": null,
       "top": null,
       "visibility": null,
       "width": null
      }
     },
     "a038c9b2ce7e426189e1294a2682a54e": {
      "model_module": "@jupyter-widgets/base",
      "model_module_version": "1.2.0",
      "model_name": "LayoutModel",
      "state": {
       "_model_module": "@jupyter-widgets/base",
       "_model_module_version": "1.2.0",
       "_model_name": "LayoutModel",
       "_view_count": null,
       "_view_module": "@jupyter-widgets/base",
       "_view_module_version": "1.2.0",
       "_view_name": "LayoutView",
       "align_content": null,
       "align_items": null,
       "align_self": null,
       "border": null,
       "bottom": null,
       "display": null,
       "flex": null,
       "flex_flow": null,
       "grid_area": null,
       "grid_auto_columns": null,
       "grid_auto_flow": null,
       "grid_auto_rows": null,
       "grid_column": null,
       "grid_gap": null,
       "grid_row": null,
       "grid_template_areas": null,
       "grid_template_columns": null,
       "grid_template_rows": null,
       "height": null,
       "justify_content": null,
       "justify_items": null,
       "left": null,
       "margin": null,
       "max_height": null,
       "max_width": null,
       "min_height": null,
       "min_width": null,
       "object_fit": null,
       "object_position": null,
       "order": null,
       "overflow": null,
       "overflow_x": null,
       "overflow_y": null,
       "padding": null,
       "right": null,
       "top": null,
       "visibility": null,
       "width": null
      }
     },
     "a0976ff9fdf94cfcadfcd9dd08100ccc": {
      "model_module": "@jupyter-widgets/base",
      "model_module_version": "1.2.0",
      "model_name": "LayoutModel",
      "state": {
       "_model_module": "@jupyter-widgets/base",
       "_model_module_version": "1.2.0",
       "_model_name": "LayoutModel",
       "_view_count": null,
       "_view_module": "@jupyter-widgets/base",
       "_view_module_version": "1.2.0",
       "_view_name": "LayoutView",
       "align_content": null,
       "align_items": null,
       "align_self": null,
       "border": null,
       "bottom": null,
       "display": null,
       "flex": null,
       "flex_flow": null,
       "grid_area": null,
       "grid_auto_columns": null,
       "grid_auto_flow": null,
       "grid_auto_rows": null,
       "grid_column": null,
       "grid_gap": null,
       "grid_row": null,
       "grid_template_areas": null,
       "grid_template_columns": null,
       "grid_template_rows": null,
       "height": null,
       "justify_content": null,
       "justify_items": null,
       "left": null,
       "margin": null,
       "max_height": null,
       "max_width": null,
       "min_height": null,
       "min_width": null,
       "object_fit": null,
       "object_position": null,
       "order": null,
       "overflow": null,
       "overflow_x": null,
       "overflow_y": null,
       "padding": null,
       "right": null,
       "top": null,
       "visibility": null,
       "width": null
      }
     },
     "a0da926b9b36455c8269bcc535588498": {
      "model_module": "@jupyter-widgets/controls",
      "model_module_version": "1.5.0",
      "model_name": "FloatProgressModel",
      "state": {
       "_dom_classes": [],
       "_model_module": "@jupyter-widgets/controls",
       "_model_module_version": "1.5.0",
       "_model_name": "FloatProgressModel",
       "_view_count": null,
       "_view_module": "@jupyter-widgets/controls",
       "_view_module_version": "1.5.0",
       "_view_name": "ProgressView",
       "bar_style": "success",
       "description": "",
       "description_tooltip": null,
       "layout": "IPY_MODEL_78911c6f55464e7cb1033bc2c978bcb7",
       "max": 1,
       "min": 0,
       "orientation": "horizontal",
       "style": "IPY_MODEL_ce9efe453bdc4c1db25fff092df40ba3",
       "value": 1
      }
     },
     "a7fa5189c8a64c6e934085acfa991e77": {
      "model_module": "@jupyter-widgets/controls",
      "model_module_version": "1.5.0",
      "model_name": "HTMLModel",
      "state": {
       "_dom_classes": [],
       "_model_module": "@jupyter-widgets/controls",
       "_model_module_version": "1.5.0",
       "_model_name": "HTMLModel",
       "_view_count": null,
       "_view_module": "@jupyter-widgets/controls",
       "_view_module_version": "1.5.0",
       "_view_name": "HTMLView",
       "description": "",
       "description_tooltip": null,
       "layout": "IPY_MODEL_93cb5f49a65f4f55bdf6f0e20b79e192",
       "placeholder": "​",
       "style": "IPY_MODEL_eeefe5e3ba7d49e3b8ff091d95b43c80",
       "value": "100%"
      }
     },
     "ac2af4cd7f564ac0899b66496214cd3d": {
      "model_module": "@jupyter-widgets/base",
      "model_module_version": "1.2.0",
      "model_name": "LayoutModel",
      "state": {
       "_model_module": "@jupyter-widgets/base",
       "_model_module_version": "1.2.0",
       "_model_name": "LayoutModel",
       "_view_count": null,
       "_view_module": "@jupyter-widgets/base",
       "_view_module_version": "1.2.0",
       "_view_name": "LayoutView",
       "align_content": null,
       "align_items": null,
       "align_self": null,
       "border": null,
       "bottom": null,
       "display": null,
       "flex": null,
       "flex_flow": null,
       "grid_area": null,
       "grid_auto_columns": null,
       "grid_auto_flow": null,
       "grid_auto_rows": null,
       "grid_column": null,
       "grid_gap": null,
       "grid_row": null,
       "grid_template_areas": null,
       "grid_template_columns": null,
       "grid_template_rows": null,
       "height": null,
       "justify_content": null,
       "justify_items": null,
       "left": null,
       "margin": null,
       "max_height": null,
       "max_width": null,
       "min_height": null,
       "min_width": null,
       "object_fit": null,
       "object_position": null,
       "order": null,
       "overflow": null,
       "overflow_x": null,
       "overflow_y": null,
       "padding": null,
       "right": null,
       "top": null,
       "visibility": null,
       "width": null
      }
     },
     "aee8129eca7a4369bc5f4a26b9583be2": {
      "model_module": "@jupyter-widgets/controls",
      "model_module_version": "1.5.0",
      "model_name": "DescriptionStyleModel",
      "state": {
       "_model_module": "@jupyter-widgets/controls",
       "_model_module_version": "1.5.0",
       "_model_name": "DescriptionStyleModel",
       "_view_count": null,
       "_view_module": "@jupyter-widgets/base",
       "_view_module_version": "1.2.0",
       "_view_name": "StyleView",
       "description_width": ""
      }
     },
     "b10f7d51bf0847ddae6077946fc2c0f1": {
      "model_module": "@jupyter-widgets/base",
      "model_module_version": "1.2.0",
      "model_name": "LayoutModel",
      "state": {
       "_model_module": "@jupyter-widgets/base",
       "_model_module_version": "1.2.0",
       "_model_name": "LayoutModel",
       "_view_count": null,
       "_view_module": "@jupyter-widgets/base",
       "_view_module_version": "1.2.0",
       "_view_name": "LayoutView",
       "align_content": null,
       "align_items": null,
       "align_self": null,
       "border": null,
       "bottom": null,
       "display": null,
       "flex": null,
       "flex_flow": null,
       "grid_area": null,
       "grid_auto_columns": null,
       "grid_auto_flow": null,
       "grid_auto_rows": null,
       "grid_column": null,
       "grid_gap": null,
       "grid_row": null,
       "grid_template_areas": null,
       "grid_template_columns": null,
       "grid_template_rows": null,
       "height": null,
       "justify_content": null,
       "justify_items": null,
       "left": null,
       "margin": null,
       "max_height": null,
       "max_width": null,
       "min_height": null,
       "min_width": null,
       "object_fit": null,
       "object_position": null,
       "order": null,
       "overflow": null,
       "overflow_x": null,
       "overflow_y": null,
       "padding": null,
       "right": null,
       "top": null,
       "visibility": null,
       "width": null
      }
     },
     "b1ff8815b974404dbbe87f5d839d396c": {
      "model_module": "@jupyter-widgets/controls",
      "model_module_version": "1.5.0",
      "model_name": "DescriptionStyleModel",
      "state": {
       "_model_module": "@jupyter-widgets/controls",
       "_model_module_version": "1.5.0",
       "_model_name": "DescriptionStyleModel",
       "_view_count": null,
       "_view_module": "@jupyter-widgets/base",
       "_view_module_version": "1.2.0",
       "_view_name": "StyleView",
       "description_width": ""
      }
     },
     "b50fd0ec2517474ca9fb28a710e84192": {
      "model_module": "@jupyter-widgets/controls",
      "model_module_version": "1.5.0",
      "model_name": "DescriptionStyleModel",
      "state": {
       "_model_module": "@jupyter-widgets/controls",
       "_model_module_version": "1.5.0",
       "_model_name": "DescriptionStyleModel",
       "_view_count": null,
       "_view_module": "@jupyter-widgets/base",
       "_view_module_version": "1.2.0",
       "_view_name": "StyleView",
       "description_width": ""
      }
     },
     "b94f4f37007c450bb9e3504adf519b31": {
      "model_module": "@jupyter-widgets/controls",
      "model_module_version": "1.5.0",
      "model_name": "ProgressStyleModel",
      "state": {
       "_model_module": "@jupyter-widgets/controls",
       "_model_module_version": "1.5.0",
       "_model_name": "ProgressStyleModel",
       "_view_count": null,
       "_view_module": "@jupyter-widgets/base",
       "_view_module_version": "1.2.0",
       "_view_name": "StyleView",
       "bar_color": null,
       "description_width": ""
      }
     },
     "bc403f30e36f4ba7a762c8c84419990d": {
      "model_module": "@jupyter-widgets/base",
      "model_module_version": "1.2.0",
      "model_name": "LayoutModel",
      "state": {
       "_model_module": "@jupyter-widgets/base",
       "_model_module_version": "1.2.0",
       "_model_name": "LayoutModel",
       "_view_count": null,
       "_view_module": "@jupyter-widgets/base",
       "_view_module_version": "1.2.0",
       "_view_name": "LayoutView",
       "align_content": null,
       "align_items": null,
       "align_self": null,
       "border": null,
       "bottom": null,
       "display": null,
       "flex": null,
       "flex_flow": null,
       "grid_area": null,
       "grid_auto_columns": null,
       "grid_auto_flow": null,
       "grid_auto_rows": null,
       "grid_column": null,
       "grid_gap": null,
       "grid_row": null,
       "grid_template_areas": null,
       "grid_template_columns": null,
       "grid_template_rows": null,
       "height": null,
       "justify_content": null,
       "justify_items": null,
       "left": null,
       "margin": null,
       "max_height": null,
       "max_width": null,
       "min_height": null,
       "min_width": null,
       "object_fit": null,
       "object_position": null,
       "order": null,
       "overflow": null,
       "overflow_x": null,
       "overflow_y": null,
       "padding": null,
       "right": null,
       "top": null,
       "visibility": null,
       "width": null
      }
     },
     "be09424e52544095bca02a93e216dff6": {
      "model_module": "@jupyter-widgets/base",
      "model_module_version": "1.2.0",
      "model_name": "LayoutModel",
      "state": {
       "_model_module": "@jupyter-widgets/base",
       "_model_module_version": "1.2.0",
       "_model_name": "LayoutModel",
       "_view_count": null,
       "_view_module": "@jupyter-widgets/base",
       "_view_module_version": "1.2.0",
       "_view_name": "LayoutView",
       "align_content": null,
       "align_items": null,
       "align_self": null,
       "border": null,
       "bottom": null,
       "display": null,
       "flex": null,
       "flex_flow": null,
       "grid_area": null,
       "grid_auto_columns": null,
       "grid_auto_flow": null,
       "grid_auto_rows": null,
       "grid_column": null,
       "grid_gap": null,
       "grid_row": null,
       "grid_template_areas": null,
       "grid_template_columns": null,
       "grid_template_rows": null,
       "height": null,
       "justify_content": null,
       "justify_items": null,
       "left": null,
       "margin": null,
       "max_height": null,
       "max_width": null,
       "min_height": null,
       "min_width": null,
       "object_fit": null,
       "object_position": null,
       "order": null,
       "overflow": null,
       "overflow_x": null,
       "overflow_y": null,
       "padding": null,
       "right": null,
       "top": null,
       "visibility": null,
       "width": null
      }
     },
     "bf42fb703ce44e60a227833179e0f9dc": {
      "model_module": "@jupyter-widgets/controls",
      "model_module_version": "1.5.0",
      "model_name": "FloatProgressModel",
      "state": {
       "_dom_classes": [],
       "_model_module": "@jupyter-widgets/controls",
       "_model_module_version": "1.5.0",
       "_model_name": "FloatProgressModel",
       "_view_count": null,
       "_view_module": "@jupyter-widgets/controls",
       "_view_module_version": "1.5.0",
       "_view_name": "ProgressView",
       "bar_style": "success",
       "description": "",
       "description_tooltip": null,
       "layout": "IPY_MODEL_7b99f84ed2b64ae0b8e6ac0830c43992",
       "max": 231508,
       "min": 0,
       "orientation": "horizontal",
       "style": "IPY_MODEL_1a803b4dbedd4316be42c98b8a6f80f5",
       "value": 231508
      }
     },
     "bf954de184c94e33bc935f25a8efa257": {
      "model_module": "@jupyter-widgets/controls",
      "model_module_version": "1.5.0",
      "model_name": "FloatProgressModel",
      "state": {
       "_dom_classes": [],
       "_model_module": "@jupyter-widgets/controls",
       "_model_module_version": "1.5.0",
       "_model_name": "FloatProgressModel",
       "_view_count": null,
       "_view_module": "@jupyter-widgets/controls",
       "_view_module_version": "1.5.0",
       "_view_name": "ProgressView",
       "bar_style": "success",
       "description": "",
       "description_tooltip": null,
       "layout": "IPY_MODEL_0341cabc41ef42f3ab3827eb66835516",
       "max": 466062,
       "min": 0,
       "orientation": "horizontal",
       "style": "IPY_MODEL_0cfbd3b0b192431cba1784b130ace7da",
       "value": 466062
      }
     },
     "c035bc134c6f4a538fa429ea17e7e6fe": {
      "model_module": "@jupyter-widgets/controls",
      "model_module_version": "1.5.0",
      "model_name": "DescriptionStyleModel",
      "state": {
       "_model_module": "@jupyter-widgets/controls",
       "_model_module_version": "1.5.0",
       "_model_name": "DescriptionStyleModel",
       "_view_count": null,
       "_view_module": "@jupyter-widgets/base",
       "_view_module_version": "1.2.0",
       "_view_name": "StyleView",
       "description_width": ""
      }
     },
     "c7fd6099cd8f4f3f8b0a0b6f413eaf40": {
      "model_module": "@jupyter-widgets/controls",
      "model_module_version": "1.5.0",
      "model_name": "DescriptionStyleModel",
      "state": {
       "_model_module": "@jupyter-widgets/controls",
       "_model_module_version": "1.5.0",
       "_model_name": "DescriptionStyleModel",
       "_view_count": null,
       "_view_module": "@jupyter-widgets/base",
       "_view_module_version": "1.2.0",
       "_view_name": "StyleView",
       "description_width": ""
      }
     },
     "c8144c82ea36428cbc8fe216dd59143e": {
      "model_module": "@jupyter-widgets/controls",
      "model_module_version": "1.5.0",
      "model_name": "HTMLModel",
      "state": {
       "_dom_classes": [],
       "_model_module": "@jupyter-widgets/controls",
       "_model_module_version": "1.5.0",
       "_model_name": "HTMLModel",
       "_view_count": null,
       "_view_module": "@jupyter-widgets/controls",
       "_view_module_version": "1.5.0",
       "_view_name": "HTMLView",
       "description": "",
       "description_tooltip": null,
       "layout": "IPY_MODEL_9f192eaad3d2419ba99cab579035f8e0",
       "placeholder": "​",
       "style": "IPY_MODEL_d834585b1c4948fc9516764da8f288e3",
       "value": " 4.20k/4.20k [00:00&lt;00:00, 235kB/s]"
      }
     },
     "c88387dac5b94447afbc1ce0b33bcbd3": {
      "model_module": "@jupyter-widgets/controls",
      "model_module_version": "1.5.0",
      "model_name": "HBoxModel",
      "state": {
       "_dom_classes": [],
       "_model_module": "@jupyter-widgets/controls",
       "_model_module_version": "1.5.0",
       "_model_name": "HBoxModel",
       "_view_count": null,
       "_view_module": "@jupyter-widgets/controls",
       "_view_module_version": "1.5.0",
       "_view_name": "HBoxView",
       "box_style": "",
       "children": [
        "IPY_MODEL_722692de75c14473885c09bf535e55c1",
        "IPY_MODEL_d90116f946ec488c930471f78272c2e0",
        "IPY_MODEL_1baad825ca6a4ab0ba6cdd38c4292a40"
       ],
       "layout": "IPY_MODEL_f80790fd11154a5fbb9a624b45b1b126"
      }
     },
     "cc57ce534f91472d8c588f03cc025880": {
      "model_module": "@jupyter-widgets/base",
      "model_module_version": "1.2.0",
      "model_name": "LayoutModel",
      "state": {
       "_model_module": "@jupyter-widgets/base",
       "_model_module_version": "1.2.0",
       "_model_name": "LayoutModel",
       "_view_count": null,
       "_view_module": "@jupyter-widgets/base",
       "_view_module_version": "1.2.0",
       "_view_name": "LayoutView",
       "align_content": null,
       "align_items": null,
       "align_self": null,
       "border": null,
       "bottom": null,
       "display": null,
       "flex": null,
       "flex_flow": null,
       "grid_area": null,
       "grid_auto_columns": null,
       "grid_auto_flow": null,
       "grid_auto_rows": null,
       "grid_column": null,
       "grid_gap": null,
       "grid_row": null,
       "grid_template_areas": null,
       "grid_template_columns": null,
       "grid_template_rows": null,
       "height": null,
       "justify_content": null,
       "justify_items": null,
       "left": null,
       "margin": null,
       "max_height": null,
       "max_width": null,
       "min_height": null,
       "min_width": null,
       "object_fit": null,
       "object_position": null,
       "order": null,
       "overflow": null,
       "overflow_x": null,
       "overflow_y": null,
       "padding": null,
       "right": null,
       "top": null,
       "visibility": null,
       "width": null
      }
     },
     "ce9efe453bdc4c1db25fff092df40ba3": {
      "model_module": "@jupyter-widgets/controls",
      "model_module_version": "1.5.0",
      "model_name": "ProgressStyleModel",
      "state": {
       "_model_module": "@jupyter-widgets/controls",
       "_model_module_version": "1.5.0",
       "_model_name": "ProgressStyleModel",
       "_view_count": null,
       "_view_module": "@jupyter-widgets/base",
       "_view_module_version": "1.2.0",
       "_view_name": "StyleView",
       "bar_color": null,
       "description_width": ""
      }
     },
     "d224eee1b2734810889acdf0e3489f59": {
      "model_module": "@jupyter-widgets/controls",
      "model_module_version": "1.5.0",
      "model_name": "HBoxModel",
      "state": {
       "_dom_classes": [],
       "_model_module": "@jupyter-widgets/controls",
       "_model_module_version": "1.5.0",
       "_model_name": "HBoxModel",
       "_view_count": null,
       "_view_module": "@jupyter-widgets/controls",
       "_view_module_version": "1.5.0",
       "_view_name": "HBoxView",
       "box_style": "",
       "children": [
        "IPY_MODEL_4e8300f0b3ef4bdb9b189cafc160759f",
        "IPY_MODEL_ffe10acab6014c95ad95c6e72a3dc92f",
        "IPY_MODEL_13e63edbdd354797a737986de07776d7"
       ],
       "layout": "IPY_MODEL_49be287c1e9a42b1a3dd899f0433e324"
      }
     },
     "d41b12c93c534d9f92253947d32f13ab": {
      "model_module": "@jupyter-widgets/controls",
      "model_module_version": "1.5.0",
      "model_name": "HBoxModel",
      "state": {
       "_dom_classes": [],
       "_model_module": "@jupyter-widgets/controls",
       "_model_module_version": "1.5.0",
       "_model_name": "HBoxModel",
       "_view_count": null,
       "_view_module": "@jupyter-widgets/controls",
       "_view_module_version": "1.5.0",
       "_view_name": "HBoxView",
       "box_style": "",
       "children": [
        "IPY_MODEL_fdf52b014ecc425792d743cea6053677",
        "IPY_MODEL_1d13893d02e240f58eeabf0e44470f2c",
        "IPY_MODEL_71d13e8f88664eff880a0f98d8e23030"
       ],
       "layout": "IPY_MODEL_7f4c7841469c44d6b65ee1a1242fcfe2"
      }
     },
     "d834585b1c4948fc9516764da8f288e3": {
      "model_module": "@jupyter-widgets/controls",
      "model_module_version": "1.5.0",
      "model_name": "DescriptionStyleModel",
      "state": {
       "_model_module": "@jupyter-widgets/controls",
       "_model_module_version": "1.5.0",
       "_model_name": "DescriptionStyleModel",
       "_view_count": null,
       "_view_module": "@jupyter-widgets/base",
       "_view_module_version": "1.2.0",
       "_view_name": "StyleView",
       "description_width": ""
      }
     },
     "d86220b945a04b26b253de11d283e088": {
      "model_module": "@jupyter-widgets/controls",
      "model_module_version": "1.5.0",
      "model_name": "HBoxModel",
      "state": {
       "_dom_classes": [],
       "_model_module": "@jupyter-widgets/controls",
       "_model_module_version": "1.5.0",
       "_model_name": "HBoxModel",
       "_view_count": null,
       "_view_module": "@jupyter-widgets/controls",
       "_view_module_version": "1.5.0",
       "_view_name": "HBoxView",
       "box_style": "",
       "children": [
        "IPY_MODEL_7d7b6da6718b438088c2766dae2faa2d",
        "IPY_MODEL_16b6e9b49abb40a4af8003d0013f06ff",
        "IPY_MODEL_c8144c82ea36428cbc8fe216dd59143e"
       ],
       "layout": "IPY_MODEL_75901c7b7e844c4f8e4c5a250e662758"
      }
     },
     "d90116f946ec488c930471f78272c2e0": {
      "model_module": "@jupyter-widgets/controls",
      "model_module_version": "1.5.0",
      "model_name": "FloatProgressModel",
      "state": {
       "_dom_classes": [],
       "_model_module": "@jupyter-widgets/controls",
       "_model_module_version": "1.5.0",
       "_model_name": "FloatProgressModel",
       "_view_count": null,
       "_view_module": "@jupyter-widgets/controls",
       "_view_module_version": "1.5.0",
       "_view_name": "ProgressView",
       "bar_style": "success",
       "description": "",
       "description_tooltip": null,
       "layout": "IPY_MODEL_94685d4af0b945269548cbad5d128f23",
       "max": 1,
       "min": 0,
       "orientation": "horizontal",
       "style": "IPY_MODEL_5a1a150fb4a24bd5bf6904aad044d7e3",
       "value": 1
      }
     },
     "d98cc093f8644f04a7039e8299db6872": {
      "model_module": "@jupyter-widgets/base",
      "model_module_version": "1.2.0",
      "model_name": "LayoutModel",
      "state": {
       "_model_module": "@jupyter-widgets/base",
       "_model_module_version": "1.2.0",
       "_model_name": "LayoutModel",
       "_view_count": null,
       "_view_module": "@jupyter-widgets/base",
       "_view_module_version": "1.2.0",
       "_view_name": "LayoutView",
       "align_content": null,
       "align_items": null,
       "align_self": null,
       "border": null,
       "bottom": null,
       "display": null,
       "flex": null,
       "flex_flow": null,
       "grid_area": null,
       "grid_auto_columns": null,
       "grid_auto_flow": null,
       "grid_auto_rows": null,
       "grid_column": null,
       "grid_gap": null,
       "grid_row": null,
       "grid_template_areas": null,
       "grid_template_columns": null,
       "grid_template_rows": null,
       "height": null,
       "justify_content": null,
       "justify_items": null,
       "left": null,
       "margin": null,
       "max_height": null,
       "max_width": null,
       "min_height": null,
       "min_width": null,
       "object_fit": null,
       "object_position": null,
       "order": null,
       "overflow": null,
       "overflow_x": null,
       "overflow_y": null,
       "padding": null,
       "right": null,
       "top": null,
       "visibility": null,
       "width": null
      }
     },
     "e49f181341344cc98e9d463c505233f5": {
      "model_module": "@jupyter-widgets/controls",
      "model_module_version": "1.5.0",
      "model_name": "HBoxModel",
      "state": {
       "_dom_classes": [],
       "_model_module": "@jupyter-widgets/controls",
       "_model_module_version": "1.5.0",
       "_model_name": "HBoxModel",
       "_view_count": null,
       "_view_module": "@jupyter-widgets/controls",
       "_view_module_version": "1.5.0",
       "_view_name": "HBoxView",
       "box_style": "",
       "children": [
        "IPY_MODEL_e60bc7acbbc2489da2d6e920f99cfefe",
        "IPY_MODEL_67cb00d4b3f94aacb01b5b621ecac6c0",
        "IPY_MODEL_95593017cc9d4455b9dbc8dbc6b610fb"
       ],
       "layout": "IPY_MODEL_3cb4aa8aa4b94c498287f61b272b9132"
      }
     },
     "e60bc7acbbc2489da2d6e920f99cfefe": {
      "model_module": "@jupyter-widgets/controls",
      "model_module_version": "1.5.0",
      "model_name": "HTMLModel",
      "state": {
       "_dom_classes": [],
       "_model_module": "@jupyter-widgets/controls",
       "_model_module_version": "1.5.0",
       "_model_name": "HTMLModel",
       "_view_count": null,
       "_view_module": "@jupyter-widgets/controls",
       "_view_module_version": "1.5.0",
       "_view_name": "HTMLView",
       "description": "",
       "description_tooltip": null,
       "layout": "IPY_MODEL_d98cc093f8644f04a7039e8299db6872",
       "placeholder": "​",
       "style": "IPY_MODEL_c7fd6099cd8f4f3f8b0a0b6f413eaf40",
       "value": "100%"
      }
     },
     "eeefe5e3ba7d49e3b8ff091d95b43c80": {
      "model_module": "@jupyter-widgets/controls",
      "model_module_version": "1.5.0",
      "model_name": "DescriptionStyleModel",
      "state": {
       "_model_module": "@jupyter-widgets/controls",
       "_model_module_version": "1.5.0",
       "_model_name": "DescriptionStyleModel",
       "_view_count": null,
       "_view_module": "@jupyter-widgets/base",
       "_view_module_version": "1.2.0",
       "_view_name": "StyleView",
       "description_width": ""
      }
     },
     "ef675525d4464ed889552f4bdeb72800": {
      "model_module": "@jupyter-widgets/base",
      "model_module_version": "1.2.0",
      "model_name": "LayoutModel",
      "state": {
       "_model_module": "@jupyter-widgets/base",
       "_model_module_version": "1.2.0",
       "_model_name": "LayoutModel",
       "_view_count": null,
       "_view_module": "@jupyter-widgets/base",
       "_view_module_version": "1.2.0",
       "_view_name": "LayoutView",
       "align_content": null,
       "align_items": null,
       "align_self": null,
       "border": null,
       "bottom": null,
       "display": null,
       "flex": null,
       "flex_flow": null,
       "grid_area": null,
       "grid_auto_columns": null,
       "grid_auto_flow": null,
       "grid_auto_rows": null,
       "grid_column": null,
       "grid_gap": null,
       "grid_row": null,
       "grid_template_areas": null,
       "grid_template_columns": null,
       "grid_template_rows": null,
       "height": null,
       "justify_content": null,
       "justify_items": null,
       "left": null,
       "margin": null,
       "max_height": null,
       "max_width": null,
       "min_height": null,
       "min_width": null,
       "object_fit": null,
       "object_position": null,
       "order": null,
       "overflow": null,
       "overflow_x": null,
       "overflow_y": null,
       "padding": null,
       "right": null,
       "top": null,
       "visibility": null,
       "width": null
      }
     },
     "f22ca502282640c69bddf4639387cdef": {
      "model_module": "@jupyter-widgets/base",
      "model_module_version": "1.2.0",
      "model_name": "LayoutModel",
      "state": {
       "_model_module": "@jupyter-widgets/base",
       "_model_module_version": "1.2.0",
       "_model_name": "LayoutModel",
       "_view_count": null,
       "_view_module": "@jupyter-widgets/base",
       "_view_module_version": "1.2.0",
       "_view_name": "LayoutView",
       "align_content": null,
       "align_items": null,
       "align_self": null,
       "border": null,
       "bottom": null,
       "display": null,
       "flex": null,
       "flex_flow": null,
       "grid_area": null,
       "grid_auto_columns": null,
       "grid_auto_flow": null,
       "grid_auto_rows": null,
       "grid_column": null,
       "grid_gap": null,
       "grid_row": null,
       "grid_template_areas": null,
       "grid_template_columns": null,
       "grid_template_rows": null,
       "height": null,
       "justify_content": null,
       "justify_items": null,
       "left": null,
       "margin": null,
       "max_height": null,
       "max_width": null,
       "min_height": null,
       "min_width": null,
       "object_fit": null,
       "object_position": null,
       "order": null,
       "overflow": null,
       "overflow_x": null,
       "overflow_y": null,
       "padding": null,
       "right": null,
       "top": null,
       "visibility": null,
       "width": null
      }
     },
     "f6db965a51ed4e86980bc84625c0ee36": {
      "model_module": "@jupyter-widgets/controls",
      "model_module_version": "1.5.0",
      "model_name": "DescriptionStyleModel",
      "state": {
       "_model_module": "@jupyter-widgets/controls",
       "_model_module_version": "1.5.0",
       "_model_name": "DescriptionStyleModel",
       "_view_count": null,
       "_view_module": "@jupyter-widgets/base",
       "_view_module_version": "1.2.0",
       "_view_name": "StyleView",
       "description_width": ""
      }
     },
     "f80790fd11154a5fbb9a624b45b1b126": {
      "model_module": "@jupyter-widgets/base",
      "model_module_version": "1.2.0",
      "model_name": "LayoutModel",
      "state": {
       "_model_module": "@jupyter-widgets/base",
       "_model_module_version": "1.2.0",
       "_model_name": "LayoutModel",
       "_view_count": null,
       "_view_module": "@jupyter-widgets/base",
       "_view_module_version": "1.2.0",
       "_view_name": "LayoutView",
       "align_content": null,
       "align_items": null,
       "align_self": null,
       "border": null,
       "bottom": null,
       "display": null,
       "flex": null,
       "flex_flow": null,
       "grid_area": null,
       "grid_auto_columns": null,
       "grid_auto_flow": null,
       "grid_auto_rows": null,
       "grid_column": null,
       "grid_gap": null,
       "grid_row": null,
       "grid_template_areas": null,
       "grid_template_columns": null,
       "grid_template_rows": null,
       "height": null,
       "justify_content": null,
       "justify_items": null,
       "left": null,
       "margin": null,
       "max_height": null,
       "max_width": null,
       "min_height": null,
       "min_width": null,
       "object_fit": null,
       "object_position": null,
       "order": null,
       "overflow": null,
       "overflow_x": null,
       "overflow_y": null,
       "padding": null,
       "right": null,
       "top": null,
       "visibility": null,
       "width": null
      }
     },
     "faabfdde0ab449918a3ddcbb8e37dc17": {
      "model_module": "@jupyter-widgets/controls",
      "model_module_version": "1.5.0",
      "model_name": "DescriptionStyleModel",
      "state": {
       "_model_module": "@jupyter-widgets/controls",
       "_model_module_version": "1.5.0",
       "_model_name": "DescriptionStyleModel",
       "_view_count": null,
       "_view_module": "@jupyter-widgets/base",
       "_view_module_version": "1.2.0",
       "_view_name": "StyleView",
       "description_width": ""
      }
     },
     "fc24a7a2d3a24561aef4514ac40e363d": {
      "model_module": "@jupyter-widgets/controls",
      "model_module_version": "1.5.0",
      "model_name": "DescriptionStyleModel",
      "state": {
       "_model_module": "@jupyter-widgets/controls",
       "_model_module_version": "1.5.0",
       "_model_name": "DescriptionStyleModel",
       "_view_count": null,
       "_view_module": "@jupyter-widgets/base",
       "_view_module_version": "1.2.0",
       "_view_name": "StyleView",
       "description_width": ""
      }
     },
     "fca949c8d87949fdb9f548e3e3169357": {
      "model_module": "@jupyter-widgets/controls",
      "model_module_version": "1.5.0",
      "model_name": "ProgressStyleModel",
      "state": {
       "_model_module": "@jupyter-widgets/controls",
       "_model_module_version": "1.5.0",
       "_model_name": "ProgressStyleModel",
       "_view_count": null,
       "_view_module": "@jupyter-widgets/base",
       "_view_module_version": "1.2.0",
       "_view_name": "StyleView",
       "bar_color": null,
       "description_width": ""
      }
     },
     "fdf52b014ecc425792d743cea6053677": {
      "model_module": "@jupyter-widgets/controls",
      "model_module_version": "1.5.0",
      "model_name": "HTMLModel",
      "state": {
       "_dom_classes": [],
       "_model_module": "@jupyter-widgets/controls",
       "_model_module_version": "1.5.0",
       "_model_name": "HTMLModel",
       "_view_count": null,
       "_view_module": "@jupyter-widgets/controls",
       "_view_module_version": "1.5.0",
       "_view_name": "HTMLView",
       "description": "",
       "description_tooltip": null,
       "layout": "IPY_MODEL_0d7e8400d2834d368e5589cb80ef116c",
       "placeholder": "​",
       "style": "IPY_MODEL_b50fd0ec2517474ca9fb28a710e84192",
       "value": "Downloading model.safetensors: 100%"
      }
     },
     "ff4d2d99faec4757b99dfaf5ddc88eee": {
      "model_module": "@jupyter-widgets/base",
      "model_module_version": "1.2.0",
      "model_name": "LayoutModel",
      "state": {
       "_model_module": "@jupyter-widgets/base",
       "_model_module_version": "1.2.0",
       "_model_name": "LayoutModel",
       "_view_count": null,
       "_view_module": "@jupyter-widgets/base",
       "_view_module_version": "1.2.0",
       "_view_name": "LayoutView",
       "align_content": null,
       "align_items": null,
       "align_self": null,
       "border": null,
       "bottom": null,
       "display": null,
       "flex": null,
       "flex_flow": null,
       "grid_area": null,
       "grid_auto_columns": null,
       "grid_auto_flow": null,
       "grid_auto_rows": null,
       "grid_column": null,
       "grid_gap": null,
       "grid_row": null,
       "grid_template_areas": null,
       "grid_template_columns": null,
       "grid_template_rows": null,
       "height": null,
       "justify_content": null,
       "justify_items": null,
       "left": null,
       "margin": null,
       "max_height": null,
       "max_width": null,
       "min_height": null,
       "min_width": null,
       "object_fit": null,
       "object_position": null,
       "order": null,
       "overflow": null,
       "overflow_x": null,
       "overflow_y": null,
       "padding": null,
       "right": null,
       "top": null,
       "visibility": null,
       "width": null
      }
     },
     "ffe10acab6014c95ad95c6e72a3dc92f": {
      "model_module": "@jupyter-widgets/controls",
      "model_module_version": "1.5.0",
      "model_name": "FloatProgressModel",
      "state": {
       "_dom_classes": [],
       "_model_module": "@jupyter-widgets/controls",
       "_model_module_version": "1.5.0",
       "_model_name": "FloatProgressModel",
       "_view_count": null,
       "_view_module": "@jupyter-widgets/controls",
       "_view_module_version": "1.5.0",
       "_view_name": "ProgressView",
       "bar_style": "success",
       "description": "",
       "description_tooltip": null,
       "layout": "IPY_MODEL_2379ea4b432e4f8594df3f532045b568",
       "max": 483,
       "min": 0,
       "orientation": "horizontal",
       "style": "IPY_MODEL_803822042e3b493e8b88ffa3f67cdb5e",
       "value": 483
      }
     }
    },
    "version_major": 2,
    "version_minor": 0
   }
  }
 },
 "nbformat": 4,
 "nbformat_minor": 5
}
